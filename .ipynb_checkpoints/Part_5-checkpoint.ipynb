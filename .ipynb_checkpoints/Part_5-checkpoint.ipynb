{
 "cells": [
  {
   "cell_type": "markdown",
   "id": "bc91b6c7",
   "metadata": {},
   "source": [
    "# <center><b> **$\\color{brown}{\\text {INTRODUCTION À}}$** </b> </center>\n",
    "![Logo de pandas](https://pandas.pydata.org/docs/_static/pandas.svg)\n",
    "Tutoriel sur [pandas](http://pandas.pydata.org/) ([documentation](http://pandas.pydata.org/pandas-docs/stable/index.html)), bibliothèque python permettant d'analyser et d'interroger rapidement des données; particulièrement utile lorsqu'on a des fichiers volumineux qu'un tableur comme *Excel*, *Calc* ou *Google Sheets* a de la difficulté à avaler.<br>\n",
    "<hr>"
   ]
  },
  {
   "cell_type": "markdown",
   "id": "e4beb2c3",
   "metadata": {},
   "source": [
    "Toujours on commence par importer les modules dont nous aurons besoin. On leur donne même un surnom. C'est ainsi que **```pandas```** devient **```pd```**, par exemple.\n",
    "<br>"
   ]
  },
  {
   "cell_type": "code",
   "execution_count": 44,
   "id": "b96972ed",
   "metadata": {},
   "outputs": [],
   "source": [
    "import pandas as pd\n",
    "import numpy as np\n",
    "import matplotlib.pyplot as plt"
   ]
  },
  {
   "cell_type": "markdown",
   "id": "46c0cf66",
   "metadata": {},
   "source": [
    "Ci-dessous, on lit [le fichier que je vous ai donnés ```sample.txt```](https://drive.google.com/drive/folders/1MDUCDkuu3Gqig60vARxtCIEwpgSogerf).<br>\n",
    "On le met dans une variable ```df```. <br>\n",
    "Pour pandas, cette structure de données, qui consiste en un tableau, est appelé un _**dataframe**_.<br>"
   ]
  },
  {
   "cell_type": "code",
   "execution_count": 27,
   "id": "d6c1581a",
   "metadata": {},
   "outputs": [],
   "source": [
    "df = pd.read_csv(\"./data/sample.txt\", sep = \" \", header = 0)"
   ]
  },
  {
   "cell_type": "markdown",
   "id": "b26fec4a",
   "metadata": {},
   "source": [
    "Pour connaître le type des variables que contient notre tableau, on peut utiliser la fonction ```.dtypes```.<p>\n",
    "Dans pandas, les principaux types de variables sont&nbsp;:\n",
    "\n",
    "* ```int``` -> nombres entiers\n",
    "* ```float``` -> nombres décimaux\n",
    "* ```object``` -> chaînes de caractères\n",
    "* ```datetime``` -> dates\n",
    "* ```bool``` -> vrai ou faux\n",
    "\n",
    "Ces types sont parfois suivis d'un nombre qui indique la taille, en caractères, maximale des variables de ce type."
   ]
  },
  {
   "cell_type": "code",
   "execution_count": 50,
   "id": "0dcd8a9d",
   "metadata": {},
   "outputs": [
    {
     "data": {
      "text/plain": [
       "lambda    float64\n",
       "flux      float64\n",
       "err       float64\n",
       "dtype: object"
      ]
     },
     "execution_count": 50,
     "metadata": {},
     "output_type": "execute_result"
    }
   ],
   "source": [
    "df.dtypes"
   ]
  },
  {
   "cell_type": "markdown",
   "id": "58de738e",
   "metadata": {},
   "source": [
    "## Exploration simple de nos données\n",
    "-----"
   ]
  },
  {
   "cell_type": "markdown",
   "id": "d8f0c7dd",
   "metadata": {},
   "source": [
    "Pour afficher simplement le contenu de notre variable, il n'est pas nécessaire d'écrire `print(df)`.\n",
    "Écrire le nom de la variable suffit.\n",
    "Cela produit un immense tableau de notre fichier."
   ]
  },
  {
   "cell_type": "code",
   "execution_count": null,
   "id": "b3841563",
   "metadata": {},
   "outputs": [],
   "source": [
    "df"
   ]
  },
  {
   "cell_type": "markdown",
   "id": "dea360c5",
   "metadata": {},
   "source": [
    "Pour avoir un aperçu des dimensions de de votre tableau, utilisez plutôt la fonction ```.shape```."
   ]
  },
  {
   "cell_type": "code",
   "execution_count": 13,
   "id": "de28a0d3",
   "metadata": {},
   "outputs": [
    {
     "data": {
      "text/plain": [
       "(3424, 4)"
      ]
     },
     "execution_count": 13,
     "metadata": {},
     "output_type": "execute_result"
    }
   ],
   "source": [
    "df.shape"
   ]
  },
  {
   "cell_type": "markdown",
   "id": "8e1008d6",
   "metadata": {},
   "source": [
    "Pour consulter les premières ou les dernières lignes de votre tableau, vous pouvez vous servir de fonctions  ```.head()``` et ```.tail()```."
   ]
  },
  {
   "cell_type": "code",
   "execution_count": 28,
   "id": "a42cad05",
   "metadata": {},
   "outputs": [
    {
     "data": {
      "text/html": [
       "<div>\n",
       "<style scoped>\n",
       "    .dataframe tbody tr th:only-of-type {\n",
       "        vertical-align: middle;\n",
       "    }\n",
       "\n",
       "    .dataframe tbody tr th {\n",
       "        vertical-align: top;\n",
       "    }\n",
       "\n",
       "    .dataframe thead th {\n",
       "        text-align: right;\n",
       "    }\n",
       "</style>\n",
       "<table border=\"1\" class=\"dataframe\">\n",
       "  <thead>\n",
       "    <tr style=\"text-align: right;\">\n",
       "      <th></th>\n",
       "      <th>lambda(angstroms)</th>\n",
       "      <th>flux(ergs^-1cm^-2a^-1)</th>\n",
       "      <th>err(ergs^-1cm^-2a^-1)</th>\n",
       "      <th>tem</th>\n",
       "    </tr>\n",
       "  </thead>\n",
       "  <tbody>\n",
       "    <tr>\n",
       "      <th>0</th>\n",
       "      <td>3637.390</td>\n",
       "      <td>0.314</td>\n",
       "      <td>0.000</td>\n",
       "      <td>54.029</td>\n",
       "    </tr>\n",
       "    <tr>\n",
       "      <th>1</th>\n",
       "      <td>3638.227</td>\n",
       "      <td>0.717</td>\n",
       "      <td>0.000</td>\n",
       "      <td>53.619</td>\n",
       "    </tr>\n",
       "    <tr>\n",
       "      <th>2</th>\n",
       "      <td>3639.065</td>\n",
       "      <td>1.482</td>\n",
       "      <td>0.000</td>\n",
       "      <td>52.849</td>\n",
       "    </tr>\n",
       "    <tr>\n",
       "      <th>3</th>\n",
       "      <td>3639.903</td>\n",
       "      <td>0.798</td>\n",
       "      <td>7.011</td>\n",
       "      <td>53.527</td>\n",
       "    </tr>\n",
       "    <tr>\n",
       "      <th>4</th>\n",
       "      <td>3640.741</td>\n",
       "      <td>0.506</td>\n",
       "      <td>7.032</td>\n",
       "      <td>56.245</td>\n",
       "    </tr>\n",
       "  </tbody>\n",
       "</table>\n",
       "</div>"
      ],
      "text/plain": [
       "   lambda(angstroms)  flux(ergs^-1cm^-2a^-1)  err(ergs^-1cm^-2a^-1)     tem\n",
       "0           3637.390                   0.314                  0.000  54.029\n",
       "1           3638.227                   0.717                  0.000  53.619\n",
       "2           3639.065                   1.482                  0.000  52.849\n",
       "3           3639.903                   0.798                  7.011  53.527\n",
       "4           3640.741                   0.506                  7.032  56.245"
      ]
     },
     "execution_count": 28,
     "metadata": {},
     "output_type": "execute_result"
    }
   ],
   "source": [
    "df.head()"
   ]
  },
  {
   "cell_type": "code",
   "execution_count": 29,
   "id": "788933f1",
   "metadata": {},
   "outputs": [
    {
     "data": {
      "text/html": [
       "<div>\n",
       "<style scoped>\n",
       "    .dataframe tbody tr th:only-of-type {\n",
       "        vertical-align: middle;\n",
       "    }\n",
       "\n",
       "    .dataframe tbody tr th {\n",
       "        vertical-align: top;\n",
       "    }\n",
       "\n",
       "    .dataframe thead th {\n",
       "        text-align: right;\n",
       "    }\n",
       "</style>\n",
       "<table border=\"1\" class=\"dataframe\">\n",
       "  <thead>\n",
       "    <tr style=\"text-align: right;\">\n",
       "      <th></th>\n",
       "      <th>lambda(angstroms)</th>\n",
       "      <th>flux(ergs^-1cm^-2a^-1)</th>\n",
       "      <th>err(ergs^-1cm^-2a^-1)</th>\n",
       "      <th>tem</th>\n",
       "    </tr>\n",
       "  </thead>\n",
       "  <tbody>\n",
       "    <tr>\n",
       "      <th>3419</th>\n",
       "      <td>7992.632</td>\n",
       "      <td>-0.276</td>\n",
       "      <td>1.560</td>\n",
       "      <td>65.696</td>\n",
       "    </tr>\n",
       "    <tr>\n",
       "      <th>3420</th>\n",
       "      <td>7994.473</td>\n",
       "      <td>1.017</td>\n",
       "      <td>1.593</td>\n",
       "      <td>66.559</td>\n",
       "    </tr>\n",
       "    <tr>\n",
       "      <th>3421</th>\n",
       "      <td>7996.314</td>\n",
       "      <td>-1.980</td>\n",
       "      <td>1.580</td>\n",
       "      <td>67.714</td>\n",
       "    </tr>\n",
       "    <tr>\n",
       "      <th>3422</th>\n",
       "      <td>7998.154</td>\n",
       "      <td>-2.038</td>\n",
       "      <td>1.563</td>\n",
       "      <td>67.388</td>\n",
       "    </tr>\n",
       "    <tr>\n",
       "      <th>3423</th>\n",
       "      <td>7999.997</td>\n",
       "      <td>0.616</td>\n",
       "      <td>1.583</td>\n",
       "      <td>65.228</td>\n",
       "    </tr>\n",
       "  </tbody>\n",
       "</table>\n",
       "</div>"
      ],
      "text/plain": [
       "      lambda(angstroms)  flux(ergs^-1cm^-2a^-1)  err(ergs^-1cm^-2a^-1)     tem\n",
       "3419           7992.632                  -0.276                  1.560  65.696\n",
       "3420           7994.473                   1.017                  1.593  66.559\n",
       "3421           7996.314                  -1.980                  1.580  67.714\n",
       "3422           7998.154                  -2.038                  1.563  67.388\n",
       "3423           7999.997                   0.616                  1.583  65.228"
      ]
     },
     "execution_count": 29,
     "metadata": {},
     "output_type": "execute_result"
    }
   ],
   "source": [
    "df.tail()"
   ]
  },
  {
   "cell_type": "markdown",
   "id": "cdf24363",
   "metadata": {},
   "source": [
    "Pour consulter un intervalle précis de lignes, vous pouvez vous servir des crochets. Vous reconnaissez cette syntaxe puisque pandas, c'est du python!<br>\n",
    "C'est ainsi que, ci-dessous, je demande à afficher les lignes 1000 à 1009 de mon fichier (comme en python, la limite supérieure est exclue de mon intervalle)."
   ]
  },
  {
   "cell_type": "code",
   "execution_count": 30,
   "id": "8248c264",
   "metadata": {},
   "outputs": [
    {
     "data": {
      "text/html": [
       "<div>\n",
       "<style scoped>\n",
       "    .dataframe tbody tr th:only-of-type {\n",
       "        vertical-align: middle;\n",
       "    }\n",
       "\n",
       "    .dataframe tbody tr th {\n",
       "        vertical-align: top;\n",
       "    }\n",
       "\n",
       "    .dataframe thead th {\n",
       "        text-align: right;\n",
       "    }\n",
       "</style>\n",
       "<table border=\"1\" class=\"dataframe\">\n",
       "  <thead>\n",
       "    <tr style=\"text-align: right;\">\n",
       "      <th></th>\n",
       "      <th>lambda(angstroms)</th>\n",
       "      <th>flux(ergs^-1cm^-2a^-1)</th>\n",
       "      <th>err(ergs^-1cm^-2a^-1)</th>\n",
       "      <th>tem</th>\n",
       "    </tr>\n",
       "  </thead>\n",
       "  <tbody>\n",
       "    <tr>\n",
       "      <th>1000</th>\n",
       "      <td>4579.202</td>\n",
       "      <td>3.484</td>\n",
       "      <td>2.113</td>\n",
       "      <td>63.361</td>\n",
       "    </tr>\n",
       "    <tr>\n",
       "      <th>1001</th>\n",
       "      <td>4580.256</td>\n",
       "      <td>1.509</td>\n",
       "      <td>2.093</td>\n",
       "      <td>63.193</td>\n",
       "    </tr>\n",
       "    <tr>\n",
       "      <th>1002</th>\n",
       "      <td>4581.312</td>\n",
       "      <td>1.347</td>\n",
       "      <td>2.088</td>\n",
       "      <td>63.090</td>\n",
       "    </tr>\n",
       "    <tr>\n",
       "      <th>1003</th>\n",
       "      <td>4582.366</td>\n",
       "      <td>-1.150</td>\n",
       "      <td>2.055</td>\n",
       "      <td>62.405</td>\n",
       "    </tr>\n",
       "    <tr>\n",
       "      <th>1004</th>\n",
       "      <td>4583.421</td>\n",
       "      <td>-0.679</td>\n",
       "      <td>2.068</td>\n",
       "      <td>62.923</td>\n",
       "    </tr>\n",
       "    <tr>\n",
       "      <th>1005</th>\n",
       "      <td>4584.477</td>\n",
       "      <td>0.957</td>\n",
       "      <td>2.092</td>\n",
       "      <td>63.194</td>\n",
       "    </tr>\n",
       "    <tr>\n",
       "      <th>1006</th>\n",
       "      <td>4585.533</td>\n",
       "      <td>1.507</td>\n",
       "      <td>2.104</td>\n",
       "      <td>63.126</td>\n",
       "    </tr>\n",
       "    <tr>\n",
       "      <th>1007</th>\n",
       "      <td>4586.589</td>\n",
       "      <td>1.000</td>\n",
       "      <td>2.101</td>\n",
       "      <td>61.933</td>\n",
       "    </tr>\n",
       "    <tr>\n",
       "      <th>1008</th>\n",
       "      <td>4587.645</td>\n",
       "      <td>-0.607</td>\n",
       "      <td>2.104</td>\n",
       "      <td>62.667</td>\n",
       "    </tr>\n",
       "  </tbody>\n",
       "</table>\n",
       "</div>"
      ],
      "text/plain": [
       "      lambda(angstroms)  flux(ergs^-1cm^-2a^-1)  err(ergs^-1cm^-2a^-1)     tem\n",
       "1000           4579.202                   3.484                  2.113  63.361\n",
       "1001           4580.256                   1.509                  2.093  63.193\n",
       "1002           4581.312                   1.347                  2.088  63.090\n",
       "1003           4582.366                  -1.150                  2.055  62.405\n",
       "1004           4583.421                  -0.679                  2.068  62.923\n",
       "1005           4584.477                   0.957                  2.092  63.194\n",
       "1006           4585.533                   1.507                  2.104  63.126\n",
       "1007           4586.589                   1.000                  2.101  61.933\n",
       "1008           4587.645                  -0.607                  2.104  62.667"
      ]
     },
     "execution_count": 30,
     "metadata": {},
     "output_type": "execute_result"
    }
   ],
   "source": [
    "df[1000:1009]"
   ]
  },
  {
   "cell_type": "markdown",
   "id": "ed868eb8",
   "metadata": {},
   "source": [
    "Pour faire afficher un nombre limité de colonnes, on peut ajouter une liste du nom des colonnes qu'on souhaite.<br>\n",
    "Il faut cependant le faire avec la fonction ```.loc```."
   ]
  },
  {
   "cell_type": "code",
   "execution_count": 31,
   "id": "9a8d4467",
   "metadata": {},
   "outputs": [
    {
     "data": {
      "text/html": [
       "<div>\n",
       "<style scoped>\n",
       "    .dataframe tbody tr th:only-of-type {\n",
       "        vertical-align: middle;\n",
       "    }\n",
       "\n",
       "    .dataframe tbody tr th {\n",
       "        vertical-align: top;\n",
       "    }\n",
       "\n",
       "    .dataframe thead th {\n",
       "        text-align: right;\n",
       "    }\n",
       "</style>\n",
       "<table border=\"1\" class=\"dataframe\">\n",
       "  <thead>\n",
       "    <tr style=\"text-align: right;\">\n",
       "      <th></th>\n",
       "      <th>lambda(angstroms)</th>\n",
       "      <th>flux(ergs^-1cm^-2a^-1)</th>\n",
       "    </tr>\n",
       "  </thead>\n",
       "  <tbody>\n",
       "    <tr>\n",
       "      <th>1000</th>\n",
       "      <td>4579.202</td>\n",
       "      <td>3.484</td>\n",
       "    </tr>\n",
       "    <tr>\n",
       "      <th>1001</th>\n",
       "      <td>4580.256</td>\n",
       "      <td>1.509</td>\n",
       "    </tr>\n",
       "    <tr>\n",
       "      <th>1002</th>\n",
       "      <td>4581.312</td>\n",
       "      <td>1.347</td>\n",
       "    </tr>\n",
       "    <tr>\n",
       "      <th>1003</th>\n",
       "      <td>4582.366</td>\n",
       "      <td>-1.150</td>\n",
       "    </tr>\n",
       "    <tr>\n",
       "      <th>1004</th>\n",
       "      <td>4583.421</td>\n",
       "      <td>-0.679</td>\n",
       "    </tr>\n",
       "  </tbody>\n",
       "</table>\n",
       "</div>"
      ],
      "text/plain": [
       "      lambda(angstroms)  flux(ergs^-1cm^-2a^-1)\n",
       "1000           4579.202                   3.484\n",
       "1001           4580.256                   1.509\n",
       "1002           4581.312                   1.347\n",
       "1003           4582.366                  -1.150\n",
       "1004           4583.421                  -0.679"
      ]
     },
     "execution_count": 31,
     "metadata": {},
     "output_type": "execute_result"
    }
   ],
   "source": [
    "df.loc[1000:1004, [\"lambda(angstroms)\",\"flux(ergs^-1cm^-2a^-1)\"]]"
   ]
  },
  {
   "cell_type": "markdown",
   "id": "deb8744c",
   "metadata": {},
   "source": [
    "On peut aussi utiliser, au lieu du nom des colonnes, le numéro d'index des colonnes qu'on souhaite afficher.<br>\n",
    "Il faut alors utiliser la fonction ```.iloc```"
   ]
  },
  {
   "cell_type": "code",
   "execution_count": 34,
   "id": "f1effaed",
   "metadata": {},
   "outputs": [
    {
     "data": {
      "text/html": [
       "<div>\n",
       "<style scoped>\n",
       "    .dataframe tbody tr th:only-of-type {\n",
       "        vertical-align: middle;\n",
       "    }\n",
       "\n",
       "    .dataframe tbody tr th {\n",
       "        vertical-align: top;\n",
       "    }\n",
       "\n",
       "    .dataframe thead th {\n",
       "        text-align: right;\n",
       "    }\n",
       "</style>\n",
       "<table border=\"1\" class=\"dataframe\">\n",
       "  <thead>\n",
       "    <tr style=\"text-align: right;\">\n",
       "      <th></th>\n",
       "      <th>lambda(angstroms)</th>\n",
       "      <th>flux(ergs^-1cm^-2a^-1)</th>\n",
       "    </tr>\n",
       "  </thead>\n",
       "  <tbody>\n",
       "    <tr>\n",
       "      <th>1000</th>\n",
       "      <td>4579.202</td>\n",
       "      <td>3.484</td>\n",
       "    </tr>\n",
       "    <tr>\n",
       "      <th>1001</th>\n",
       "      <td>4580.256</td>\n",
       "      <td>1.509</td>\n",
       "    </tr>\n",
       "    <tr>\n",
       "      <th>1002</th>\n",
       "      <td>4581.312</td>\n",
       "      <td>1.347</td>\n",
       "    </tr>\n",
       "    <tr>\n",
       "      <th>1003</th>\n",
       "      <td>4582.366</td>\n",
       "      <td>-1.150</td>\n",
       "    </tr>\n",
       "  </tbody>\n",
       "</table>\n",
       "</div>"
      ],
      "text/plain": [
       "      lambda(angstroms)  flux(ergs^-1cm^-2a^-1)\n",
       "1000           4579.202                   3.484\n",
       "1001           4580.256                   1.509\n",
       "1002           4581.312                   1.347\n",
       "1003           4582.366                  -1.150"
      ]
     },
     "execution_count": 34,
     "metadata": {},
     "output_type": "execute_result"
    }
   ],
   "source": [
    "df.iloc[1000:1004,0:2]"
   ]
  },
  {
   "cell_type": "markdown",
   "id": "cd3e6c45",
   "metadata": {},
   "source": [
    "## Opérations sur les colonnes\n",
    "-----"
   ]
  },
  {
   "cell_type": "markdown",
   "id": "b4bcce4f",
   "metadata": {},
   "source": [
    "Il est souvent utile de connaître le nom des colonnes de notre fichier.<br>\n",
    "Pour ce faire, entrez la fonction ```.columns```."
   ]
  },
  {
   "cell_type": "code",
   "execution_count": 35,
   "id": "79b21ba9",
   "metadata": {},
   "outputs": [
    {
     "data": {
      "text/plain": [
       "Index(['lambda(angstroms)', 'flux(ergs^-1cm^-2a^-1)', 'err(ergs^-1cm^-2a^-1)',\n",
       "       'tem'],\n",
       "      dtype='object')"
      ]
     },
     "execution_count": 35,
     "metadata": {},
     "output_type": "execute_result"
    }
   ],
   "source": [
    "df.columns"
   ]
  },
  {
   "cell_type": "markdown",
   "id": "5cd1e6c0",
   "metadata": {},
   "source": [
    "Vous remarquez que le nom de chaque colonne se trouve dans une liste. On peut se servir de cette liste pour renommer nos colonnes dans le cas où elles ont des noms longue. Il suffit de dire que ```df.columns``` est égal à une liste dans laquelle on mettra nos nouveaux noms de colonnes.<br>\n",
    "C'est ainsi que la commande ci-dessous, par exemple, me permet de rebaptiser les colonnes ```lambda(angstroms)```, ```flux(ergs^-1cm^-2a^-1)``` et ```err(ergs^-1cm^-2a^-1)``` par ```lambda```, ```flux``` et ```err```."
   ]
  },
  {
   "cell_type": "code",
   "execution_count": 36,
   "id": "9e702eab",
   "metadata": {},
   "outputs": [],
   "source": [
    "df.columns = ['lambda', 'flux', 'err', 'tem']"
   ]
  },
  {
   "cell_type": "markdown",
   "id": "a45f2c96",
   "metadata": {},
   "source": [
    "En invoquant la fonction ```.columns```, je constate que le nom de la colonne a changé."
   ]
  },
  {
   "cell_type": "code",
   "execution_count": 37,
   "id": "3e6d0383",
   "metadata": {},
   "outputs": [
    {
     "data": {
      "text/plain": [
       "Index(['lambda', 'flux', 'err', 'tem'], dtype='object')"
      ]
     },
     "execution_count": 37,
     "metadata": {},
     "output_type": "execute_result"
    }
   ],
   "source": [
    "df.columns"
   ]
  },
  {
   "cell_type": "markdown",
   "id": "c2a8f0d9",
   "metadata": {},
   "source": [
    "Ce n'est pas le cas ici, mais il arrive fréquemment, lorsqu'on travaille avec des données ouvertes, qu'il y a beaucoup de colonnes. Cela peut rendre les données difficiles à lire, sans compter que ça peut taxer la mémoire de notre ordi. Il est possible de supprimer des colonnes contenant des informations superflues.\n",
    "\n",
    "Si, par exemple, dans notre fichier, vous souhaitiez vous débarasser de la colonne ```tem```, ce serait avec la fonction ```.drop()``` que vous vous y prendriez.\n",
    "\n",
    "Cette fonction prend deux arguments. Le premier est la colonne (ou les colonnes) que vous souhaitez rayer de la surface de la Terre. Lorsqu'il y a plusieurs colonnes, il faut les mettre dans une liste&nbsp;: ```[\"colonne_1\", \"colonne_2\", \"colonne_3\"]```. Le second indique si ce sont des colonnes que vous souhaitez supprimer ou des lignes. Dans le cas de colonnes, l'argument doit être ```1```, dans le cas de lignes, c'est ```0```. "
   ]
  },
  {
   "cell_type": "code",
   "execution_count": 38,
   "id": "390bc90d",
   "metadata": {},
   "outputs": [],
   "source": [
    "df = df.drop('tem',1)"
   ]
  },
  {
   "cell_type": "code",
   "execution_count": 40,
   "id": "528b5a07",
   "metadata": {},
   "outputs": [],
   "source": [
    "df"
   ]
  },
  {
   "cell_type": "markdown",
   "id": "12f37fe7",
   "metadata": {},
   "source": [
    "# Lecture de données\n",
    "-----"
   ]
  },
  {
   "cell_type": "markdown",
   "id": "890f63b3",
   "metadata": {},
   "source": [
    "Maintenant on peut lire nos donées et faire quelque opérations simple"
   ]
  },
  {
   "cell_type": "code",
   "execution_count": 48,
   "id": "27ce9aba",
   "metadata": {},
   "outputs": [
    {
     "name": "stdout",
     "output_type": "stream",
     "text": [
      "0       0.314\n",
      "1       0.717\n",
      "2       1.482\n",
      "3       0.798\n",
      "4       0.506\n",
      "        ...  \n",
      "3419   -0.276\n",
      "3420    1.017\n",
      "3421   -1.980\n",
      "3422   -2.038\n",
      "3423    0.616\n",
      "Name: flux, Length: 3424, dtype: float64\n"
     ]
    }
   ],
   "source": [
    "l = df['lambda']\n",
    "f = df['flux']\n",
    "#print(f)"
   ]
  },
  {
   "cell_type": "code",
   "execution_count": 49,
   "id": "6ba9c3f0",
   "metadata": {},
   "outputs": [
    {
     "data": {
      "text/plain": [
       "Text(0, 0.5, 'Flux')"
      ]
     },
     "execution_count": 49,
     "metadata": {},
     "output_type": "execute_result"
    },
    {
     "data": {
      "image/png": "[encoded data removed]",
      "text/plain": [
       "<Figure size 432x288 with 1 Axes>"
      ]
     },
     "metadata": {
      "needs_background": "light"
     },
     "output_type": "display_data"
    }
   ],
   "source": [
    "plt.plot(l,f, color='r')\n",
    "plt.xlabel('lambda')\n",
    "plt.ylabel('Flux')"
   ]
  },
  {
   "cell_type": "markdown",
   "id": "6be03ba3",
   "metadata": {},
   "source": [
    "#### Voilà! J'espère que, grâce à pandas, vous aurez un peu de plaisir à explorer vos données!"
   ]
  },
  {
   "cell_type": "markdown",
   "id": "218cf56a",
   "metadata": {},
   "source": [
    "<!--NAVIGATION-->\n",
    "<  [La bibliothèque Pandas](Part_5.ipynb) | [Sommaire](Intro_Phyton_Master.ipynb) >"
   ]
  }
 ],
 "metadata": {
  "kernelspec": {
   "display_name": "Python 3",
   "language": "python",
   "name": "python3"
  },
  "language_info": {
   "codemirror_mode": {
    "name": "ipython",
    "version": 3
   },
   "file_extension": ".py",
   "mimetype": "text/x-python",
   "name": "python",
   "nbconvert_exporter": "python",
   "pygments_lexer": "ipython3",
   "version": "3.8.5"
  }
 },
 "nbformat": 4,
 "nbformat_minor": 5
}
