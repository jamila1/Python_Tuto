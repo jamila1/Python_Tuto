{
 "cells": [
  {
   "cell_type": "markdown",
   "id": "87f1657f",
   "metadata": {},
   "source": [
    "# <a href=\"https://www.uca.ma/\"><img src=\"un.png\" style=\"max-width: 90px; display: inline\"/></a>  <a href=\"https://www.python.org/\"><img src=\"https://upload.wikimedia.org/wikipedia/commons/thumb/f/f8/Python_logo_and_wordmark.svg/390px-Python_logo_and_wordmark.svg.png\" style=\"max-width: 90px; display: inline\" alt=\"Python\"/></a> [Science des Données](https://docs.python.org/3/) <img src=\"labo.png\" style=\"max-width: 120px; display: inline\"/>"
   ]
  },
  {
   "cell_type": "markdown",
   "id": "c96d73a1",
   "metadata": {},
   "source": [
    "# Introduction à <a href=\"https://www.python.org/\"><img src=\"https://upload.wikimedia.org/wikipedia/commons/thumb/f/f8/Python_logo_and_wordmark.svg/390px-Python_logo_and_wordmark.svg.png\" style=\"max-width: 150px; display: inline\" alt=\"Python\"/></a> Pour Calcul Scientifique \n",
    "\n",
    "$\\color{red}{\\text{By Chouqar Jamila & Loutfi Amal}}$  \n",
    "__[LPHEA lab, Cadi Ayad University](https://www.uca.ma/)__<br>  \n",
    "\n",
    "\n",
    "Contact : jamilachaw@gmail.com  \n",
    "&emsp;&emsp;&emsp;&emsp;   loutifi.amal@gmail.com"
   ]
  },
  {
   "cell_type": "markdown",
   "id": "f622b11e",
   "metadata": {},
   "source": [
    "# $\\color{red}{\\text{Le Contenu du Cours:}}$\n",
    "## Chapitre I\n",
    "### __[Leçon 1 : Variables, Chaînes, Opérateurs](Part_1.ipynb)__\n",
    "### __[Leçon 2 : Conditions et Boucles](Part_2.ipynb)__\n",
    "### __[Exercices](Serie_1.ipynb)__\n",
    "## Chapitre II\n",
    "### __[Leçon 3 : Fonctions et Modules](Part_3.ipynb)__\n",
    "### __[Exercices](Serie_2.ipynb)__\n",
    "## Chapitre III\n",
    "### __[Leçon 4 : Les Fichiers](Part_4.ipynb)__\n",
    "### __[Leçon 5 : La bibliothèque Pandas](Part_5.ipynb)__\n",
    "### __[Exercices](Serie_3.ipynb)__\n",
    "## Chapitre IV\n",
    "### __[Leçon 6 : Interface Graphique Tkinter ](Part_6.ipynb)__\n",
    "### __[Exercices](Serie_4.ipynb)__\n",
    "\n",
    "<br>\n",
    "<br>\n"
   ]
  }
 ],
 "metadata": {
  "kernelspec": {
   "display_name": "Python 3",
   "language": "python",
   "name": "python3"
  },
  "language_info": {
   "codemirror_mode": {
    "name": "ipython",
    "version": 3
   },
   "file_extension": ".py",
   "mimetype": "text/x-python",
   "name": "python",
   "nbconvert_exporter": "python",
   "pygments_lexer": "ipython3",
   "version": "3.8.5"
  }
 },
 "nbformat": 4,
 "nbformat_minor": 5
}
