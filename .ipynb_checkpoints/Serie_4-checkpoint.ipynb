{
 "cells": [
  {
   "cell_type": "markdown",
   "metadata": {},
   "source": [
    "# Série 4 : GUI  Avec Tkinter"
   ]
  },
  {
   "cell_type": "code",
   "execution_count": null,
   "metadata": {},
   "outputs": [],
   "source": [
    "import tkinter as tk\n",
    "from tkinter import filedialog as fd\n",
    "from tkinter.messagebox import showinfo\n",
    "from matplotlib.figure import Figure \n",
    "from matplotlib.backends.backend_tkagg import (FigureCanvasTkAgg, NavigationToolbar2Tk) \n",
    "import numpy as np\n",
    "import pandas as pd\n",
    "import matplotlib.pyplot as plt"
   ]
  },
  {
   "cell_type": "markdown",
   "metadata": {},
   "source": [
    "# Exercice 1"
   ]
  },
  {
   "cell_type": "code",
   "execution_count": null,
   "metadata": {},
   "outputs": [],
   "source": [
    "# fenetre principale\n",
    "root = tk.Tk()\n",
    "root.title('Afficher un fichier texte')\n",
    "root.resizable(False, False)\n",
    "root.geometry('550x250')\n",
    "\n",
    "# edition de text\n",
    "text = tk.Text(root, height=12)\n",
    "text.grid(column=0, row=0, sticky='nsew')\n",
    "\n",
    "\n",
    "def open_text_file():\n",
    "    # le type de fichier\n",
    "    filetypes = (('text files', '*.txt'),('All files', '*.*'))\n",
    "    # montrer le fichier\n",
    "    f = fd.askopenfile(filetypes=filetypes)\n",
    "    # lire le fichier texte et afficher son contenu sur le texte\n",
    "    text.insert('1.0', f.readlines())\n",
    "\n",
    "\n",
    "# bouton pour ouvrir un fichier\n",
    "button1 = tk.Button(root, text='ouvrir un fichier', command=open_text_file)\n",
    "button1.grid(column=0, row=1, padx=10, pady=10)\n",
    "\n",
    "# lancer le programe\n",
    "root.mainloop()"
   ]
  },
  {
   "cell_type": "markdown",
   "metadata": {},
   "source": [
    "Dans cet exemple, `.grid()` est utilisé pour positionner les boutons en fonction des coordonnées de ligne et de colonne"
   ]
  },
  {
   "cell_type": "markdown",
   "metadata": {},
   "source": [
    "# Exercice 2\n"
   ]
  },
  {
   "cell_type": "code",
   "execution_count": null,
   "metadata": {},
   "outputs": [],
   "source": [
    "# créer la fenetere principale\n",
    "root = tk.Tk()\n",
    "root.title('Ouverture des fichiers')\n",
    "root.resizable(False, False)\n",
    "root.geometry('300x150')\n",
    "\n",
    "\n",
    "def select_file():\n",
    "    filetypes = (('text files', '*.txt'), ('All files', '*.*'))\n",
    "\n",
    "    filename = fd.askopenfilename(title='ouvrir un fichier', initialdir='/home/jamila/', filetypes=filetypes)\n",
    "\n",
    "    showinfo(title='Selected File', message=filename)\n",
    "\n",
    "\n",
    "# ouvrir le bouton\n",
    "button = tk.Button(root, text='ouvrir un fichier', command=select_file)\n",
    "button.pack(expand=True)\n",
    "\n",
    "\n",
    "# lancer l'application\n",
    "root.mainloop()"
   ]
  },
  {
   "cell_type": "markdown",
   "metadata": {},
   "source": [
    "<!--NAVIGATION-->\n",
    "<  [Exercices:Serie_4](Serie_4.ipynb) | [Sommaire](Intro_Phyton_Master.ipynb) >"
   ]
  }
 ],
 "metadata": {
  "kernelspec": {
   "display_name": "Python 3",
   "language": "python",
   "name": "python3"
  },
  "language_info": {
   "codemirror_mode": {
    "name": "ipython",
    "version": 3
   },
   "file_extension": ".py",
   "mimetype": "text/x-python",
   "name": "python",
   "nbconvert_exporter": "python",
   "pygments_lexer": "ipython3",
   "version": "3.8.5"
  }
 },
 "nbformat": 4,
 "nbformat_minor": 2
}
