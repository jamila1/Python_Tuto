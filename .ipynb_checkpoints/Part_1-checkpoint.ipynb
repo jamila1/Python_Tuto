{
 "cells": [
  {
   "cell_type": "markdown",
   "metadata": {
    "id": "-Um9Od5M2rAb"
   },
   "source": [
    "# Avant-propos\n",
    "\n",
    "Phython est un languages de programmation open source multi-plateformes et orienté objet. Grâce à des bibliothèques spécialisées, Python s'utilise pour de nombreuses situations comme le développement logiciel, l'analyse de données, ou la gestion d'infrastructures. Il n'est donc pas, comme le langage HTML par exemple, uniquement dédié à la programmation web."
   ]
  },
  {
   "cell_type": "markdown",
   "metadata": {
    "id": "NE7c4md_33TD"
   },
   "source": [
    "# Table des matières\n",
    "\n",
    "1.   Les types des variables\n",
    "\n",
    "       - Le type int (integer : nombres entiers)\n",
    "       - Le type float (nombres en virgule flottante)\n",
    "       - Le type bool (booléen)\n",
    "       - Le type str(string : chaîne de caractères)\n",
    "\n",
    "\n",
    "2.   Les listes\n",
    "\n",
    "3.   Les Dictionnaires\n",
    "4.   Les commentaires\n",
    "5.   La fonction input()\n",
    "6.  Opérateurs numérique\n",
    "7.  Opérateurs de comparaison\n",
    "8.  Opérateurs logique\n",
    "\n",
    "\n",
    "\n",
    "\n",
    "\n",
    "\n",
    "\n",
    "\n",
    "\n"
   ]
  },
  {
   "cell_type": "markdown",
   "metadata": {
    "id": "sjB58VXcP0en"
   },
   "source": [
    "# **Les types des variables**\n",
    "## 1- Le type int (integer : nombres entiers)"
   ]
  },
  {
   "cell_type": "code",
   "execution_count": null,
   "metadata": {
    "colab": {
     "base_uri": "https://localhost:8080/"
    },
    "executionInfo": {
     "elapsed": 27,
     "status": "ok",
     "timestamp": 1649639891759,
     "user": {
      "displayName": "PHE APC",
      "userId": "02415328306550162043"
     },
     "user_tz": 0
    },
    "id": "vqk8-DX85vp5",
    "outputId": "6cf3e3c8-7964-407a-c319-b58d9d6acea3"
   },
   "outputs": [],
   "source": [
    "x = 3\n",
    "print(x) # La fonction print() affiche la valeur de la variable\n",
    "type(x) # La fonction type() retourne le type de la variable :"
   ]
  },
  {
   "cell_type": "markdown",
   "metadata": {
    "id": "Okd-RKKpQBeU"
   },
   "source": [
    "## 2- Le type float (nombres en virgule flottante)"
   ]
  },
  {
   "cell_type": "code",
   "execution_count": null,
   "metadata": {
    "colab": {
     "base_uri": "https://localhost:8080/"
    },
    "executionInfo": {
     "elapsed": 1164,
     "status": "ok",
     "timestamp": 1649639928229,
     "user": {
      "displayName": "PHE APC",
      "userId": "02415328306550162043"
     },
     "user_tz": 0
    },
    "id": "M1mF3IpM7SPF",
    "outputId": "9be61955-4e2b-4e56-838a-e6e0dfe3a80d"
   },
   "outputs": [],
   "source": [
    "y=2.5\n",
    "print(y) \n",
    "type(y)"
   ]
  },
  {
   "cell_type": "markdown",
   "metadata": {
    "id": "4saCQpliQmOz"
   },
   "source": [
    "## 3- Le type bool (booléen)"
   ]
  },
  {
   "cell_type": "markdown",
   "metadata": {
    "id": "_fmtlvVgWmrV"
   },
   "source": [
    "Deux valeurs sont possibles : True et False"
   ]
  },
  {
   "cell_type": "code",
   "execution_count": null,
   "metadata": {
    "id": "zHDSStti8N9g"
   },
   "outputs": [],
   "source": [
    "t = True\n",
    "print(t)\n",
    "type(t) "
   ]
  },
  {
   "cell_type": "markdown",
   "metadata": {
    "id": "Kyt0CandQtZC"
   },
   "source": [
    "# #4-Le type str(string : chaîne de caractères)"
   ]
  },
  {
   "cell_type": "code",
   "execution_count": null,
   "metadata": {
    "colab": {
     "base_uri": "https://localhost:8080/"
    },
    "executionInfo": {
     "elapsed": 53,
     "status": "ok",
     "timestamp": 1649640291212,
     "user": {
      "displayName": "PHE APC",
      "userId": "02415328306550162043"
     },
     "user_tz": 0
    },
    "id": "24T2oP2O-JqG",
    "outputId": "4f48c20f-582b-43a2-fc43-13f283b7bd43"
   },
   "outputs": [],
   "source": [
    "hello = 'hello'  \n",
    "world = \"world\"  \n",
    "print(hello)\n",
    "len(hello)"
   ]
  },
  {
   "cell_type": "code",
   "execution_count": null,
   "metadata": {
    "colab": {
     "base_uri": "https://localhost:8080/"
    },
    "executionInfo": {
     "elapsed": 389,
     "status": "ok",
     "timestamp": 1649640446062,
     "user": {
      "displayName": "PHE APC",
      "userId": "02415328306550162043"
     },
     "user_tz": 0
    },
    "id": "qIfRpiQv-Zw6",
    "outputId": "57d3b793-ee43-4e57-e1e9-56e31df755e6"
   },
   "outputs": [],
   "source": [
    "hw12 = '%s %s %d' % (hello, world, 12) \n",
    "print(hw12)"
   ]
  },
  {
   "cell_type": "code",
   "execution_count": null,
   "metadata": {
    "colab": {
     "base_uri": "https://localhost:8080/"
    },
    "executionInfo": {
     "elapsed": 307,
     "status": "ok",
     "timestamp": 1649640687221,
     "user": {
      "displayName": "PHE APC",
      "userId": "02415328306550162043"
     },
     "user_tz": 0
    },
    "id": "vLh0Z23A-PxQ",
    "outputId": "c26ea107-311c-4749-b688-3ee3673576d7"
   },
   "outputs": [],
   "source": [
    "hw = hello + ' ' + world \n",
    "print(hw)  # affiche \"hello world\""
   ]
  },
  {
   "cell_type": "markdown",
   "metadata": {
    "id": "FjNX5G3dQ3-I"
   },
   "source": [
    "Les objets String ont une variété de méthodes utiles, telles que :"
   ]
  },
  {
   "cell_type": "code",
   "execution_count": null,
   "metadata": {
    "colab": {
     "base_uri": "https://localhost:8080/"
    },
    "executionInfo": {
     "elapsed": 10,
     "status": "ok",
     "timestamp": 1649640759953,
     "user": {
      "displayName": "PHE APC",
      "userId": "02415328306550162043"
     },
     "user_tz": 0
    },
    "id": "vTaSo1f1-5yK",
    "outputId": "e80e002d-f401-46f5-b068-9027d4e16849"
   },
   "outputs": [],
   "source": [
    "s = \"hello\"\n",
    "print(s.capitalize())  # met une chaîne en majuscule; affiche \"Hello\"\n",
    "print(s.upper())       # Convertit une chaîne en majuscule; affiche \"HELLO\"\n",
    "print(s.replace('l', '(ell)'))  # Remplace toutes les instances d'une sous-chaîne par une autre; # affiche \"he(ell)(ell)o\"\n",
    "print('  world '.strip())  # supprime l'espace blanc; affiche \"world\""
   ]
  },
  {
   "cell_type": "markdown",
   "metadata": {
    "id": "y7tAnAcZS67f"
   },
   "source": [
    "# **Les listes**\n"
   ]
  },
  {
   "cell_type": "markdown",
   "metadata": {
    "id": "Ilt0-fq8TBEq"
   },
   "source": [
    "Une liste est une structure de données. Le premier élément d'une liste possède l'indice (l'index) 0. Dans une liste, on peut avoir des éléments de plusieurs types (int, float, str...)."
   ]
  },
  {
   "cell_type": "code",
   "execution_count": null,
   "metadata": {
    "id": "BI9E2m-DTRf9"
   },
   "outputs": [],
   "source": [
    "lis = ['Pierre', 'Dupont', 17, 1.75, 72.5]"
   ]
  },
  {
   "cell_type": "markdown",
   "metadata": {
    "id": "n8QL5U2XTgNK"
   },
   "source": [
    "la liste \"lis\" contient 5 éléments de types str, str, int, float et float"
   ]
  },
  {
   "cell_type": "code",
   "execution_count": null,
   "metadata": {
    "colab": {
     "base_uri": "https://localhost:8080/"
    },
    "executionInfo": {
     "elapsed": 454,
     "status": "ok",
     "timestamp": 1649644134238,
     "user": {
      "displayName": "PHE APC",
      "userId": "02415328306550162043"
     },
     "user_tz": 0
    },
    "id": "sysXf0nDTevc",
    "outputId": "6476a15d-fa9c-44be-f5aa-a7cd3d471cb3"
   },
   "outputs": [],
   "source": [
    "print(type(lis))"
   ]
  },
  {
   "cell_type": "code",
   "execution_count": null,
   "metadata": {
    "colab": {
     "base_uri": "https://localhost:8080/"
    },
    "executionInfo": {
     "elapsed": 433,
     "status": "ok",
     "timestamp": 1649644164098,
     "user": {
      "displayName": "PHE APC",
      "userId": "02415328306550162043"
     },
     "user_tz": 0
    },
    "id": "hc-w5wDETrEl",
    "outputId": "49bc9100-06db-4385-8329-1780c970e23d"
   },
   "outputs": [],
   "source": [
    "xs = [3, 1, 2]   # Créer une liste\n",
    "print(xs, xs[2])\n",
    "print(xs[-1]) # L'indice négatif compte à partir de la fin de la liste, affiche 2"
   ]
  },
  {
   "cell_type": "markdown",
   "metadata": {
    "id": "f-ycDaB9Uwn1"
   },
   "source": [
    "La fonction range() crée une liste d'entiers régulièrement espacés :\n",
    "\n"
   ]
  },
  {
   "cell_type": "code",
   "execution_count": null,
   "metadata": {
    "colab": {
     "base_uri": "https://localhost:8080/"
    },
    "executionInfo": {
     "elapsed": 298,
     "status": "ok",
     "timestamp": 1649644191520,
     "user": {
      "displayName": "PHE APC",
      "userId": "02415328306550162043"
     },
     "user_tz": 0
    },
    "id": "wKISaXMzUycJ",
    "outputId": "8591595a-3837-4cd8-c41d-3e204dfa53d6"
   },
   "outputs": [],
   "source": [
    "maliste = range(10)\n",
    "print(list(maliste))"
   ]
  },
  {
   "cell_type": "code",
   "execution_count": null,
   "metadata": {
    "colab": {
     "base_uri": "https://localhost:8080/"
    },
    "executionInfo": {
     "elapsed": 334,
     "status": "ok",
     "timestamp": 1649644209308,
     "user": {
      "displayName": "PHE APC",
      "userId": "02415328306550162043"
     },
     "user_tz": 0
    },
    "id": "eGVzgB0AU0x2",
    "outputId": "ce8b940e-820f-4eaf-deac-da56437d7bbe"
   },
   "outputs": [],
   "source": [
    "maliste = range(1,10,2) # on peut aussi determiner le pas de la liste\n",
    "print(list(maliste))"
   ]
  },
  {
   "cell_type": "markdown",
   "metadata": {
    "id": "EMX1gtZaVTxD"
   },
   "source": [
    "On peut créer une liste de listes, qui s'arente à un tableau à 2 dimensions (ligne, colonne) :\n",
    "\n",
    "0  1  2\n",
    "\n",
    "10 11 12\n",
    "\n",
    "20 21 22\n",
    "\n"
   ]
  },
  {
   "cell_type": "code",
   "execution_count": null,
   "metadata": {
    "colab": {
     "base_uri": "https://localhost:8080/"
    },
    "executionInfo": {
     "elapsed": 330,
     "status": "ok",
     "timestamp": 1649644430946,
     "user": {
      "displayName": "PHE APC",
      "userId": "02415328306550162043"
     },
     "user_tz": 0
    },
    "id": "uO2qpTYdVOih",
    "outputId": "2dd38e22-323d-48f6-e8d4-1735627e26dd"
   },
   "outputs": [],
   "source": [
    " maliste = [[0, 1, 2], [10, 11, 12], [20, 21, 22]]\n",
    " print(maliste[0])"
   ]
  },
  {
   "cell_type": "code",
   "execution_count": null,
   "metadata": {
    "colab": {
     "base_uri": "https://localhost:8080/"
    },
    "executionInfo": {
     "elapsed": 368,
     "status": "ok",
     "timestamp": 1649644461588,
     "user": {
      "displayName": "PHE APC",
      "userId": "02415328306550162043"
     },
     "user_tz": 0
    },
    "id": "J3qemWBOVgY8",
    "outputId": "bbf903de-6a53-4e0a-f0ba-f1e50672082f"
   },
   "outputs": [],
   "source": [
    "print(maliste[2][1]) # élément à la troisième ligne et deuxième colonne"
   ]
  },
  {
   "cell_type": "code",
   "execution_count": null,
   "metadata": {
    "id": "P5QvcSw8V1mL"
   },
   "outputs": [],
   "source": [
    "maliste[2][1] = 69   # nouvelle affectation \n",
    "print(maliste)"
   ]
  },
  {
   "cell_type": "markdown",
   "metadata": {
    "id": "gVrD3nf9c7K7"
   },
   "source": [
    "# **Les dictionnaires**\n",
    "Un dictionnaire stocke des données sous la forme clé ⇒ valeur\n",
    "Une clé est unique et n'est pas nécessairement un entier (comme c'est le cas de l'indice d'une liste)."
   ]
  },
  {
   "cell_type": "code",
   "execution_count": null,
   "metadata": {
    "colab": {
     "base_uri": "https://localhost:8080/"
    },
    "executionInfo": {
     "elapsed": 6,
     "status": "ok",
     "timestamp": 1649813786695,
     "user": {
      "displayName": "PHE APC",
      "userId": "02415328306550162043"
     },
     "user_tz": 0
    },
    "id": "u6LFXWYFV_30",
    "outputId": "05fb6486-5b5d-4dbd-94b9-5068072d8f03"
   },
   "outputs": [],
   "source": [
    "moyennes = {'math': 12.5, 'anglais': 15.8} # entre accolades\n",
    "print(type(moyennes))\n",
    "print(moyennes['anglais'])   # entre crochets\n",
    "moyennes['anglais'] = 14.3   # nouvelle affectation\n",
    "print(moyennes)"
   ]
  },
  {
   "cell_type": "markdown",
   "metadata": {
    "id": "P1yFA8UZkSOa"
   },
   "source": [
    "# Autres types:\n",
    "Nous avons vu les types les plus courants. Il en existe bien d'autres :\n",
    "\n",
    "§ complex (nombres complexes, par exemple 1+2.5j)\n",
    "\n",
    "§  tuple (structure de données)\n",
    "\n",
    "§  set (structure de données)\n",
    "\n",
    "§  file (fichiers)"
   ]
  },
  {
   "cell_type": "markdown",
   "metadata": {
    "id": "ria8g9wUrcJh"
   },
   "source": [
    "\n",
    "# Les Commentaires\n",
    "\n",
    "La dernière chose que vous devez savoir pour passer aux programmes multi-lignes est le commentaire. Tapez ce qui suit (et oui, la sortie est montrée) :"
   ]
  },
  {
   "cell_type": "code",
   "execution_count": null,
   "metadata": {
    "id": "AWY7giS4r4hE"
   },
   "outputs": [],
   "source": [
    "# Je suis un commentaire."
   ]
  },
  {
   "cell_type": "markdown",
   "metadata": {
    "id": "WD4SaLuSr4xS"
   },
   "source": [
    "Un commentaire est un morceau de code qui n'est pas exécuté. En Python, vous faites d'un élément un commentaire en le faisant précéder d'un dièse. Un dièse commente tout ce qui le suit dans la ligne, et rien avant."
   ]
  },
  {
   "cell_type": "markdown",
   "metadata": {
    "id": "Xl5CVk8EtBBY"
   },
   "source": [
    "# La fonction input()\n",
    "lance une invite de commande (en anglais : prompt) pour saisir une chaîne de caractères.\n"
   ]
  },
  {
   "cell_type": "code",
   "execution_count": null,
   "metadata": {
    "colab": {
     "base_uri": "https://localhost:8080/"
    },
    "executionInfo": {
     "elapsed": 4532,
     "status": "ok",
     "timestamp": 1649813954377,
     "user": {
      "displayName": "PHE APC",
      "userId": "02415328306550162043"
     },
     "user_tz": 0
    },
    "id": "nLUCACLMpITU",
    "outputId": "6c10d168-3c0e-4b33-fa34-1e932d76cedd"
   },
   "outputs": [],
   "source": [
    "# saisir une chaîne de caractères et valider avec la touche Enter\n",
    "n = input()\n",
    "print(type(n))\n",
    "nombre = int(n)# conversion de type\n",
    "print(nombre**2)"
   ]
  },
  {
   "cell_type": "markdown",
   "metadata": {
    "id": "Mpoa-ntQ6iBi"
   },
   "source": [
    "# Opérateurs numériques\n",
    "Les opérateurs permettent de réaliser des opérations sur les valeurs/objets. Les opérateurs numériques usuels sont :\n",
    "+ : addition\n",
    "- : soustraction\n",
    "* : multiplication\n",
    "*   / : division\n",
    "* % : modulo; permet d'obtenir le reste de la division entière.\n",
    "\n",
    "*  '**' : permet d'obtenir le carré du nombre entière\n",
    "\n"
   ]
  },
  {
   "cell_type": "markdown",
   "metadata": {
    "id": "jLcsSmQDWiYA"
   },
   "source": [
    "# Opérateurs de comparaison :\n",
    "\n",
    "< (>)            :            strictement inférieur (supérieur)\n",
    "\n",
    "<= (>=)          :              inférieur (supérieur) ou égal\n",
    "\n",
    "==               :            égal(Attention : deux signes ==)\n",
    "\n",
    "!=               :                différent\n"
   ]
  },
  {
   "cell_type": "code",
   "execution_count": null,
   "metadata": {
    "id": "TsGqYAja9g_O"
   },
   "outputs": [],
   "source": [
    "b = 10\n",
    "print(b > 8)\n",
    "print(b == 5)\n",
    "print(b != 10)\n",
    "print(0 <= b <= 20)"
   ]
  },
  {
   "cell_type": "markdown",
   "metadata": {
    "id": "VNFGjxUMbzGa"
   },
   "source": [
    "#Opérateurs logiques : \n",
    "and, or, not\n"
   ]
  },
  {
   "cell_type": "code",
   "execution_count": null,
   "metadata": {
    "colab": {
     "base_uri": "https://localhost:8080/"
    },
    "executionInfo": {
     "elapsed": 456,
     "status": "ok",
     "timestamp": 1649814062591,
     "user": {
      "displayName": "PHE APC",
      "userId": "02415328306550162043"
     },
     "user_tz": 0
    },
    "id": "hCwZO1hUbh3G",
    "outputId": "8cadcb9f-1369-48be-f93f-f3ffacfea664"
   },
   "outputs": [],
   "source": [
    "note = 13.0\n",
    "mention_ab = note >= 12.0 and note < 14.0 \n",
    "print(mention_ab)\n",
    "print(not mention_ab)\n",
    "print(note == 20.0 or note == 0.0)"
   ]
  },
  {
   "cell_type": "markdown",
   "metadata": {
    "id": "i1E79RgJcEUC"
   },
   "source": [
    "### L'opérateur **in** s'utilise avec des chaînes (type str) ou des listes (type list) \n"
   ]
  },
  {
   "cell_type": "code",
   "execution_count": null,
   "metadata": {
    "colab": {
     "base_uri": "https://localhost:8080/"
    },
    "executionInfo": {
     "elapsed": 333,
     "status": "ok",
     "timestamp": 1649814138154,
     "user": {
      "displayName": "PHE APC",
      "userId": "02415328306550162043"
     },
     "user_tz": 0
    },
    "id": "d0WYzvEycDk7",
    "outputId": "6393634c-ac1c-4056-a71f-fced5897a53a"
   },
   "outputs": [],
   "source": [
    "chaine = 'Bonsoir' # la sous-chaîne 'soir' fait-elle partie de la chaîne 'Bonsoir' ?\n",
    "resultat = 'soir' in chaine\n",
    "print(resultat)\n",
    "print('b' in chaine)"
   ]
  },
  {
   "cell_type": "code",
   "execution_count": null,
   "metadata": {
    "colab": {
     "base_uri": "https://localhost:8080/"
    },
    "executionInfo": {
     "elapsed": 651,
     "status": "ok",
     "timestamp": 1649814214261,
     "user": {
      "displayName": "PHE APC",
      "userId": "02415328306550162043"
     },
     "user_tz": 0
    },
    "id": "O4dzT9Odcfb-",
    "outputId": "55b79938-a87c-4b39-ae5f-99dbc2165360"
   },
   "outputs": [],
   "source": [
    "maliste = [4, 8, 15] # le nombre entier 9 est-il dans la liste ?\n",
    "print(9 in maliste)\n",
    "print(8 in maliste)\n",
    "print(14 not in maliste)"
   ]
  },
  {
   "cell_type": "markdown",
   "metadata": {},
   "source": [
    "<!--NAVIGATION-->\n",
    "<  [Variables, Chaînes, Opérateurs](Part_1.ipynb) | [Sommaire](Intro_Phyton_Master.ipynb) >\n"
   ]
  }
 ],
 "metadata": {
  "colab": {
   "collapsed_sections": [],
   "name": "Partie_1.ipynb",
   "provenance": []
  },
  "kernelspec": {
   "display_name": "Python 3",
   "language": "python",
   "name": "python3"
  },
  "language_info": {
   "codemirror_mode": {
    "name": "ipython",
    "version": 3
   },
   "file_extension": ".py",
   "mimetype": "text/x-python",
   "name": "python",
   "nbconvert_exporter": "python",
   "pygments_lexer": "ipython3",
   "version": "3.8.5"
  }
 },
 "nbformat": 4,
 "nbformat_minor": 1
}
