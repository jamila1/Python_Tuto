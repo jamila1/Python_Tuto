{
 "cells": [
  {
   "cell_type": "markdown",
   "id": "2fdee38a",
   "metadata": {},
   "source": [
    "# Introduction_Python\n",
    "\n",
    "Ceci est un tutoriel de programmation `Python` concis pour les personnes qui pensent que la lecture est ennuyeuse. J'essaie de tout montrer avec des codes simples ; il n'y a pas d'explications longues et compliquées. Si vous n'avez jamais programmé auparavant, cliquez [ici](basics/what-is-programming.md) pour découvrir à quoi ressemble la programmation et commencer.\n",
    "\n",
    "Ce tutoriel est destiné aux personnes ayant peu d'expérience en programmation. Si vous avez beaucoup programmé dans le passé en utilisant un autre langage, vous voudrez peut-être lire .[le tutoriel officiel à la place](https://docs.python.org/3/tutorial/)\n",
    "\n",
    "Vous pouvez utiliser Python 3.5 ou tout Python plus récent avec ce didacticiel. **N'utilisez pas Python 2, car il n'est plus pris en charge**."
   ]
  }
 ],
 "metadata": {
  "kernelspec": {
   "display_name": "Python 3",
   "language": "python",
   "name": "python3"
  },
  "language_info": {
   "codemirror_mode": {
    "name": "ipython",
    "version": 3
   },
   "file_extension": ".py",
   "mimetype": "text/x-python",
   "name": "python",
   "nbconvert_exporter": "python",
   "pygments_lexer": "ipython3",
   "version": "3.8.5"
  }
 },
 "nbformat": 4,
 "nbformat_minor": 5
}
