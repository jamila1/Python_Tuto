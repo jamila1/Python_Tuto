{
 "cells": [
  {
   "cell_type": "markdown",
   "id": "9b7d3ed6",
   "metadata": {},
   "source": [
    "# $\\color{blue}{\\text{Exercice 1 (Deviner le résultat)}}$ \n",
    "\n",
    "\n",
    "Calculer f(0, 0, 0), f(−2, 0, 3), f(−2, 3, 0), f(2, 0, 2), f(1, 0, 2), f(3, −1, −2)"
   ]
  },
  {
   "cell_type": "code",
   "execution_count": null,
   "id": "aa6a4c94",
   "metadata": {},
   "outputs": [],
   "source": [
    "def f(x,a,b):\n",
    "    if a>b:\n",
    "        a,b=b,a\n",
    "    if x<=a:\n",
    "        return a\n",
    "    elif x>=b:\n",
    "        return b\n",
    "    else:\n",
    "        if (x-a)>(b-x):\n",
    "            return b\n",
    "        else:\n",
    "            return a\n",
    "print(f(0, 0, 0), f(-2, 0, 3), f(-2, 3, 0), f(2, 0, 2), f(1, 0, 2), f(3, -1, -2))       "
   ]
  },
  {
   "cell_type": "markdown",
   "id": "b3243435",
   "metadata": {},
   "source": [
    "# $\\color{blue}{\\text{Exercice 2}}$ \n",
    "\n",
    "\n",
    "Écrire un module $\\color{red}{\\text{(Som_Prem.py)}}$ définissant deux fonctions : somDiv et estPremier \n",
    "\n",
    "• la fonction $\\color{red}{\\text{somDiv}}$ retourne la somme des diviseurs propres de son argument;  \n",
    "\n",
    "• la fonction $\\color{red}{\\text{estPremier}}$ vérifie que son argument est premier, et retourne un booléen (elle retourne True , sinon elle retourne False).\n"
   ]
  },
  {
   "cell_type": "code",
   "execution_count": null,
   "id": "d8f02af9",
   "metadata": {},
   "outputs": [],
   "source": [
    "def somDiv(n):\n",
    "    \"\"\"Retourne la somme des diviseurs propres de <n>.\"\"\"\n",
    "    somme = 1\n",
    "    for i in range(2, n//2+1):\n",
    "        if n % i == 0:\n",
    "            somme += i\n",
    "    return somme\n",
    "\n",
    "def estPremier(n):\n",
    "    \"\"\"Teste si <n> est parfait.\"\"\"\n",
    "    return True if somDiv(n) == 1 else False"
   ]
  },
  {
   "cell_type": "code",
   "execution_count": null,
   "id": "54b6f1a2",
   "metadata": {},
   "outputs": [],
   "source": [
    "import Som_Prem as sp\n",
    "a = sp.somDiv(16)\n",
    "b = sp.estPremier(16)\n",
    "\n",
    "print(b)\n"
   ]
  },
  {
   "cell_type": "markdown",
   "id": "bd1f82c1",
   "metadata": {},
   "source": [
    "# $\\color{blue}{\\text{Exercice 3}}$ \n",
    "\n",
    "Écrire une fonction $\\color{red}{\\text{CompterMots}}$ ayant un argument (une chaîne de caractères) et qui\n",
    "renvoie un dictionnaire qui contient la fréquence de tous les mots de la chaîne entrée."
   ]
  },
  {
   "cell_type": "code",
   "execution_count": null,
   "id": "b56c01bb",
   "metadata": {},
   "outputs": [],
   "source": [
    "def cm(text)\n",
    "    dict={}\n",
    "    liste = text.split()\n",
    "    for i in liste:\n",
    "        if i not in dict:\n",
    "            dict[i] = 1\n",
    "        else:\n",
    "            dict[i] = dict[i] + 1\n",
    "        "
   ]
  },
  {
   "cell_type": "code",
   "execution_count": null,
   "id": "fcb0f8a9",
   "metadata": {},
   "outputs": [],
   "source": [
    "def compterMots(texte):\n",
    "    dict = {}\n",
    "    listeMots = texte.split()\n",
    "    for mot in listeMots:\n",
    "        if mot in dict:\n",
    "            dict[mot] = dict[mot] + 1\n",
    "        else:\n",
    "            dict[mot] = 1\n",
    "        \n",
    "    return dict\n",
    "\n",
    "\n",
    "# programme principal -----------------------------------------------\n",
    "res = compterMots(\"Ala Met Asn Glu Met Cys Asn Glu Hou Ala Met Gli Asn Asn\")\n",
    "for c in res.keys():\n",
    "    print(c, \"-->\", res[c])"
   ]
  },
  {
   "cell_type": "markdown",
   "id": "0a76936d",
   "metadata": {},
   "source": [
    "# $\\color{blue}{\\text{Exercice 4}}$ \n",
    "\n",
    "Tracer dans le même repère les droites suivantes (sur [−2; 2]):  \n",
    "\n",
    "    • f(x) = x + 1 \n",
    "    • g(x) = 2.5  \n",
    "    • x = 3 \n",
    "Ajouter une grille, la légende, un titre"
   ]
  },
  {
   "cell_type": "markdown",
   "id": "8cfdfbe9",
   "metadata": {},
   "source": [
    "### $\\color{red}{\\text{Note : }}$\n",
    "\n",
    ">> Il est possible de fixer indépendamment les domaines des abscisses et des ordonnées en utilisant les fonctions <code style=\"background:lavenderblush;color:red\"> xlim(xmin, xmax)</code> et <code style=\"background:lavenderblush;color:red\"> ylim(ymin, ymax)</code>. \n",
    "\n",
    ">> On peut ajouter un titre grâce à l’instruction <code style=\"background:lavenderblush;color:red\">title()</code>.\n",
    "\n",
    ">> On peut ajouter une légende grâce à l’instruction <code style=\"background:lavenderblush;color:red\"> legend()</code>.\n",
    "\n",
    ">> Des labels sur les axes peuvent être ajoutés avec les fonctions <code style=\"background:lavenderblush;color:red\"> xlabel()</code> et <code style=\"background:lavenderblush;color:red\"> ylabel()</code>.\n"
   ]
  },
  {
   "cell_type": "code",
   "execution_count": null,
   "id": "40c793a7",
   "metadata": {},
   "outputs": [],
   "source": [
    "import matplotlib.pyplot as plt \n",
    "\n",
    "import numpy as np\n",
    "x = np.arange(-2, 2, 0.1)\n",
    "f = x + 1\n",
    "\n",
    "\n",
    "plt.plot(x, f, label = 'f(x) = x+1')\n",
    "plt.axhline(y = 2.5, color = 'r', label = 'g(x)=2.5') \n",
    "plt.axvline(x = 3, color = 'g', label = 'x = 3') \n",
    "\n",
    "#plt.xlim(-2, 2)\n",
    "plt.title(\"Mon Figure\")\n",
    "plt.xlabel(\"abscisses\")\n",
    "plt.ylabel(\"ordonnees\")\n",
    "plt.legend()\n",
    "\n",
    "plt.show() # affiche la figure a l'ecran"
   ]
  },
  {
   "cell_type": "markdown",
   "id": "f5e8f2ca",
   "metadata": {},
   "source": [
    "# $\\color{blue}{\\text{Exercice 5}}$ \n",
    "\n",
    "Écrire un programme en Python qui permet de créer un fichier texte appelé `teste1.txt` et d’écrire la ligne “Bonjour tout le monde” dans ce fichier"
   ]
  },
  {
   "cell_type": "markdown",
   "id": "e94da441",
   "metadata": {},
   "source": [
    "# $\\color{blue}{\\text{Exercice 6}}$ \n",
    "\n",
    "1- Une fonction qui calcule le nombre de mots d’un texte (on considère que les mots sont séparés par un et un seule symbole (autre que lettres))"
   ]
  },
  {
   "cell_type": "markdown",
   "id": "79898e60",
   "metadata": {},
   "source": [
    "2- Une fonction qui permet de créer un fichier dont son nom est passé en paramètre."
   ]
  },
  {
   "cell_type": "markdown",
   "id": "88336813",
   "metadata": {},
   "source": [
    "3- Une fonction qui permet d’ajouter des lignes dans un fichier dont son nom est passé en paramètre."
   ]
  },
  {
   "cell_type": "markdown",
   "id": "b81a91d3",
   "metadata": {},
   "source": [
    "4- Une fonction qui permet d’afficher le contenu d’un fichier dont son nom est passé en paramètre."
   ]
  },
  {
   "cell_type": "markdown",
   "id": "aeab59a0",
   "metadata": {},
   "source": [
    "5- Une fonction qui permet d’afficher les propriétés (nombre de lignes, nombre de mots, nombre de caractères et la taille) d’un fichier dont son nom est passé en paramètre."
   ]
  },
  {
   "cell_type": "markdown",
   "id": "874a7706",
   "metadata": {},
   "source": [
    "6- Un programme principale avec un menu  pour exécuter ces fonctions. "
   ]
  },
  {
   "cell_type": "markdown",
   "id": "5b8060a6",
   "metadata": {},
   "source": [
    "<!--NAVIGATION-->\n",
    "<  [Exercices de Série_2](Serie_2.ipynb) | [Sommaire](Intro_Phyton_Master.ipynb) >"
   ]
  }
 ],
 "metadata": {
  "kernelspec": {
   "display_name": "Python 3",
   "language": "python",
   "name": "python3"
  },
  "language_info": {
   "codemirror_mode": {
    "name": "ipython",
    "version": 3
   },
   "file_extension": ".py",
   "mimetype": "text/x-python",
   "name": "python",
   "nbconvert_exporter": "python",
   "pygments_lexer": "ipython3",
   "version": "3.8.5"
  }
 },
 "nbformat": 4,
 "nbformat_minor": 5
}
