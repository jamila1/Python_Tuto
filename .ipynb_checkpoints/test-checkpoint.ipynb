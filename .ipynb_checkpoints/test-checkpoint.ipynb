{
 "cells": [
  {
   "cell_type": "markdown",
   "id": "2d27a82e",
   "metadata": {},
   "source": [
    "# <center> <b>  <a href=\"https://www.uca.ma/\"><img src=\"http://cooperation.fssm.uca.ma/images/universite-logo-trans000.png\" style=\"max-width: 150px; display: inline\"/></a>   </b> </center> \n",
    "<br />"
   ]
  },
  {
   "cell_type": "markdown",
   "id": "eCe5XP3tStKP",
   "metadata": {
    "id": "eCe5XP3tStKP"
   },
   "source": [
    "# <center><b> <a href=\"https://www.python.org/\"><img src=\"https://upload.wikimedia.org/wikipedia/commons/thumb/f/f8/Python_logo_and_wordmark.svg/130px-Python_logo_and_wordmark.svg.png\" style=\"max-width: 150px; display: inline\" alt=\"Python\"/></a> Pour Calcul Scientifique  </b> </center> \n"
   ]
  },
  {
   "cell_type": "markdown",
   "id": "c96d73a1",
   "metadata": {
    "id": "c96d73a1"
   },
   "source": [
    "<center><b> $\\color{red}{\\text{By Chouqar Jamila & Loutfi Amal}}$ </b> </center>\n",
    "\n",
    "&emsp;&emsp;&emsp;&emsp;&emsp;&emsp;&emsp;&emsp;&emsp;&emsp;&emsp;&emsp;&emsp;&emsp;&emsp;&emsp;&emsp;&emsp;&emsp; __[LPHEA lab, Cadi Ayad University](https://www.uca.ma/)__<br> \n",
    "\n",
    "<center><b> Contact : <span style=\"color:blue;\">jamilachaw@gmail.com </span> </b> </center>\n",
    "<center><b> &emsp;&emsp;&emsp;&emsp; <span style=\"color:blue;\">loutifi.amal@gmail.com </span> </b> </center>\n",
    "<br />\n",
    "<br />"
   ]
  },
  {
   "cell_type": "markdown",
   "id": "f622b11e",
   "metadata": {
    "id": "f622b11e"
   },
   "source": [
    "# $\\color{red}{\\text{Le Contenu du Cours:}}$\n",
    "## Chapitre I\n",
    "### __[Leçon 1 : Variables, Chaînes, Opérateurs](https://colab.research.google.com/drive/10sNljUta-vWTYEsjvFGO7MEOlLe1BxCh)__\n",
    "### __[Leçon 2 : Conditions et Boucles](https://colab.research.google.com/drive/18iFRnbgoFVt4j_uEropZQKdFCNJBEhBg)__\n",
    "### __[Exercices](https://colab.research.google.com/drive/194fYBZx-lQOz5KVsEbYKq2Gja5Cg5oTA)__\n",
    "## Chapitre II\n",
    "### __[Leçon 3 : Fonctions et Modules](https://colab.research.google.com/drive/1W32_6PXnvAeQhv5ngbmBNGSCQttso4R3)__\n",
    "### __[Leçon 4 : Les Fichiers](Part_4.ipynb)__\n",
    "### __[Exercices](Serie_2.ipynb)__\n",
    "\n",
    "<br>\n",
    "<br>\n"
   ]
  }
 ],
 "metadata": {
  "colab": {
   "collapsed_sections": [],
   "name": "Intro_Phyton_Master.ipynb",
   "provenance": []
  },
  "kernelspec": {
   "display_name": "Python 3",
   "language": "python",
   "name": "python3"
  },
  "language_info": {
   "codemirror_mode": {
    "name": "ipython",
    "version": 3
   },
   "file_extension": ".py",
   "mimetype": "text/x-python",
   "name": "python",
   "nbconvert_exporter": "python",
   "pygments_lexer": "ipython3",
   "version": "3.8.5"
  }
 },
 "nbformat": 4,
 "nbformat_minor": 5
}
