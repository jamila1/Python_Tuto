{
 "cells": [
  {
   "cell_type": "markdown",
   "metadata": {
    "id": "Q93AZKNp80uO"
   },
   "source": [
    "Exercice 1: \n",
    "1-Écrire une fonction cube qui retourne le cube de son argument.\n",
    "\n",
    "2-Écrire une fonction volumeSphere qui calcule le volume d’une sphère de rayon r fourni en argument et qui utilise la fonction cube.\n",
    "\n",
    "3-Tester la fonction volumeSphere par un appel dans le programme principal.\n",
    "\n",
    "rappel: Le volume de l’espace délimité par une sphère (on parle alors du volume de la boule) est égal à 4/3 multiplié par π et par son rayon R au cube. [\\frac{4\\pi *R^{3}}{3}]"
   ]
  },
  {
   "cell_type": "code",
   "execution_count": null,
   "metadata": {
    "id": "1iu47tu58tQw"
   },
   "outputs": [],
   "source": [
    "from math import pi\n",
    "\n",
    "def cube(x):\n",
    "  return x**3\n",
    "\n",
    "def volumeSphere(R):\n",
    "  4*pi*cube(R)/3"
   ]
  },
  {
   "cell_type": "markdown",
   "metadata": {
    "id": "y3TbraEB8zrw"
   },
   "source": [
    "#Exercice 2:\n",
    "Écrire un programme qui affiche un joli sapin de Noël, dont la taille est donnée par l’utilisateur.\n",
    "Exemple pour une taille de 12 lignes :\n",
    "           ^\n",
    "          ^^^\n",
    "         ^^^^^\n",
    "        ^^^^^^^\n",
    "       ^^^^^^^^^\n",
    "      ^^^^^^^^^^^\n",
    "     ^^^^^^^^^^^^^\n",
    "    ^^^^^^^^^^^^^^^\n",
    "   ^^^^^^^^^^^^^^^^^\n",
    "  ^^^^^^^^^^^^^^^^^^^\n",
    " ^^^^^^^^^^^^^^^^^^^^^\n",
    "^^^^^^^^^^^^^^^^^^^^^^^"
   ]
  },
  {
   "cell_type": "code",
   "execution_count": 9,
   "metadata": {
    "colab": {
     "base_uri": "https://localhost:8080/"
    },
    "executionInfo": {
     "elapsed": 5344,
     "status": "ok",
     "timestamp": 1650440686392,
     "user": {
      "displayName": "Amal LOUTFI",
      "userId": "16782763518068187931"
     },
     "user_tz": -120
    },
    "id": "yOgrwvhV2yjZ",
    "outputId": "0409190d-2464-46e0-f5d9-a38674b1b83b"
   },
   "outputs": [
    {
     "name": "stdout",
     "output_type": "stream",
     "text": [
      "\n",
      "            ^^^^^^^^^^^^^^^^^^^^^^^            \n",
      "            ^            \n",
      "           ^^^           \n",
      "          ^^^^^          \n",
      "         ^^^^^^^         \n",
      "        ^^^^^^^^^        \n",
      "       ^^^^^^^^^^^       \n",
      "      ^^^^^^^^^^^^^      \n",
      "     ^^^^^^^^^^^^^^^     \n",
      "    ^^^^^^^^^^^^^^^^^    \n",
      "   ^^^^^^^^^^^^^^^^^^^   \n",
      "  ^^^^^^^^^^^^^^^^^^^^^  \n",
      " ^^^^^^^^^^^^^^^^^^^^^^^ \n",
      "\n",
      "Merry Christmas !\n"
     ]
    }
   ],
   "source": [
    "# Définition du caractère de remplissage\n",
    "space = \" \"\n",
    "# Définition du caractère de dessin du sapin\n",
    "char_sapin = \"^\"\n",
    "# Nombre de lignes constituant le sapin\n",
    "nbre_ligne = 12\n",
    "# Nombre de \"blancs\" à insérer avant le ^\n",
    "padSize=nbre_ligne - 1\n",
    "# Position actuelle en lignes dans le dessin du sapin\n",
    "num_ligne = 0\n",
    "# Saut d'un ligne pour ergonomie\n",
    "print ()\n",
    "for num_ligne in range (1, nbre_ligne + 1):\n",
    "# Nombre de caractères sapin à dessiner\n",
    "  if ( num_ligne == 1 ):\n",
    "    nbre_char_sapin = 1\n",
    "  else:\n",
    "    nbre_char_sapin = 2 * num_ligne -1\n",
    "# Affichage d'une ligne de sapin\n",
    "print ( space * padSize, char_sapin * nbre_char_sapin, space * padSize )\n",
    "# Décrémenter le nombre de caractères de remplissage\n",
    "padSize -= 1\n",
    "#!/usr/bin/python3\n",
    "# -*- coding: UTF-8 -*-\n",
    "import time\n",
    "def MerryChristmasTree(char,Lines):\n",
    "  space=' '\n",
    "  numChars = lambda h : h == 1 and 1 or h + ( h-1 )\n",
    "  MaxTreeWidth = numChars(Lines)\n",
    "  padSize = ( Lines -1)\n",
    "  print\n",
    "  for lineNumber in range(1,Lines + 1):\n",
    "    print (space * (padSize), char * numChars(lineNumber),space * (padSize))\n",
    "    padSize -=1\n",
    "if __name__ == \"__main__\":\n",
    "# '^' is the character used to build the tree\n",
    "# 12 is the height of the tree\n",
    "  MerryChristmasTree('^',12)\n",
    "  print (\"\\nMerry Christmas !\")\n",
    "  time.sleep(5)"
   ]
  },
  {
   "cell_type": "markdown",
   "metadata": {
    "id": "He5Nj8qX491t"
   },
   "source": [
    "Exercice 3:\n",
    "écrire 2 fonctions :\n",
    "— pair (nbre), qui renvoie True, si le nombre est Pair\n",
    "— impair (nbre), qui renvoie True, si le nombre est Impair\n",
    "Le nombres sera demandé à l’utilisateur. Le résultat attendu est : \"La fonction Pair retourne True\n",
    "pour la valeur 2\""
   ]
  },
  {
   "cell_type": "code",
   "execution_count": 8,
   "metadata": {
    "colab": {
     "base_uri": "https://localhost:8080/"
    },
    "executionInfo": {
     "elapsed": 8881,
     "status": "ok",
     "timestamp": 1650440397977,
     "user": {
      "displayName": "Amal LOUTFI",
      "userId": "16782763518068187931"
     },
     "user_tz": -120
    },
    "id": "FZkZuMWf5DeS",
    "outputId": "37a36c99-cbab-4057-ffa7-ce940120e38c"
   },
   "outputs": [
    {
     "name": "stdout",
     "output_type": "stream",
     "text": [
      "Votre nombre : 2\n",
      "Le nombre est pair\n"
     ]
    }
   ],
   "source": [
    "def pair (nbre):\n",
    "  if (nbre % 2 == 0):\n",
    "    return True\n",
    "def impair (nbre):\n",
    "  if (nbre % 2 == 1):\n",
    "    return True\n",
    "nombre = int (input (\"Votre nombre : \"))\n",
    "if ( pair (nombre) ):\n",
    "  print (\"Le nombre est pair\")\n",
    "if ( impair (nombre) ):\n",
    "  print (\"Le nombre est impair\")"
   ]
  }
 ],
 "metadata": {
  "colab": {
   "authorship_tag": "ABX9TyMLeD2E1oxlX/9oYwExCsXv",
   "collapsed_sections": [],
   "name": "Exercices-fonction",
   "provenance": []
  },
  "kernelspec": {
   "display_name": "Python 3",
   "language": "python",
   "name": "python3"
  },
  "language_info": {
   "codemirror_mode": {
    "name": "ipython",
    "version": 3
   },
   "file_extension": ".py",
   "mimetype": "text/x-python",
   "name": "python",
   "nbconvert_exporter": "python",
   "pygments_lexer": "ipython3",
   "version": "3.8.5"
  }
 },
 "nbformat": 4,
 "nbformat_minor": 1
}
