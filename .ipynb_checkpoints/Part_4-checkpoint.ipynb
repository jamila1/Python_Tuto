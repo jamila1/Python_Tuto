{
 "cells": [
  {
   "cell_type": "markdown",
   "id": "bc91b6c7",
   "metadata": {},
   "source": [
    "# **$\\color{brown}{\\text {Les Fichiers}}$**\n",
    "Cette leçon est centrée sur la manipulation des fichiers :\n",
    "\n",
    "> - Lecture de fichiers <br>\n",
    "> - Écriture de fichiers <br>\n",
    "> - Manipulation (copie / suppression / renommage / etc.) de fichiers"
   ]
  },
  {
   "cell_type": "markdown",
   "id": "e20ba7d2",
   "metadata": {},
   "source": [
    "## Ouverture d'un fichier:\n",
    "Pour ouvrir un fichier texte, vous utilisez la fonction `open()`. Vous passez certains paramètres à `open()` pour lui indiquer de quelle manière le fichier doit être ouvert \n",
    "> - `r` pour la lecture seule, \n",
    "> - `w` pour l'écriture uniquement (s'il existe un ancien fichier, il sera écrasé), \n",
    "> - `a` pour l'ajout (ajouter des choses à la fin du fichier),\n",
    "> - `r+` pour la lecture et l'écriture. \n",
    "\n",
    "Maintenant, on va ouvrir le fichier $\\color{red}{\\text{example.txt}}$ pour le lire. Nous afficherons ensuite ce que nous lisons dans le fichier :"
   ]
  },
  {
   "cell_type": "code",
   "execution_count": null,
   "id": "0ddfe55b",
   "metadata": {},
   "outputs": [],
   "source": [
    "fl = open('./data/example.dat', 'r') # ouvrir le fichier\n",
    "for line in fl:\n",
    "    print(line)\n",
    "fl.close() # fermer le fichier"
   ]
  },
  {
   "cell_type": "markdown",
   "id": "f57ef9b4",
   "metadata": {},
   "source": [
    "L’instruction `open(\"example.dat\", \"r\")` suppose que le fichier example.dat est dans le répertoire depuis lequel l’interpréteur Python a été lancé. Si ce n’est pas le cas, il faut préciser le chemin d’accès au fichier. Par exemple,\n",
    "$\\color{blue}{\\text{/home/jamila/example.dat}}$ pour Linux ou Mac OS X ou $\\color{blue}{\\text{C:\\Users\\jamila\\example.dat pour Windows}}$."
   ]
  },
  {
   "cell_type": "markdown",
   "id": "e3e32c7d",
   "metadata": {},
   "source": [
    "**$\\color{blue}{\\text {Une meilleure façon de le faire est:}}$**"
   ]
  },
  {
   "cell_type": "code",
   "execution_count": null,
   "id": "a7b402d9",
   "metadata": {},
   "outputs": [],
   "source": [
    "filename = './data/example.dat'\n",
    "with open(filename, 'r') as fl:\n",
    "    for line in fl:\n",
    "        print(line)"
   ]
  },
  {
   "cell_type": "markdown",
   "id": "0a561215",
   "metadata": {},
   "source": [
    "<code style=\"background:yellow;color:brown\">**Attention :** Avec la deuxième méthode, vous n'avez pas besoin d'ajouter **fl.close**, il est automatiquement fermé.</code>\n",
    "\n",
    "<code style=\"background:blue;color:white\">**Note :**</code> <br>\n",
    "le mot-clé `with` permet d’ouvrir et de fermer un fichier de manière efficace. Si pour une raison ou une autre l’ouverture ou la lecture du fichier conduit à une erreur, l’utilisation de with garantit la bonne fermeture du fichier,\n",
    "ce qui n’est pas le cas dans le code précédent.\n"
   ]
  },
  {
   "cell_type": "markdown",
   "id": "3eda1917",
   "metadata": {},
   "source": [
    "## Méthodes de lecture de fichiers\n",
    "\n",
    "Si vous voulez afficher le fichier entier, au lieu de boucler sur les lignes, vous pouvez utiliser les méthodes suivantes :"
   ]
  },
  {
   "cell_type": "markdown",
   "id": "feb0b030",
   "metadata": {},
   "source": [
    "#### La méthode  .readlines():"
   ]
  },
  {
   "cell_type": "code",
   "execution_count": null,
   "id": "804977aa",
   "metadata": {},
   "outputs": [],
   "source": [
    "fl = open('./data/example.dat', 'r')\n",
    "fl.readlines()"
   ]
  },
  {
   "cell_type": "markdown",
   "id": "ecfc4122",
   "metadata": {},
   "source": [
    "**Remarque:**\n",
    "> - La méthode `.readlines()` agit sur l’objet `fl` en déplaçant le curseur de lecture du début à la fin du fichier, puis elle renvoie une liste contenant toutes les lignes du fichier.\n",
    "> - Chaque élément de la liste lignes se termine par le caractère `\\n`. Ce caractère un peu particulier correspond au « saut de ligne 1 » qui permet de passer d’une ligne à la suivante. Ceci est codé par un caractère spécial que l’on représente par `\\n`."
   ]
  },
  {
   "cell_type": "markdown",
   "id": "aa8483b0",
   "metadata": {},
   "source": [
    "#### La méthode .read():"
   ]
  },
  {
   "cell_type": "code",
   "execution_count": null,
   "id": "44d5b190",
   "metadata": {},
   "outputs": [],
   "source": [
    "fl = open('./data/example.dat', 'r')\n",
    "fl.read()"
   ]
  },
  {
   "cell_type": "markdown",
   "id": "07ddbd77",
   "metadata": {},
   "source": [
    "la méthode `.read()` lit tout le contenu d’un fichier et renvoie une chaîne de caractères unique."
   ]
  },
  {
   "cell_type": "markdown",
   "id": "f5ab5a1f",
   "metadata": {},
   "source": [
    "#### La méthode .readline():"
   ]
  },
  {
   "cell_type": "code",
   "execution_count": 9,
   "id": "e4398419",
   "metadata": {
    "scrolled": true
   },
   "outputs": [
    {
     "data": {
      "text/plain": [
       "['mag']"
      ]
     },
     "execution_count": 9,
     "metadata": {},
     "output_type": "execute_result"
    }
   ],
   "source": [
    "with open (\"./data/example.dat\", 'r') as fl :\n",
    "    col = []\n",
    "    mag = []\n",
    "    ligne = fl.readline()\n",
    "    l = ligne.split()\n",
    "    col.append(l[0])\n",
    "    mag.append(l[1])\n",
    "mag\n",
    "#fl = open('example.txt', 'r')\n",
    "#fl.readline()"
   ]
  },
  {
   "cell_type": "markdown",
   "id": "8ab015aa",
   "metadata": {},
   "source": [
    "La méthode `.readline()` (sans s à la fin) lit une ligne d’un fichier et la renvoie sous forme de chaîne de caractères. À chaque nouvel appel de `.readline()`, la ligne suivante est renvoyée. Associée à la boucle while, cette méthode permet de lire un fichier ligne par ligne."
   ]
  },
  {
   "cell_type": "markdown",
   "id": "5c5499dc",
   "metadata": {},
   "source": [
    "**$\\color{red}{\\text{Remarque :}}$**\n",
    "\n",
    "Les méthodes abordées précédemment permettent d’accéder au contenu d’un fichier, soit ligne par ligne (méthode `.readline()`), soit globalement en une seule chaîne de caractères (méthode `.read()`), soit globalement avec les lignes différenciées sous\n",
    "forme d’une liste de chaînes de caractères (méthode `.readlines()`)."
   ]
  },
  {
   "cell_type": "markdown",
   "id": "49f4438c",
   "metadata": {},
   "source": [
    "## Écriture dans un fichier\n",
    "\n",
    "Écrire dans un fichier est aussi simple que de le lire. Voyez l’exemple suivant :"
   ]
  },
  {
   "cell_type": "code",
   "execution_count": null,
   "id": "717cdb2d",
   "metadata": {},
   "outputs": [],
   "source": [
    "liste = [\"1\" , \"2\" , \"3\", \"4\", \"10\"]\n",
    "with open (\"./data/file.txt\", 'w') as fl :\n",
    "    for i in liste:\n",
    "        fl.write(i)\n",
    "        fl.write('\\n')"
   ]
  },
  {
   "cell_type": "markdown",
   "id": "29373855",
   "metadata": {},
   "source": [
    "**$\\color{red}{\\text{Remarque :}}$** On peut aussi utiliser la syntaxe suivante afin de retourner à la ligne `fl.write(f\"{i} \\n\")\n",
    "`"
   ]
  },
  {
   "cell_type": "markdown",
   "id": "666f8a8c",
   "metadata": {},
   "source": [
    "## Ouvrir deux fichiers avec l’instruction `with`"
   ]
  },
  {
   "cell_type": "markdown",
   "id": "c5019111",
   "metadata": {},
   "source": [
    "On peut avec l’instruction `with` ouvrir deux fichiers (ou plus) en même temps. Voyez l’exemple suivant :"
   ]
  },
  {
   "cell_type": "code",
   "execution_count": null,
   "id": "da47ce12",
   "metadata": {},
   "outputs": [],
   "source": [
    "with open (\"./data/file.txt\", 'r') as f1 , open (\"./data/file1.txt\" , 'w') as f2 :\n",
    "    for ligne in f1:\n",
    "        f2.write (\"*\" + ligne )"
   ]
  },
  {
   "cell_type": "markdown",
   "id": "a8897eeb",
   "metadata": {},
   "source": [
    "## Renommer et supprimer un fichier"
   ]
  },
  {
   "cell_type": "markdown",
   "id": "55d6f4ba",
   "metadata": {},
   "source": [
    "**Renommer un fichier**\n",
    "La méthode `rename()` est utilisée pour renommer un fichier.\n",
    "\n",
    "La syntaxe de `rename()` est la suivante: <br>\n",
    "\n",
    "`os.rename(currentName, newName)`"
   ]
  },
  {
   "cell_type": "markdown",
   "id": "f058fb6c",
   "metadata": {},
   "source": [
    "Ici os est un module qui vous permet d’exécuter des fonctions qui sont dépendantes du système d’exploitation.<br>\n",
    "**Exemple:**"
   ]
  },
  {
   "cell_type": "code",
   "execution_count": null,
   "id": "d500e7bc",
   "metadata": {},
   "outputs": [],
   "source": [
    "import os\n",
    "os.rename(\"./data/file.txt\", \"./data/Python.txt\")"
   ]
  },
  {
   "cell_type": "markdown",
   "id": "785915c1",
   "metadata": {},
   "source": [
    "Le nouveau nom du fichier est maintenant $\\color{red}{\\text{Python.txt}}$."
   ]
  },
  {
   "cell_type": "markdown",
   "id": "503e2227",
   "metadata": {},
   "source": [
    "## Supprimer un fichier"
   ]
  },
  {
   "cell_type": "markdown",
   "id": "cf196a55",
   "metadata": {},
   "source": [
    "Un fichier est supprimé en utilisant la méthode `remove()`.\n",
    "\n",
    "La syntaxe de `remove()` est la suivante:\n",
    "\n",
    "`os.remove(nameofFile)`<br>\n",
    "**Exemple:**"
   ]
  },
  {
   "cell_type": "code",
   "execution_count": null,
   "id": "2a0117b5",
   "metadata": {},
   "outputs": [],
   "source": [
    "import os\n",
    "os.remove('Python.txt')"
   ]
  },
  {
   "cell_type": "markdown",
   "id": "6572fe8c",
   "metadata": {},
   "source": [
    "## Ajouter du contenu à un fichier texte existant"
   ]
  },
  {
   "cell_type": "markdown",
   "id": "26bc732e",
   "metadata": {},
   "source": [
    "<code style=\"background:yellow;color:brown\">**Attention :**</code>\n",
    "\n",
    "Une troisième option est d’ouvrir un fichier pré-existant pour y ajouter du contenu. Attention, si vous ouvrez un fichier en écriture `w` et que ce fichier existe, si vous utilisez la méthode write, le contenu précédent sera écrasé. Si vous souhaitez ajouter de nouveaux contenus à un fichier, on ouvrira plutôt le fichier en ajout avec le paramètre `a` (append).\n",
    "\n"
   ]
  },
  {
   "cell_type": "code",
   "execution_count": null,
   "id": "e984c3e0",
   "metadata": {},
   "outputs": [],
   "source": [
    "f = open (\"./data/file.txt\", 'a')\n",
    "f.write('\\n' + 'hello world')\n",
    "f.close()"
   ]
  },
  {
   "cell_type": "markdown",
   "id": "b2b99394",
   "metadata": {},
   "source": [
    "ce programme ouvrira le fichier précédemment créé et y ajoutera une seconde ligne “hello world”. Le code `\\n` correspond à un retour à la ligne."
   ]
  },
  {
   "cell_type": "markdown",
   "id": "218cf56a",
   "metadata": {},
   "source": [
    "<!--NAVIGATION-->\n",
    "<  [Les Fichiers](Part_4.ipynb) | [Sommaire](Intro_Phyton_Master.ipynb) >"
   ]
  }
 ],
 "metadata": {
  "kernelspec": {
   "display_name": "Python 3",
   "language": "python",
   "name": "python3"
  },
  "language_info": {
   "codemirror_mode": {
    "name": "ipython",
    "version": 3
   },
   "file_extension": ".py",
   "mimetype": "text/x-python",
   "name": "python",
   "nbconvert_exporter": "python",
   "pygments_lexer": "ipython3",
   "version": "3.8.5"
  }
 },
 "nbformat": 4,
 "nbformat_minor": 5
}
