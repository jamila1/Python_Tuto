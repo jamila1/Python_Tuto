{
 "cells": [
  {
   "cell_type": "markdown",
   "metadata": {},
   "source": [
    "# Série 3 : Fichiers"
   ]
  },
  {
   "cell_type": "code",
   "execution_count": null,
   "metadata": {},
   "outputs": [],
   "source": [
    "import numpy as np\n",
    "import pandas as pd\n",
    "import matplotlib.pyplot as plt"
   ]
  },
  {
   "cell_type": "markdown",
   "metadata": {},
   "source": [
    "# Exercice 1\n",
    "Le fichier $\\color{red}{\\text{la example.dat}}$ contient les données de magnitude en fonction de couleur.\n",
    " 1. Lire les données du fichier:    "
   ]
  },
  {
   "cell_type": "markdown",
   "metadata": {},
   "source": [
    "### avec $\\color{blue}{\\text{la fonction open}}$"
   ]
  },
  {
   "cell_type": "code",
   "execution_count": null,
   "metadata": {},
   "outputs": [],
   "source": [
    "with open(\"./data/example.dat\",'r') as f:\n",
    "    col=[]\n",
    "    mag = []\n",
    "    next(f)  # for skip headers\n",
    "    for line in f:\n",
    "        column = line.split()\n",
    "        col.append(float(column[0]))\n",
    "        mag.append(float(column[1]))\n",
    "col\n",
    "mag\n",
    "plt.scatter(col, mag)\n",
    "plt.xlabel('Coleur')\n",
    "plt.ylabel('magnitude')"
   ]
  },
  {
   "cell_type": "markdown",
   "metadata": {},
   "source": [
    "### avec $\\color{blue}{\\text{la librerier Pandas}}$"
   ]
  },
  {
   "cell_type": "code",
   "execution_count": null,
   "metadata": {},
   "outputs": [],
   "source": [
    "df=pd.read_csv(\"./data/example.dat\",sep=' ', header=0).drop_duplicates()"
   ]
  },
  {
   "cell_type": "markdown",
   "metadata": {},
   "source": [
    "2. Tracer la magnitude en fonction de couleur"
   ]
  },
  {
   "cell_type": "code",
   "execution_count": null,
   "metadata": {},
   "outputs": [],
   "source": [
    "fig, ax = plt.subplots()\n",
    "fig.set_size_inches(16,8)\n",
    "plt.scatter(col,mag)\n",
    "plt.scatter(df['color'],df['mag'])\n",
    "#plt.savefig(\"fig\")"
   ]
  },
  {
   "cell_type": "markdown",
   "metadata": {},
   "source": [
    "# Exercice 2\n",
    "Le fichier $\\color{red}{\\text{seeing.txt}}$ contient les données de seeing en fonction de temps (en terme de jourjulien).\n",
    "\n",
    "   1. Lire les données du fichier en utilisant $\\color{blue}{\\text{la librerier Pandas}}$."
   ]
  },
  {
   "cell_type": "code",
   "execution_count": null,
   "metadata": {},
   "outputs": [],
   "source": [
    "df=pd.read_csv(\"./data/seeing.txt\",sep='|', names= ['jourjulien', 'seeing'], header = None).drop_duplicates()"
   ]
  },
  {
   "cell_type": "markdown",
   "metadata": {},
   "source": [
    "2. Créer une fonction $\\color{red}{\\text{lissage}}$ qui débruite une courbe par une moyenne glissante sur 2P+1 points"
   ]
  },
  {
   "cell_type": "code",
   "execution_count": null,
   "metadata": {},
   "outputs": [],
   "source": [
    "def lissage(Lx,Ly,p):\n",
    "        '''Fonction qui débruite une courbe par une moyenne glissante\n",
    "        sur 2P+1 points'''\n",
    "        Lxout=[]\n",
    "        Lyout=[]\n",
    "        Lxout = Lx[p: -p]\n",
    "        for index in range(p, len(Ly)-p):\n",
    "            average = np.mean(Ly[index-p : index+p+1])\n",
    "            Lyout.append(average)\n",
    "        return Lxout,Lyout"
   ]
  },
  {
   "cell_type": "markdown",
   "metadata": {},
   "source": [
    "3. Tracer dans le méme figure le seeing (bruité et lissé) en fonction de jourjulien"
   ]
  },
  {
   "cell_type": "code",
   "execution_count": null,
   "metadata": {
    "scrolled": true
   },
   "outputs": [],
   "source": [
    "p = 9\n",
    "x, y = lissage(df.index, df['seeing'], p)\n",
    "index = np.array(x)\n",
    "seeing = np.array(y)\n",
    "jourjulien = np.array(df[\"jourjulien\"][p:-p])\n",
    "\n",
    "fig, ax = plt.subplots()\n",
    "fig.set_size_inches(16,8)\n",
    "plt.plot(df[\"jourjulien\"],df['seeing'])\n",
    "plt.plot(jourjulien,seeing)\n",
    "plt.savefig(\"fig\")"
   ]
  },
  {
   "cell_type": "markdown",
   "metadata": {},
   "source": [
    "<!--NAVIGATION-->\n",
    "<  [Exercices](Serie_3.ipynb) | [Sommaire](Intro_Phyton_Master.ipynb) >"
   ]
  }
 ],
 "metadata": {
  "kernelspec": {
   "display_name": "Python 3",
   "language": "python",
   "name": "python3"
  },
  "language_info": {
   "codemirror_mode": {
    "name": "ipython",
    "version": 3
   },
   "file_extension": ".py",
   "mimetype": "text/x-python",
   "name": "python",
   "nbconvert_exporter": "python",
   "pygments_lexer": "ipython3",
   "version": "3.8.5"
  }
 },
 "nbformat": 4,
 "nbformat_minor": 2
}
