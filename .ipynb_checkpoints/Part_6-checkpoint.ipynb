{
 "cells": [
  {
   "cell_type": "markdown",
   "id": "ad012e07",
   "metadata": {},
   "source": [
    "# <center><b> **$\\color{brown}{\\text {INTRODUCTION À}}$** </b> </center> <center><b> <a   href=\"https://docs.python.org/fr/3/library/tk.html\"><img src=\"https://i.pinimg.com/originals/bd/5b/b7/bd5bb7bec5a94494c8513990e3a47923.jpg\" style=\"max-width: 500px\" alt=\"Python\"/></a> </b> </center>"
   ]
  },
  {
   "cell_type": "markdown",
   "id": "f7088d58",
   "metadata": {},
   "source": [
    "### <code style=\"background:blue;color:yellow\">**Tkinter :**</code> \n",
    "sert à réaliser des interfaces graphiques pour l’utilisateur (GUI) à l’aide d’un ensemble de composants graphiques (widgets). <br><br>\n",
    "**Et Pourquoi Tkinter?**<br>\n",
    "De nombreux autres packages sont disponibles pour créer de superbes interfaces graphiques telles que Qt et GTK. Tkinter est le moyen le plus simple d'écrire votre programme GUI en Python. Il est plus léger que les autres modules disponibles.<br>\n",
    "\n",
    "**Installer Tkinter**<br>\n",
    "Tkinter est installé par défaut, si ce n'est pas le cas, lancez la commande suivante:<br><br>\n",
    "`sudo apt-get install python-tk`\n"
   ]
  },
  {
   "cell_type": "markdown",
   "id": "e20ba7d2",
   "metadata": {},
   "source": [
    "## Pratique !!"
   ]
  },
  {
   "cell_type": "code",
   "execution_count": null,
   "id": "0ddfe55b",
   "metadata": {},
   "outputs": [],
   "source": [
    "# On importe Tkinter pour la creation de l'interface graphique\n",
    "import tkinter as tk \n",
    "\n",
    "# Construction de la fenêtre principale «window»\n",
    "window = tk.Tk()\n",
    "\n",
    "# titre de la fenêtre\n",
    "window.title(\"Simple exemple\")  \n",
    "\n",
    "# Lancement de la «boucle principale»\n",
    "window.mainloop()"
   ]
  },
  {
   "cell_type": "markdown",
   "id": "f57ef9b4",
   "metadata": {},
   "source": [
    ">- La dernière instruction `window.mainloop()` permet à l’application de recevoir des informations de la souris et du clavier (entre autres)."
   ]
  },
  {
   "cell_type": "markdown",
   "id": "e3e32c7d",
   "metadata": {},
   "source": [
    "**$\\color{blue}{\\text {Définitions:}}$** <br>\n",
    "Avant d’entrer dans le coeur du sujet, voici quelques termes utilisés fréquemment ensuite:\n",
    "> - Widget : Pour créer un logiciel graphique vous devez ajouter dans une fenêtre des éléments graphiques que l'on nomme widget. Par exemple, les boutons (buttons), les champs de saisie (entry), les étiquettes (labels), les cadres (frames)... <br>\n",
    "> - Labels : Les labels sont des espaces prévus pour écrire du texte. Les labels servent souvent à décrire un widget comme un input.  <br>\n",
    "> - Frame : sont des conteneurs qui permettent de séparer des éléments. Un cadre est une zone rectangulaire qui peut contenir d’autres composants graphiques (widgets). <br>\n"
   ]
  },
  {
   "cell_type": "markdown",
   "id": "0a561215",
   "metadata": {},
   "source": [
    "# <code style=\"background:white;color:brown\">**Widgets :** </code>"
   ]
  },
  {
   "cell_type": "markdown",
   "id": "feb0b030",
   "metadata": {},
   "source": [
    "## Les labels\n",
    "sont des espaces prévus pour écrire du texte. Les labels servent souvent à décrire un widget comme un input"
   ]
  },
  {
   "cell_type": "code",
   "execution_count": null,
   "id": "bc46c875",
   "metadata": {},
   "outputs": [],
   "source": [
    "window = tk.Tk()\n",
    "window.title(\"Simple exemple\")\n",
    "\n",
    "# contenu de la fenêtre\n",
    "label = tk.Label(window, text=\"Bonjour tout le monde\", bg = 'blue')\n",
    "# Placement le label dans «window»\n",
    "label.pack()\n",
    "window.mainloop()"
   ]
  },
  {
   "cell_type": "markdown",
   "id": "f73d08f2",
   "metadata": {},
   "source": [
    "> - La méthode `.pack()` indique à Tk d'adapter la taille de la fenêtre au texte donné."
   ]
  },
  {
   "cell_type": "markdown",
   "id": "3eda1917",
   "metadata": {},
   "source": [
    "## Les boutons\n",
    "permettent de proposer une action à l'utilisateur. Dans l'exemple ci-dessous, on lui propose de fermer la fenêtre."
   ]
  },
  {
   "cell_type": "code",
   "execution_count": null,
   "id": "44d5b190",
   "metadata": {},
   "outputs": [],
   "source": [
    "window = tk.Tk()\n",
    "window.title(\"Simple exemple\")\n",
    "\n",
    "bt = tk.Button(window, text=\"Quitter\", command = window.destroy)\n",
    "bt.pack()\n",
    "window.mainloop()"
   ]
  },
  {
   "cell_type": "markdown",
   "id": "a7af34b5",
   "metadata": {},
   "source": [
    "### Case à cocher\n",
    "Les checkbox proposent à l'utilisateur de cocher une option.\n"
   ]
  },
  {
   "cell_type": "code",
   "execution_count": null,
   "id": "c8526c6b",
   "metadata": {},
   "outputs": [],
   "source": [
    "window = tk.Tk()\n",
    "window.title(\"Simple exemple\")\n",
    "\n",
    "bouton = tk.Checkbutton(window, text=\"choix\")\n",
    "bouton.pack()\n",
    "window.mainloop()"
   ]
  },
  {
   "cell_type": "markdown",
   "id": "ecfc4122",
   "metadata": {},
   "source": [
    "## Entrée / input\n",
    "pour saisir ce que vous voulez!"
   ]
  },
  {
   "cell_type": "code",
   "execution_count": null,
   "id": "e4398419",
   "metadata": {
    "scrolled": true
   },
   "outputs": [],
   "source": [
    "window = tk.Tk()\n",
    "window.title(\"Simple exemple\")\n",
    "\n",
    "entree = tk.Entry(window, textvariable=str, width=30)\n",
    "entree.pack()\n",
    "window.mainloop()"
   ]
  },
  {
   "cell_type": "markdown",
   "id": "32b38402",
   "metadata": {},
   "source": [
    "## Les listes\n",
    "permettent de récupérer une valeur sélectionnée par l'utilisateur."
   ]
  },
  {
   "cell_type": "code",
   "execution_count": null,
   "id": "b101e3d8",
   "metadata": {},
   "outputs": [],
   "source": [
    "window = tk.Tk()\n",
    "window.title(\"Simple exemple\")\n",
    "\n",
    "liste = tk.Listbox(window)\n",
    "liste.insert(1, \"Python\")\n",
    "liste.insert(2, \"Pandas\")\n",
    "liste.insert(3, \"Tkinter\")\n",
    "liste.insert(4, \"Numpy\")\n",
    "liste.insert(5, \"Mathplotlib\")\n",
    "liste.pack()\n",
    "window.mainloop()"
   ]
  },
  {
   "cell_type": "markdown",
   "id": "39e82241",
   "metadata": {},
   "source": [
    "## Canvas\n",
    "tableau en français est un espace dans lequel vous pouvez dessiner ou écrire ce que vous voulez:"
   ]
  },
  {
   "cell_type": "code",
   "execution_count": null,
   "id": "28e22888",
   "metadata": {},
   "outputs": [],
   "source": [
    "window = tk.Tk()\n",
    "window.title(\"Simple exemple\")\n",
    "\n",
    "canvas = tk.Canvas(window, width=150, height=120,\n",
    "                   background='skyblue')\n",
    "ligne1 = canvas.create_line(75, 0, 75, 120)\n",
    "ligne2 = canvas.create_line(0, 60, 150, 60)\n",
    "txt = canvas.create_text(75, 60, text=\"Tkinter\", \n",
    "            font=\"Arial 16 italic\", fill=\"white\")\n",
    "canvas.pack()\n",
    "window.mainloop()"
   ]
  },
  {
   "cell_type": "markdown",
   "id": "926c18b0",
   "metadata": {},
   "source": [
    "## Frames\n",
    "sont des conteneurs qui permettent de séparer des éléments."
   ]
  },
  {
   "cell_type": "code",
   "execution_count": null,
   "id": "c4ba3c79",
   "metadata": {},
   "outputs": [],
   "source": [
    "import tkinter as tk\n",
    "window = tk.Tk()\n",
    "window.title(\"Simple exemple\")\n",
    "\n",
    "window['bg']='white' # permet de définir la couleur d'arriére plan\n",
    "\n",
    "# frame 1\n",
    "Frame1 = tk.Frame(window, borderwidth=2, relief= tk.GROOVE)\n",
    "Frame1.pack(side=tk.LEFT, padx=30, pady=30)\n",
    "\n",
    "# frame 2\n",
    "Frame2 = tk.Frame(window, borderwidth=2, relief=tk.GROOVE)\n",
    "Frame2.pack(side=tk.LEFT, padx=10, pady=10)\n",
    "\n",
    "# frame 3 dans frame 2\n",
    "Frame3 = tk.Frame(Frame2, bg=\"white\", borderwidth=2, \n",
    "                  relief= tk.GROOVE)\n",
    "Frame3.pack(side=tk.RIGHT, padx=5, pady=5)\n",
    "\n",
    "# Ajout de labels\n",
    "tk.Label(Frame1, text=\"Frame 1\").pack(padx=10, pady=10)\n",
    "tk.Label(Frame2, text=\"Frame 2\").pack(padx=10, pady=10)\n",
    "tk.Label(Frame3, text=\"Frame 3\",bg=\"white\").pack(padx=10, pady=10)\n",
    "window.mainloop()"
   ]
  },
  {
   "cell_type": "markdown",
   "id": "85ba3c55",
   "metadata": {},
   "source": [
    "## Le widget Texte \n",
    "vous permet d'afficher et de modifier une zone de texte multiligne avec différents styles. Outre le texte brut, le widget Texte prend en charge les images et les liens intégrés."
   ]
  },
  {
   "cell_type": "code",
   "execution_count": null,
   "id": "ef029703",
   "metadata": {},
   "outputs": [],
   "source": [
    "root = tk.Tk()\n",
    "root.resizable(False, False)\n",
    "root.title(\"Text Widget Example\")\n",
    "\n",
    "text = tk.Text(root, height=8)\n",
    "text.pack()\n",
    "\n",
    "\n",
    "root.mainloop()"
   ]
  },
  {
   "cell_type": "markdown",
   "id": "eb37c764",
   "metadata": {},
   "source": [
    "> - Cette exemple crée un `widget Texte` avec huit lignes et le place sur la fenêtre `root`.<br>\n",
    "> - Dans cet exemple, l'argument `height` spécifie le nombre de lignes du widget Texte."
   ]
  },
  {
   "cell_type": "markdown",
   "id": "2aae1d0a",
   "metadata": {},
   "source": [
    "#### Pour insérer du contenu dans la zone de texte, vous utilisez la méthode $\\color{red}{\\text{insert().}}$ Par example:"
   ]
  },
  {
   "cell_type": "code",
   "execution_count": null,
   "id": "07f599ed",
   "metadata": {},
   "outputs": [],
   "source": [
    "root = tk.Tk()\n",
    "root.resizable(False, False)\n",
    "root.title(\"Exemple\")\n",
    "\n",
    "text = tk.Text(root, height=8)\n",
    "text.pack()\n",
    "text.insert('1.0', 'insérer un text')\n",
    "\n",
    "root.mainloop()"
   ]
  },
  {
   "cell_type": "markdown",
   "id": "921be637",
   "metadata": {},
   "source": [
    "> - Le premier argument de la méthode insert() est la position où vous voulez insérer le texte.<br>\n",
    "> - La position a le format suivant : `ligne.colonne`.<br>\n",
    "> - Dans l'exemple ci-dessus, \"1.0\" signifie ligne 1, caractère 0, qui est le premier caractère de la première ligne de la zone de texte.<br>"
   ]
  },
  {
   "cell_type": "markdown",
   "id": "976af82f",
   "metadata": {},
   "source": [
    "## Intégrer une image\n",
    "Pour intégrer une image vous pouvez créer un canevas et l'ajouter à l'intérieur comme ceci:"
   ]
  },
  {
   "cell_type": "code",
   "execution_count": null,
   "id": "c56beb26",
   "metadata": {},
   "outputs": [],
   "source": [
    "window = tk.Tk()\n",
    "window.title(\"Simple exemple\")\n",
    "\n",
    "photo = tk.PhotoImage(file=\"un.png\")\n",
    "canvas = tk.Canvas(window,width=350, height=200)\n",
    "canvas.create_image(100, 100, image=photo)\n",
    "canvas.pack()\n",
    "\n",
    "window.mainloop()"
   ]
  },
  {
   "cell_type": "markdown",
   "id": "eafe7095",
   "metadata": {},
   "source": [
    "## Récupérer une image et l'afficher\n",
    "Pour cela, vous devez importer le module suivant:"
   ]
  },
  {
   "cell_type": "code",
   "execution_count": 2,
   "id": "a5b58664",
   "metadata": {},
   "outputs": [],
   "source": [
    "import tkinter as tk\n",
    "from tkinter import filedialog as f"
   ]
  },
  {
   "cell_type": "code",
   "execution_count": null,
   "id": "0fa1c13f",
   "metadata": {},
   "outputs": [],
   "source": [
    "window = tk.Tk()\n",
    "window.title(\"Simple exemple\")\n",
    "\n",
    "filepath = f.askopenfilename(title=\"Ouvrir une image\",filetypes=[('png files','.png'),('all files','.*')])\n",
    "photo = tk.PhotoImage(file=filepath)\n",
    "canvas = tk.Canvas(window, width=photo.width(), height=photo.height(), bg=\"yellow\")\n",
    "canvas.create_image(0, 0, anchor='nw', image=photo)\n",
    "canvas.pack()\n",
    "window.mainloop()"
   ]
  },
  {
   "cell_type": "markdown",
   "id": "5e8079a6",
   "metadata": {},
   "source": [
    "La fonction `askopenfilename` retourne le chemin du fichier que vous avez choisi avec le nom de celui-ci.<br>\n",
    "\n",
    "```Exemple: /home/jamila//home/jamila/Downloads/seance_1/My_course``` <br>\n",
    "\n",
    "--> Il permet d'afficher une boîte de dialogue permettant une sélection de fichier unique."
   ]
  },
  {
   "cell_type": "markdown",
   "id": "c6377a2f",
   "metadata": {},
   "source": [
    "## Récupérer un fichier texte et l'afficher"
   ]
  },
  {
   "cell_type": "code",
   "execution_count": null,
   "id": "5fe2289f",
   "metadata": {},
   "outputs": [],
   "source": [
    "window = tk.Tk()\n",
    "window.title(\"Simple exemple\")\n",
    "\n",
    "filename = f.askopenfilename(title=\"Ouvrir votre document\",filetypes=[('txt files','.txt'),('all files','.*')])\n",
    "fichier = open(filename, \"r\")\n",
    "content = fichier.read()\n",
    "fichier.close()\n",
    "\n",
    "tk.Label(window, text=content).pack(padx=10, pady=10)\n",
    "window.mainloop()"
   ]
  },
  {
   "cell_type": "markdown",
   "id": "6e578a3f",
   "metadata": {},
   "source": [
    "## Barre de menu\n",
    "Nous allons créer notre premier exemple de barre de menus qui a un menu $\\color{red}{\\text{Fichier}}$ comme dans la plupart des éditeurs. Nous n’incluons que les sous-menus $\\color{red}{\\text{Créer, Editer et Quitter}}$ pour plus de simplicité."
   ]
  },
  {
   "cell_type": "code",
   "execution_count": 3,
   "id": "21eae55d",
   "metadata": {},
   "outputs": [],
   "source": [
    "window = tk.Tk()\n",
    "window.geometry('300x200') # définir les dimentions de votre fenêtre principale\n",
    "window.title(\"Menu Bar\")\n",
    "\n",
    "menubar = tk.Menu(window)\n",
    "menu1 = tk.Menu(menubar)\n",
    "menu1.add_command(label=\"Créer\")\n",
    "menu1.add_command(label=\"Editer\")\n",
    "menu1.add_separator()\n",
    "menu1.add_command(label=\"Quitter\")\n",
    "menubar.add_cascade(label=\"Fichier\", menu=menu1)\n",
    "\n",
    "window.config(menu=menubar)\n",
    "window.mainloop()"
   ]
  },
  {
   "cell_type": "markdown",
   "id": "ada8b5e6",
   "metadata": {},
   "source": [
    "## Placer des widgets"
   ]
  },
  {
   "cell_type": "markdown",
   "id": "b4a89375",
   "metadata": {},
   "source": [
    "Il est possible de placer les widgets à l'aide du paramètre $\\color{red}{\\text{side}}$ :\n",
    "> - side=TOP      <br>\n",
    "> - side=LEFT    <br>\n",
    "> - side=BOTTOM   <br>\n",
    "> - side=RIGHT    <br>\n",
    "\n",
    "**Exemple**"
   ]
  },
  {
   "cell_type": "code",
   "execution_count": 4,
   "id": "58122f16",
   "metadata": {},
   "outputs": [],
   "source": [
    "window = tk.Tk()\n",
    "\n",
    "tk.Canvas(window, width=250, height=100, bg='skyblue').pack(side=tk.TOP, padx=5, pady=5)\n",
    "tk.Button(window, text ='Bouton 1').pack(side=tk.LEFT, padx=5, pady=5)\n",
    "tk.Button(window, text ='Bouton 2').pack(side=tk.RIGHT, padx=5, pady=5)\n",
    "window.mainloop()"
   ]
  },
  {
   "cell_type": "markdown",
   "id": "287ff82a",
   "metadata": {},
   "source": [
    "# <code style=\"background:white;color:brown\">**Les évènements :** </code>"
   ]
  },
  {
   "cell_type": "markdown",
   "id": "1d51b99d",
   "metadata": {},
   "source": [
    "Quand vous utilisez une interface graphique (par exemple, un traitement de texte), la plupart du temps il ne se passe rien : le programme attend que vous interveniez en écrivant quelque chose ou en cliquant sur un bouton. Vos interventions qui font réagir le programme sont ce qu’on appelle des événements."
   ]
  },
  {
   "cell_type": "markdown",
   "id": "20225eca",
   "metadata": {},
   "source": [
    "- Vous pouvez récupérer les actions utilisateurs à travers les events.<br>\n",
    "\n",
    "- Pour chaque widget, vous pouvez lier un évènement, par exemple dire lorsque l'utilisateur appuie sur telle touche, faire cela.<br>"
   ]
  },
  {
   "cell_type": "markdown",
   "id": "94147a5e",
   "metadata": {},
   "source": [
    "**Dans cet exemple on ajoute des commandes, à la barre de menu q'on a crée auparavant, qui récupèrent les touches appuyées par l'utilisateur:**"
   ]
  },
  {
   "cell_type": "code",
   "execution_count": 5,
   "id": "345db77a",
   "metadata": {},
   "outputs": [],
   "source": [
    "from tkinter.messagebox import showinfo\n",
    "\n",
    "def alert():\n",
    "    showinfo(\"alerte\", \"Bravo!\")\n",
    "    \n",
    "window = tk.Tk()\n",
    "window.geometry('300x200') # définir les dimentions de votre fenêtre principale\n",
    "window.title(\"Menu Bar\")\n",
    "\n",
    "menubar = tk.Menu(window)\n",
    "menu1 = tk.Menu(menubar)\n",
    "menu1.add_command(label=\"Créer\", command=alert)\n",
    "menu1.add_command(label=\"Editer\", command=alert)\n",
    "menu1.add_separator()\n",
    "menu1.add_command(label=\"Quitter\", command=window.destroy)\n",
    "menubar.add_cascade(label=\"Fichier\", menu=menu1)\n",
    "\n",
    "window.config(menu=menubar)\n",
    "window.mainloop()"
   ]
  },
  {
   "cell_type": "markdown",
   "id": "5e227d71",
   "metadata": {},
   "source": [
    "### Affichage d'un graphique "
   ]
  },
  {
   "cell_type": "markdown",
   "id": "49b1ea65",
   "metadata": {},
   "source": [
    "#### On importe les classes `Figure, FigureCanvasTkAgg et NavigationToolbar2Tk` suivantes :"
   ]
  },
  {
   "cell_type": "code",
   "execution_count": 13,
   "id": "9457ad56",
   "metadata": {},
   "outputs": [],
   "source": [
    "import tkinter as tk \n",
    "from matplotlib.figure import Figure \n",
    "from matplotlib.backends.backend_tkagg import (FigureCanvasTkAgg, \n",
    "                                               NavigationToolbar2Tk) "
   ]
  },
  {
   "cell_type": "markdown",
   "id": "138c50a7",
   "metadata": {},
   "source": [
    "> - La classe `Figure` représente la zone de dessin sur laquelle les graphiques matplotlib seront dessinés. <br>\n",
    "\n",
    "> - La classe `FigureCanvasTkAgg` est une interface entre Figure et Tkinter Canvas.<br>\n",
    "\n",
    "> - Le `NavigationToolbar2Tk` est une barre d'outils intégrée pour la figure sur le graphique.<br>"
   ]
  },
  {
   "cell_type": "markdown",
   "id": "c0e1bc8b",
   "metadata": {},
   "source": [
    "#### Nous créons notre fenêtre Tkinter `root`"
   ]
  },
  {
   "cell_type": "code",
   "execution_count": 14,
   "id": "23d857eb",
   "metadata": {},
   "outputs": [
    {
     "data": {
      "text/plain": [
       "''"
      ]
     },
     "execution_count": 14,
     "metadata": {},
     "output_type": "execute_result"
    }
   ],
   "source": [
    "root=tk.Tk()\n",
    "root.title('Plotting in Tkinter') \n",
    "root.geometry(\"500x500\")"
   ]
  },
  {
   "cell_type": "markdown",
   "id": "3446f0a6",
   "metadata": {},
   "source": [
    "#### Aprés on prépare les données à afficher sur le graphique à barres :"
   ]
  },
  {
   "cell_type": "code",
   "execution_count": 15,
   "id": "b89416bc",
   "metadata": {},
   "outputs": [],
   "source": [
    "data = {\n",
    "    'Python': 11.27,\n",
    "    'C': 11.16,\n",
    "    'Java': 10.46,\n",
    "    'C++': 7.5,\n",
    "    'C#': 5.26\n",
    "}\n",
    "\n",
    "languages = data.keys()\n",
    "popularity = data.values()"
   ]
  },
  {
   "cell_type": "markdown",
   "id": "ab8db06a",
   "metadata": {},
   "source": [
    "#### Ensuite créer une figure pour contenir le graphique :"
   ]
  },
  {
   "cell_type": "code",
   "execution_count": 16,
   "id": "307e8cca",
   "metadata": {},
   "outputs": [],
   "source": [
    "figure = Figure(figsize=(6, 4), dpi=100)"
   ]
  },
  {
   "cell_type": "markdown",
   "id": "a4d36d22",
   "metadata": {},
   "source": [
    "#### créer un objet FigureCanvasTkAgg qui connecte l'objet Figure avec un objet Canvas de Tkinter :"
   ]
  },
  {
   "cell_type": "code",
   "execution_count": 17,
   "id": "685e0439",
   "metadata": {},
   "outputs": [],
   "source": [
    "figure_canvas = FigureCanvasTkAgg(figure, root)"
   ]
  },
  {
   "cell_type": "markdown",
   "id": "f0ef5208",
   "metadata": {},
   "source": [
    "Notez que l'objet `FigureCanvasTkAgg`\n",
    "n'est pas un objet $\\color{red}{\\text{Canvas}}$ mais contient un objet $\\color{red}{\\text{Canvas}}$"
   ]
  },
  {
   "cell_type": "markdown",
   "id": "97ada1e1",
   "metadata": {},
   "source": [
    "#### créer une barre d'outils intégrée à matplotlib :"
   ]
  },
  {
   "cell_type": "code",
   "execution_count": 18,
   "id": "f9b1d873",
   "metadata": {},
   "outputs": [
    {
     "data": {
      "text/plain": [
       "<matplotlib.backends._backend_tk.NavigationToolbar2Tk object .!navigationtoolbar2tk>"
      ]
     },
     "execution_count": 18,
     "metadata": {},
     "output_type": "execute_result"
    }
   ],
   "source": [
    "NavigationToolbar2Tk(figure_canvas, root)"
   ]
  },
  {
   "cell_type": "markdown",
   "id": "c3f4ce39",
   "metadata": {},
   "source": [
    "#### ajouter un \"subplot\" à la figure et renvoyez les axes de la \"subplot\" :"
   ]
  },
  {
   "cell_type": "code",
   "execution_count": 19,
   "id": "6297c128",
   "metadata": {},
   "outputs": [],
   "source": [
    "axes = figure.add_subplot()"
   ]
  },
  {
   "cell_type": "markdown",
   "id": "3bc1df34",
   "metadata": {},
   "source": [
    "#### créer un graphique à barres en appelant la méthode bar() des axes et en lui transmettant les langues et la popularité. Définir également le titre et l'étiquette de l'axe des ordonnées :"
   ]
  },
  {
   "cell_type": "code",
   "execution_count": 20,
   "id": "c0bd4c6e",
   "metadata": {},
   "outputs": [
    {
     "data": {
      "text/plain": [
       "Text(0, 0.5, 'Popularity')"
      ]
     },
     "execution_count": 20,
     "metadata": {},
     "output_type": "execute_result"
    }
   ],
   "source": [
    "axes.bar(languages, popularity)\n",
    "axes.set_title('Top 5 Programming Languages')\n",
    "axes.set_ylabel('Popularity')"
   ]
  },
  {
   "cell_type": "markdown",
   "id": "b2d88657",
   "metadata": {},
   "source": [
    "#### Enfin, placez le graphique sur la fenêtre principale:"
   ]
  },
  {
   "cell_type": "code",
   "execution_count": 21,
   "id": "ae1895ff",
   "metadata": {},
   "outputs": [],
   "source": [
    "figure_canvas.get_tk_widget().pack(side=tk.TOP, fill=tk.BOTH, expand=1)"
   ]
  },
  {
   "cell_type": "code",
   "execution_count": 22,
   "id": "8895771c",
   "metadata": {},
   "outputs": [],
   "source": [
    "root.mainloop()"
   ]
  },
  {
   "cell_type": "markdown",
   "id": "ec89c3ac",
   "metadata": {},
   "source": [
    "--------------------------------------------------"
   ]
  },
  {
   "cell_type": "markdown",
   "id": "7d89176d",
   "metadata": {},
   "source": [
    "## <code style=\"background:blue;color:yellow\">**Exemple 2 :**</code> \n",
    "\n",
    "Ici on va afficher les figures (bruité et lissé de seeing) de l'exercice 2 de série 3 (en lisant les donnés de fichier `seeing.txt`)."
   ]
  },
  {
   "cell_type": "code",
   "execution_count": 23,
   "id": "42d9f4c1",
   "metadata": {},
   "outputs": [],
   "source": [
    "import tkinter as tk \n",
    "from matplotlib.figure import Figure \n",
    "from matplotlib.backends.backend_tkagg import (FigureCanvasTkAgg, NavigationToolbar2Tk) \n",
    "import numpy as np\n",
    "import pandas as pd\n",
    "import matplotlib.pyplot as plt\n",
    "def lissage(Lx,Ly,p):\n",
    "        x=[]\n",
    "        y=[]\n",
    "        x = Lx[p: -p]\n",
    "        for index in range(p, len(Ly)-p):\n",
    "            average = np.mean(Ly[index-p : index+p+1])\n",
    "            y.append(average)     \n",
    "        return x,y\n",
    "\n",
    "def plot():\n",
    "    df=pd.read_csv(\"./data/seeing.txt\",sep='|', names= ['jourjulien', 'seeing'], header = None).drop_duplicates()\n",
    "    p = 9\n",
    "    x, y = lissage(df.index, df['seeing'], p)\n",
    "    index = np.array(x)\n",
    "    seeing = np.array(y)\n",
    "    jourjulien = np.array(df[\"jourjulien\"][p:-p])\n",
    "    \n",
    "    fig = Figure(figsize = (16, 8))\n",
    "    ax = fig.add_subplot() \n",
    "    \n",
    "    ax.plot(df[\"jourjulien\"],df['seeing'])\n",
    "    ax.plot(jourjulien,seeing)\n",
    "    ax.set_title('Variation de Seeing')\n",
    "    ax.set_xlabel('Jourjulien')\n",
    "    ax.set_ylabel('Seeing')\n",
    "    \n",
    "    canvas = FigureCanvasTkAgg(fig, master = root) \n",
    "    NavigationToolbar2Tk(canvas, root) \n",
    "    canvas.get_tk_widget().pack()\n",
    "\n",
    "    \n",
    "root=tk.Tk()\n",
    "root.title('Traçage') \n",
    "root.geometry(\"500x500\")   \n",
    "root['bg']='ivory'\n",
    "button = tk.Button(master = root, command = plot,height = 2, width = 10, text = \"Plot\" ,bg = 'brown') \n",
    "  \n",
    "button.pack() \n",
    "root.mainloop()    "
   ]
  },
  {
   "cell_type": "markdown",
   "id": "218cf56a",
   "metadata": {},
   "source": [
    "<!--NAVIGATION-->\n",
    "<  [Interface Graphique Tkinter](Part_6.ipynb) | [Sommaire](Intro_Phyton_Master.ipynb) >"
   ]
  }
 ],
 "metadata": {
  "kernelspec": {
   "display_name": "Python 3",
   "language": "python",
   "name": "python3"
  },
  "language_info": {
   "codemirror_mode": {
    "name": "ipython",
    "version": 3
   },
   "file_extension": ".py",
   "mimetype": "text/x-python",
   "name": "python",
   "nbconvert_exporter": "python",
   "pygments_lexer": "ipython3",
   "version": "3.8.5"
  }
 },
 "nbformat": 4,
 "nbformat_minor": 5
}
