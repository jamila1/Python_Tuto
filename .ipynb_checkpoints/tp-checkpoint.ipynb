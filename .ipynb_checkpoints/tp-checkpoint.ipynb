{
 "cells": [
  {
   "cell_type": "code",
   "execution_count": 2,
   "metadata": {},
   "outputs": [],
   "source": [
    "import numpy as np\n",
    "import pandas as pd\n",
    "import matplotlib.pyplot as plt\n",
    "import matplotlib.cm as cm\n",
    "from datetime import datetime"
   ]
  },
  {
   "cell_type": "code",
   "execution_count": 5,
   "metadata": {},
   "outputs": [
    {
     "data": {
      "text/plain": [
       "9289"
      ]
     },
     "execution_count": 5,
     "metadata": {},
     "output_type": "execute_result"
    }
   ],
   "source": [
    "df=pd.read_csv(\"./vol00N/Vol093.00n\",sep=' ',names=[\"hi\",\"T(°C)\",\"P(mbar)\",\"l'humidité relative (%)\",\" la vitesse (m/s)\",\"la direction du vent\", \"g\",\"Cn2\",\"Cn21\"],skipinitialspace=True, index_col = False, header = None).drop_duplicates()\n",
    "#df.loc[df.index[3]]\n",
    "df.loc[df.index[-1], 'hi']\n"
   ]
  },
  {
   "cell_type": "code",
   "execution_count": 8,
   "metadata": {},
   "outputs": [],
   "source": [
    "Alt_ref = df['hi'][0]\n",
    "CN_mean = []\n",
    "CN_med = []\n",
    "cn=[]\n",
    "hi=[]\n",
    "nb_lay = []\n",
    "c = 0\n",
    "for index in df.index:    \n",
    "\n",
    "    if df['hi'][index]<= Alt_ref + 1000 and df['hi'][index] != df.loc[df.index[-1], 'hi']:\n",
    "        hi.append(df['hi'][index])\n",
    "        cn.append(df['Cn2'][index])\n",
    "        \n",
    "    elif df['hi'][index]<= Alt_ref + 1000 and df['hi'][index] == df.loc[df.index[-1], 'hi'] :\n",
    "        CN_mean.append(np.mean(cn))            \n",
    "        CN_med.append(np.median(cn))\n",
    "        c = c + 1 \n",
    "        nb_lay.append(c)\n",
    "        break\n",
    "\n",
    "    else:\n",
    "        CN_mean.append(np.mean(cn))            \n",
    "        CN_med.append(np.median(cn)) \n",
    "        c = c + 1 \n",
    "        nb_lay.append(c)\n",
    "        cn = []\n",
    "        hi = []\n",
    "        Alt_ref = df['hi'][index]\n",
    "        hi.append(df['hi'][index])\n",
    "        cn.append(df['Cn2'][index])"
   ]
  },
  {
   "cell_type": "code",
   "execution_count": 11,
   "metadata": {},
   "outputs": [
    {
     "data": {
      "image/png": "[encoded data removed]",
      "text/plain": [
       "<Figure size 1152x576 with 1 Axes>"
      ]
     },
     "metadata": {
      "needs_background": "light"
     },
     "output_type": "display_data"
    }
   ],
   "source": [
    "fig, ax = plt.subplots()\n",
    "fig.set_size_inches(16,8)\n",
    "plt.scatter(nb_lay,CN_mean, label = 'mean')\n",
    "plt.scatter(nb_lay,CN_med, label = 'mediane')\n",
    "plt.xlabel('les couches')\n",
    "plt.ylabel('CN2')\n",
    "plt.legend()\n",
    "plt.minorticks_on()\n",
    "#plt.savefig(\"fig\")"
   ]
  },
  {
   "cell_type": "code",
   "execution_count": null,
   "metadata": {},
   "outputs": [],
   "source": []
  }
 ],
 "metadata": {
  "kernelspec": {
   "display_name": "Python 3",
   "language": "python",
   "name": "python3"
  },
  "language_info": {
   "codemirror_mode": {
    "name": "ipython",
    "version": 3
   },
   "file_extension": ".py",
   "mimetype": "text/x-python",
   "name": "python",
   "nbconvert_exporter": "python",
   "pygments_lexer": "ipython3",
   "version": "3.8.5"
  }
 },
 "nbformat": 4,
 "nbformat_minor": 2
}
