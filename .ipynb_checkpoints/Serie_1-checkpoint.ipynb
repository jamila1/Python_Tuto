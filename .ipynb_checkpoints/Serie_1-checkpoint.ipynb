{
 "cells": [
  {
   "cell_type": "markdown",
   "metadata": {
    "id": "3kTFSC9dCyQE"
   },
   "source": [
    "# Application directe du cours\n",
    "## **Exercice 1** :\n",
    "définir la liste : liste =[17, 38, 10, 25, 72], puis effectuez les actions suivantes : \n",
    "\n",
    "– triez et affichez la liste ; "
   ]
  },
  {
   "cell_type": "code",
   "execution_count": 1,
   "metadata": {
    "colab": {
     "base_uri": "https://localhost:8080/"
    },
    "executionInfo": {
     "elapsed": 468,
     "status": "ok",
     "timestamp": 1649264423956,
     "user": {
      "displayName": "jamila chouqar",
      "userId": "03442807739942265681"
     },
     "user_tz": 0
    },
    "id": "5QZ5D6QADlzP",
    "outputId": "17bd2ed5-fc3c-47ab-fa24-9804c9544e7a"
   },
   "outputs": [
    {
     "data": {
      "text/plain": [
       "[10, 17, 25, 38, 72]"
      ]
     },
     "execution_count": 1,
     "metadata": {},
     "output_type": "execute_result"
    }
   ],
   "source": [
    "liste = [17, 38, 10, 25, 72]\n",
    "for i in range(len(liste)):\n",
    "        mini=i\n",
    "        for j in range(i+1, len (liste)):\n",
    "            if liste[j]<liste[mini] :\n",
    "                mini = j\n",
    "        liste[i], liste[mini] = liste[mini], liste[i]\n",
    "liste"
   ]
  },
  {
   "cell_type": "markdown",
   "metadata": {
    "id": "lC2CvBscFFiR"
   },
   "source": [
    "– ajoutez l’élément 12 à la liste et affichez la liste ;\n"
   ]
  },
  {
   "cell_type": "code",
   "execution_count": 2,
   "metadata": {
    "colab": {
     "base_uri": "https://localhost:8080/"
    },
    "executionInfo": {
     "elapsed": 7,
     "status": "ok",
     "timestamp": 1649252867592,
     "user": {
      "displayName": "jamila chouqar",
      "userId": "03442807739942265681"
     },
     "user_tz": 0
    },
    "id": "CVca2uAdFIGB",
    "outputId": "5e6cf98c-0901-4c08-a3b3-d764a1fc611d"
   },
   "outputs": [
    {
     "name": "stdout",
     "output_type": "stream",
     "text": [
      "[10, 17, 25, 38, 72, 12]\n"
     ]
    }
   ],
   "source": [
    "nl = []\n",
    "nl = liste + [12]\n",
    "print(nl)"
   ]
  },
  {
   "cell_type": "markdown",
   "metadata": {
    "id": "JUxUzlvNFIfA"
   },
   "source": [
    "– renversez et affichez la liste ;\n"
   ]
  },
  {
   "cell_type": "code",
   "execution_count": 3,
   "metadata": {
    "colab": {
     "base_uri": "https://localhost:8080/"
    },
    "executionInfo": {
     "elapsed": 8,
     "status": "ok",
     "timestamp": 1649252655962,
     "user": {
      "displayName": "jamila chouqar",
      "userId": "03442807739942265681"
     },
     "user_tz": 0
    },
    "id": "hdaYkKSVCk4E",
    "outputId": "18a1b401-e3ca-45d0-e6d6-67bd826760d4"
   },
   "outputs": [
    {
     "name": "stdout",
     "output_type": "stream",
     "text": [
      "[72, 38, 25, 17, 10]\n"
     ]
    }
   ],
   "source": [
    "idx = len(liste) - 1\n",
    "newList = []\n",
    "while (idx >= 0):\n",
    "  newList.append(liste[idx])\n",
    "  idx = idx - 1\n",
    "liste = newList  \n",
    "print(newList)"
   ]
  },
  {
   "cell_type": "markdown",
   "metadata": {
    "id": "GUtIjpFfHJ1i"
   },
   "source": [
    "– affichez l’indice de l’élément 17 ;\n",
    "\n"
   ]
  },
  {
   "cell_type": "code",
   "execution_count": 4,
   "metadata": {
    "colab": {
     "base_uri": "https://localhost:8080/"
    },
    "executionInfo": {
     "elapsed": 273,
     "status": "ok",
     "timestamp": 1649252657714,
     "user": {
      "displayName": "jamila chouqar",
      "userId": "03442807739942265681"
     },
     "user_tz": 0
    },
    "id": "OMoZwhRcESTj",
    "outputId": "8a470a3a-c461-4d3d-e41f-0964400de2f4"
   },
   "outputs": [
    {
     "name": "stdout",
     "output_type": "stream",
     "text": [
      "10\n"
     ]
    }
   ],
   "source": [
    "print(liste[-1])"
   ]
  },
  {
   "cell_type": "markdown",
   "metadata": {},
   "source": [
    "-enlevez l’élément 38 et affichez la liste"
   ]
  },
  {
   "cell_type": "code",
   "execution_count": 5,
   "metadata": {},
   "outputs": [
    {
     "data": {
      "text/plain": [
       "[72, 25, 17, 10]"
      ]
     },
     "execution_count": 5,
     "metadata": {},
     "output_type": "execute_result"
    }
   ],
   "source": [
    "new = []\n",
    "for i in range(len(liste)):\n",
    "    if liste[i]!=38:\n",
    "        new.append(liste[i])\n",
    "new"
   ]
  },
  {
   "cell_type": "markdown",
   "metadata": {
    "id": "jOBKdzuaN_iI"
   },
   "source": [
    "# **Exercice 2 :**\n",
    "Écrire un programme en Python qui calcul la somme des éléments d'une liste de nombres. Et un autre qui permet de multiplier tous les éléments d'une liste de nombres."
   ]
  },
  {
   "cell_type": "code",
   "execution_count": 6,
   "metadata": {
    "colab": {
     "base_uri": "https://localhost:8080/"
    },
    "executionInfo": {
     "elapsed": 435,
     "status": "ok",
     "timestamp": 1649255300676,
     "user": {
      "displayName": "jamila chouqar",
      "userId": "03442807739942265681"
     },
     "user_tz": 0
    },
    "id": "9bSNAxOxOROC",
    "outputId": "c54ce515-ecf0-4bee-80ff-aae136f79f8d"
   },
   "outputs": [
    {
     "name": "stdout",
     "output_type": "stream",
     "text": [
      "30\n",
      "[2, 5, 3]\n"
     ]
    }
   ],
   "source": [
    "# calculer le produit des éléments d'une liste\n",
    "m = 1 \n",
    "a=[2,5,3]\n",
    "# Création du produit en parcourant les éléments de la liste\n",
    "for x in a:\n",
    "  m = m*x\n",
    "print(m)\n",
    "print(([2,5,3]))"
   ]
  },
  {
   "cell_type": "code",
   "execution_count": 7,
   "metadata": {
    "colab": {
     "base_uri": "https://localhost:8080/"
    },
    "executionInfo": {
     "elapsed": 600,
     "status": "ok",
     "timestamp": 1649255257730,
     "user": {
      "displayName": "jamila chouqar",
      "userId": "03442807739942265681"
     },
     "user_tz": 0
    },
    "id": "s7WgruZrRIKQ",
    "outputId": "61494a90-7665-4fbf-b3cb-cf8f243478d2"
   },
   "outputs": [
    {
     "name": "stdout",
     "output_type": "stream",
     "text": [
      "10\n"
     ]
    }
   ],
   "source": [
    "#calculer la somme des éléments d'une liste\n",
    "s = 0\n",
    "# Création de la somme en parcourant les éléments de la liste\n",
    "for x in a:\n",
    "  s = s + x\n",
    "print(s) "
   ]
  },
  {
   "cell_type": "markdown",
   "metadata": {
    "id": "18f4hTxhORlC"
   },
   "source": [
    "## **Exercice 3 :**\n",
    "\n",
    "Écrire un programme Python qui permet de supprimer les éléments dupliqués d'une liste.\n",
    "\n"
   ]
  },
  {
   "cell_type": "code",
   "execution_count": 8,
   "metadata": {
    "colab": {
     "base_uri": "https://localhost:8080/"
    },
    "executionInfo": {
     "elapsed": 469,
     "status": "ok",
     "timestamp": 1649254963420,
     "user": {
      "displayName": "jamila chouqar",
      "userId": "03442807739942265681"
     },
     "user_tz": 0
    },
    "id": "z-RG4O5YOsKe",
    "outputId": "65146576-1a2b-4172-9298-e49a800d9580"
   },
   "outputs": [
    {
     "data": {
      "text/plain": [
       "[2, 7, 13, 17]"
      ]
     },
     "execution_count": 8,
     "metadata": {},
     "output_type": "execute_result"
    }
   ],
   "source": [
    "# définir et initialiser la liste sans élément dupliqué\n",
    "l = [2, 7, 13, 2, 17, 13, 2, 7, 13]\n",
    "unique = []\n",
    "# construction de la liste sans éléments dupliqués\n",
    "for x in l:\n",
    "  if x not in unique:\n",
    "     unique.append(x) # la fonction append() ajoute des éléments à la fin de la liste\n",
    "unique        "
   ]
  },
  {
   "cell_type": "markdown",
   "metadata": {
    "id": "8REaqcKHYUe7"
   },
   "source": [
    "# **Exercice 4:**\n",
    "\n",
    "Afficher les entiers de 1 à 10"
   ]
  },
  {
   "cell_type": "code",
   "execution_count": 9,
   "metadata": {
    "id": "Qr2zPxI4YY7N"
   },
   "outputs": [
    {
     "name": "stdout",
     "output_type": "stream",
     "text": [
      "Programme qui affiche les nombres de 1 à 10.\n",
      "1\n",
      "2\n",
      "3\n",
      "4\n",
      "5\n",
      "6\n",
      "7\n",
      "8\n",
      "9\n",
      "10\n"
     ]
    }
   ],
   "source": [
    "######### Programme qui affiche les nombres de 1 à 10.\n",
    " \n",
    "print(\"Programme qui affiche les nombres de 1 à 10.\")\n",
    " \n",
    "for i in range(1,11):#créeation d'une boucle de 10 itérations\n",
    "    print(i)"
   ]
  },
  {
   "cell_type": "markdown",
   "metadata": {
    "id": "GTTw1y7sYduK"
   },
   "source": [
    "# **Exercice 5:**\n",
    "Programme Python qui affiche tous les nombres paires inférieurs à 100."
   ]
  },
  {
   "cell_type": "code",
   "execution_count": 10,
   "metadata": {
    "id": "S7biHX_-Ykgb"
   },
   "outputs": [
    {
     "name": "stdout",
     "output_type": "stream",
     "text": [
      "\n",
      "***** Tous les nombres paires inférieurs à 100  ***** \n",
      "\n",
      "0\t2\t4\t6\t8\t10\t12\t14\t16\t18\t20\t22\t24\t26\t28\t30\t32\t34\t36\t38\t40\t42\t44\t46\t48\t50\t52\t54\t56\t58\t60\t62\t64\t66\t68\t70\t72\t74\t76\t78\t80\t82\t84\t86\t88\t90\t92\t94\t96\t98\t100\t"
     ]
    }
   ],
   "source": [
    "####### Programme qui affiche tous les nombres paires inférieurs à 100\n",
    " \n",
    "print(\"\\n***** Tous les nombres paires inférieurs à 100  ***** \\n\")\n",
    " \n",
    "for i in range(0,101,2) : #boucle de 0 à 100 avec un pas égale à 2\n",
    "    print(i,end=\"\\t\") # pour afficher tous les nombres dans une ligne (séparer par une tabulation \\t) au lieu des les affichés chaqun dans une ligne"
   ]
  },
  {
   "cell_type": "markdown",
   "metadata": {
    "id": "D2KUOSSPYtr5"
   },
   "source": [
    "# **Exercice 6:**\n",
    "Résoudre une équation du second degré en Python"
   ]
  },
  {
   "cell_type": "code",
   "execution_count": 12,
   "metadata": {
    "id": "kfb7EEoJZLaF"
   },
   "outputs": [
    {
     "name": "stdout",
     "output_type": "stream",
     "text": [
      "a = 1\n",
      "b = 2\n",
      "c = 1\n",
      "Cette equation est acceptée une seule solution qui est: [-1.0]\n"
     ]
    }
   ],
   "source": [
    "import math\n",
    "\n",
    "a = float(input(\"a = \"))\n",
    "b = float(input(\"b = \"))\n",
    "c = float(input(\"c = \"))\n",
    "delta = b**2-(4*a*c)\n",
    "if delta > 0:\n",
    "  racineDeDelta=math.sqrt(delta)\n",
    "  x1=(-b-racineDeDelta)/(2*a)\n",
    "  x2=(-b+racineDeDelta)/(2*a)\n",
    "  print(\"Cette equation est acceptée deux solutions qui sont:\",x1,\"et\",x2)\n",
    "elif delta < 0:\n",
    "  print(\"il n accepte pas une solution en R\")  #liste vide\n",
    "else:\n",
    "  x1= [-b/(2*a)] #liste d'un seul élément\n",
    "  print(\"Cette equation est acceptée une seule solution qui est:\",x1)"
   ]
  },
  {
   "cell_type": "markdown",
   "metadata": {},
   "source": [
    "# Exercice 7\n",
    "on considèrera une liste initialisé avec 10 valeurs aléatoires. le but de dire, si la valeur saisie par l’utilisateur est dans la liste ou non."
   ]
  },
  {
   "cell_type": "code",
   "execution_count": 13,
   "metadata": {},
   "outputs": [
    {
     "name": "stdout",
     "output_type": "stream",
     "text": [
      "entrer otre nombre entre 1 et 10 :2\n",
      "La valeur est dans la liste\n",
      "4,8,1,2,1,10,10,9,1,1,\n"
     ]
    }
   ],
   "source": [
    "import random\n",
    "liste=[]\n",
    "# Initialisation d'une liste de 10 éléments\n",
    "for i in range (0,10):\n",
    "    liste.append (random.randint (1,10)) # la fonction randint(debut, fin) permet de générer des nombres aléatoires\n",
    "\n",
    "n=int (input (\"entrer otre nombre entre 1 et 10 :\"))\n",
    "pos = 0\n",
    "\n",
    "while ((pos < len(liste)) and (liste[pos] != n)):\n",
    "    pos += 1\n",
    "\n",
    "if ( pos < len(liste)):\n",
    "    print (\"La valeur est dans la liste\")\n",
    "else:\n",
    "    print (\"La valeur ne se trouve pas dans la liste\")\n",
    "\n",
    "# On affiche le tirage pour contrôle\n",
    "for tirage in liste:\n",
    "    print(tirage,end=',')\n",
    "print()    "
   ]
  },
  {
   "cell_type": "markdown",
   "metadata": {},
   "source": [
    "<!--NAVIGATION-->\n",
    "<  [Exercices:Serie_1](Serie_1.ipynb) | [Sommaire](Intro_Phyton_Master.ipynb) >"
   ]
  }
 ],
 "metadata": {
  "colab": {
   "authorship_tag": "ABX9TyNoETa6kIiSl37/cu2AXuT4",
   "collapsed_sections": [],
   "name": "Exercice_1.ipynb",
   "provenance": []
  },
  "kernelspec": {
   "display_name": "Python 3",
   "language": "python",
   "name": "python3"
  },
  "language_info": {
   "codemirror_mode": {
    "name": "ipython",
    "version": 3
   },
   "file_extension": ".py",
   "mimetype": "text/x-python",
   "name": "python",
   "nbconvert_exporter": "python",
   "pygments_lexer": "ipython3",
   "version": "3.8.5"
  }
 },
 "nbformat": 4,
 "nbformat_minor": 1
}
