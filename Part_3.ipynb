{
 "cells": [
  {
   "cell_type": "markdown",
   "metadata": {
    "id": "YJhgqC5HVaqB"
   },
   "source": [
    "# I- Les Fonctions"
   ]
  },
  {
   "cell_type": "markdown",
   "metadata": {
    "id": "pjxhWVoDVtFB"
   },
   "source": [
    "En programmation, les fonctions sont très utiles pour réaliser plusieurs fois la même opération au sein d'un programme. Elles rendent également le code plus lisible et plus clair en le fractionnant en blocs logiques.\n",
    "\n",
    "Vous connaissez déjà certaines fonctions Python. Par exemple math.cos(angle) du module math renvoie le cosinus de la variable angle exprimé en radian. Vous connaissez aussi des fonctions internes à Python comme range() ou len().\n"
   ]
  },
  {
   "cell_type": "markdown",
   "metadata": {
    "id": "SrihYWeYWQGE"
   },
   "source": [
    "## **1.Définition**\n",
    "\n",
    "Pour définir une fonction, Python utilise le mot-clé def. Si on souhaite que la fonction renvoie quelque chose, il faut utiliser le mot-clé return. Par exemple :"
   ]
  },
  {
   "cell_type": "code",
   "execution_count": 1,
   "metadata": {
    "colab": {
     "base_uri": "https://localhost:8080/"
    },
    "executionInfo": {
     "elapsed": 12,
     "status": "ok",
     "timestamp": 1649843797638,
     "user": {
      "displayName": "Amal LOUTFI",
      "userId": "16782763518068187931"
     },
     "user_tz": -120
    },
    "id": "XqFEyMDaWVQr",
    "outputId": "26bf3e8c-bcda-4b61-fe12-43793d0d4047"
   },
   "outputs": [
    {
     "name": "stdout",
     "output_type": "stream",
     "text": [
      "4\n"
     ]
    }
   ],
   "source": [
    "def carre(x):\n",
    "  return x**2\n",
    "\n",
    "print(carre(2))\n"
   ]
  },
  {
   "cell_type": "markdown",
   "metadata": {
    "id": "iFHK4KqFWz0b"
   },
   "source": [
    "Notez que la syntaxe de def utilise les deux-points comme les boucles for et while ainsi que les tests if, un bloc d’instructions est donc attendu. De même que pour les boucles et les tests, l'indentation de ce bloc d'instructions (qu'on appelle le corps de la fonction) est obligatoire.\n",
    "\n",
    "Dans l'exemple précédent, nous avons passé un argument à la fonction carre() qui nous a renvoyé (ou retourné) une valeur que nous avons immédiatement affichée à l'écran avec l'instruction print(). Que veut dire valeur renvoyée ? Et bien cela signifie que cette dernière est récupérable dans une variable :"
   ]
  },
  {
   "cell_type": "code",
   "execution_count": 2,
   "metadata": {
    "colab": {
     "base_uri": "https://localhost:8080/"
    },
    "executionInfo": {
     "elapsed": 446,
     "status": "ok",
     "timestamp": 1649843899197,
     "user": {
      "displayName": "Amal LOUTFI",
      "userId": "16782763518068187931"
     },
     "user_tz": -120
    },
    "id": "ygu4ktFNW-8l",
    "outputId": "51505b7d-b031-4b7b-fcd6-d9ca5c72138a"
   },
   "outputs": [
    {
     "name": "stdout",
     "output_type": "stream",
     "text": [
      "4\n"
     ]
    }
   ],
   "source": [
    "res = carre(2)\n",
    "print(res)"
   ]
  },
  {
   "cell_type": "markdown",
   "metadata": {
    "id": "1pLeGKhJXFQX"
   },
   "source": [
    "Ici, le résultat renvoyé par la fonction est stocké dans la variable res. Notez qu'une fonction ne prend pas forcément un argument et ne renvoie pas forcément une valeur, par exemple :"
   ]
  },
  {
   "cell_type": "code",
   "execution_count": 3,
   "metadata": {
    "colab": {
     "base_uri": "https://localhost:8080/"
    },
    "executionInfo": {
     "elapsed": 451,
     "status": "ok",
     "timestamp": 1649843952808,
     "user": {
      "displayName": "Amal LOUTFI",
      "userId": "16782763518068187931"
     },
     "user_tz": -120
    },
    "id": "AAaG3N-RXGbr",
    "outputId": "e9a46803-cf76-4bb3-a10c-a7a51e93514d"
   },
   "outputs": [
    {
     "name": "stdout",
     "output_type": "stream",
     "text": [
      "bonjour\n"
     ]
    }
   ],
   "source": [
    "def hello():\n",
    "  print(\"bonjour\")\n",
    "\n",
    "hello()"
   ]
  },
  {
   "cell_type": "markdown",
   "metadata": {
    "id": "qDfMiLZYXRte"
   },
   "source": [
    "Dans ce cas la fonction, hello() se contente d'afficher la chaîne de caractères \"bonjour\" à l'écran. Elle ne prend aucun argument et ne renvoie rien. Par conséquent, cela n'a pas de sens de vouloir récupérer dans une variable le résultat renvoyé par une telle fonction. Si on essaie tout de même, Python affecte la valeur None qui signifie rien en anglais:"
   ]
  },
  {
   "cell_type": "code",
   "execution_count": 4,
   "metadata": {
    "id": "-DdVg5ljXSmM"
   },
   "outputs": [
    {
     "name": "stdout",
     "output_type": "stream",
     "text": [
      "bonjour\n",
      "None\n"
     ]
    }
   ],
   "source": [
    "var = hello()\n",
    "print(var)\n"
   ]
  },
  {
   "cell_type": "markdown",
   "metadata": {
    "id": "5Ziuv8PbXgBe"
   },
   "source": [
    "Ceci n'est pas une faute car Python n'émet pas d'erreur, toutefois cela ne présente, la plupart du temps, guère d'intérêt."
   ]
  },
  {
   "cell_type": "markdown",
   "metadata": {
    "id": "MJ0OWlS_Xh8C"
   },
   "source": [
    "## **2.Passage d'arguments**\n",
    "\n",
    "Le nombre d'arguments que l'on peut passer à une fonction est variable. Nous avons vu ci-dessus des fonctions auxquelles on passait 0 ou 1 argument. Dans les chapitres précédents, vous avez rencontré des fonctions internes à Python qui prenaient au moins 2 arguments. Souvenez-vous par exemple de range(1, 10) ou encore range(1, 10, 2). Le nombre d'argument est donc laissé libre à l'initiative du programmeur qui développe une nouvelle fonction.\n",
    "\n",
    "Une particularité des fonctions en Python est que vous n'êtes pas obligé de préciser le type des arguments que vous lui passez, dès lors que les opérations que vous effectuez avec ces arguments sont valides. Python est en effet connu comme étant un langage au « typage dynamique », c'est-à-dire qu'il reconnaît pour vous le type des variables au moment de l'exécution. Par exemple :"
   ]
  },
  {
   "cell_type": "code",
   "execution_count": 6,
   "metadata": {
    "id": "d5hlo_OuXuUd"
   },
   "outputs": [
    {
     "data": {
      "text/plain": [
       "[1, 3, 1, 3, 1, 3]"
      ]
     },
     "execution_count": 6,
     "metadata": {},
     "output_type": "execute_result"
    }
   ],
   "source": [
    "def fois(x, y):\n",
    "  return x*y\n",
    "\n",
    "fois(2, 3)\n",
    "fois(3.1415, 5.23)\n",
    "\n",
    "fois(\"to\", 2)\n",
    "\n",
    "fois([1,3], 3)"
   ]
  },
  {
   "cell_type": "markdown",
   "metadata": {
    "id": "dClvO-6OX7Wc"
   },
   "source": [
    "L'opérateur * reconnaît plusieurs types (entiers, floats, chaînes de caractères, listes). Notre fonction fois() est donc capable d'effectuer des tâches différentes ! Même si Python autorise cela, méfiez-vous tout de même de cette grande flexibilité qui pourrait conduire à des surprises dans vos futurs programmes. En général, il est plus judicieux que chaque argument ait un type précis (entiers, floats, chaînes de caractères, etc) et pas l'un ou l'autre."
   ]
  },
  {
   "cell_type": "markdown",
   "metadata": {},
   "source": [
    "# II- Les Modules"
   ]
  },
  {
   "cell_type": "markdown",
   "metadata": {},
   "source": [
    "Un module contient plusieurs fonctions et commandes qui sont regroupées dans un fichier d'extension `.py`.\n",
    "\n",
    "Un module est appelé par la commande `import`.  \n",
    "\n",
    "Un module est considéré comme un script s'il contient des commandes. \n",
    "\n",
    "Lors de l'import d'un script, les commandes sont exécutées tandis que les fonctions sont seulement chargées.\n"
   ]
  },
  {
   "cell_type": "markdown",
   "metadata": {},
   "source": [
    "### Exemple:  \n",
    "nous allons créer un fichier nommé $\\color{red}{\\text{puissance.py}}$ qui va définir 2 fonctions : \n",
    "$\\color{blue}{\\text{carre()}}$ et $\\color{blue}{\\text{cube()}}$.  \n",
    "Un tel fichier est appelé un module et il va pouvoir être importé dans un autre fichier, et en particulier dans le fichier qui contient le programme principal.\n",
    "***\n",
    "``\n",
    "def carre(val):\n",
    "    res = val**2\n",
    "    return res\n",
    "``\n",
    "\n",
    "``\n",
    "def cube(val):\n",
    "    res = val**3\n",
    "    return res\n",
    "`` \n",
    "***\n",
    "Il est maintenant possible d’utiliser dans un programme principal les fonctions qui ont été définies dans le module $\\color{red}{\\text{puissance.py}}$.  \n",
    "Pour cela, il faut importer les fonctions à partir du module.  "
   ]
  },
  {
   "cell_type": "markdown",
   "metadata": {},
   "source": [
    "##### <span style='color:blue'> On peut importer une seule fonction </span>"
   ]
  },
  {
   "cell_type": "code",
   "execution_count": 8,
   "metadata": {},
   "outputs": [
    {
     "name": "stdout",
     "output_type": "stream",
     "text": [
      "le carre vaut 25\n"
     ]
    }
   ],
   "source": [
    "from puissance import carre\n",
    "u = carre(5)\n",
    "print(\"le carre vaut\", u)"
   ]
  },
  {
   "cell_type": "markdown",
   "metadata": {},
   "source": [
    "<code style=\"background:yellow;color:brown\">**Attention :** Le fichier puissance.py doit être dans le même répertoire que le programme principal.</code>"
   ]
  },
  {
   "cell_type": "markdown",
   "metadata": {},
   "source": [
    "##### <span style='color:blue'> on peut aussi importer explicitement les deux fonctions </span>"
   ]
  },
  {
   "cell_type": "code",
   "execution_count": 9,
   "metadata": {},
   "outputs": [
    {
     "name": "stdout",
     "output_type": "stream",
     "text": [
      "le carre vaut 25\n",
      "le cube vaut 125\n"
     ]
    }
   ],
   "source": [
    "from puissance import carre, cube\n",
    "u = carre(5)\n",
    "print(\"le carre vaut\", u)\n",
    "v = cube(5)\n",
    "print(\"le cube vaut\", v)"
   ]
  },
  {
   "cell_type": "markdown",
   "metadata": {},
   "source": [
    "##### <span style='color:blue'> Pour importer toutes les fonctions du module utilisé  </span>"
   ]
  },
  {
   "cell_type": "code",
   "execution_count": 10,
   "metadata": {},
   "outputs": [
    {
     "name": "stdout",
     "output_type": "stream",
     "text": [
      "le carre vaut 25\n",
      "le cube vaut 125\n"
     ]
    }
   ],
   "source": [
    "from puissance import *\n",
    "\n",
    "u = carre(5)\n",
    "print(\"le carre vaut\", u)\n",
    "v = cube(5)\n",
    "print(\"le cube vaut\", v)"
   ]
  },
  {
   "cell_type": "markdown",
   "metadata": {},
   "source": [
    "\n",
    "<code style=\"background:yellow;color:brown\">**Attention :** L’importation de toutes les fonctions avec * est fortement déconseillée. En effet, elle ne permet pas d’avoir une vision claire des fonctions qui ont été importées. Ceci est donc une source potentielle d’erreurs.</code>"
   ]
  },
  {
   "cell_type": "markdown",
   "metadata": {},
   "source": [
    "##### <span style='color:blue'> on peut directement importer le module  </span>"
   ]
  },
  {
   "cell_type": "code",
   "execution_count": 11,
   "metadata": {},
   "outputs": [
    {
     "name": "stdout",
     "output_type": "stream",
     "text": [
      "le carre vaut 25\n",
      "le cube vaut 125\n"
     ]
    }
   ],
   "source": [
    "import puissance\n",
    "u = puissance.carre(5)\n",
    "print(\"le carre vaut\", u)\n",
    "v = puissance.cube(5)\n",
    "print(\"le cube vaut\", v)"
   ]
  },
  {
   "cell_type": "markdown",
   "metadata": {},
   "source": [
    "<code style=\"background:paleturquoise;color:blue\">**Note :** Dans ce cas, il faut préciser le nom du module devant la fonction.</code>"
   ]
  },
  {
   "cell_type": "markdown",
   "metadata": {},
   "source": [
    "##### <span style='color:blue'> on importe le module et on lui donne un alias </span>"
   ]
  },
  {
   "cell_type": "code",
   "execution_count": 12,
   "metadata": {},
   "outputs": [
    {
     "name": "stdout",
     "output_type": "stream",
     "text": [
      "le carre vaut 25\n",
      "le cube vaut 125\n"
     ]
    }
   ],
   "source": [
    "import puissance as pu\n",
    "a = 5\n",
    "u = pu.carre(a)\n",
    "print(\"le carre vaut\", u)\n",
    "v = pu.cube(a)\n",
    "print(\"le cube vaut\", v)"
   ]
  },
  {
   "cell_type": "markdown",
   "metadata": {},
   "source": [
    "##### <span style='color:blue'> on importe une fonction d’un module et on lui donne un alias </span>\n",
    "Il est aussi possible de donner un alias à une fonction comme dans l’exemple suivant :"
   ]
  },
  {
   "cell_type": "code",
   "execution_count": 13,
   "metadata": {},
   "outputs": [
    {
     "name": "stdout",
     "output_type": "stream",
     "text": [
      "le carre vaut 25\n"
     ]
    }
   ],
   "source": [
    "from puissance import carre as ca\n",
    "a = 5\n",
    "u = ca(a)\n",
    "print(\"le carre vaut\", u)"
   ]
  },
  {
   "cell_type": "markdown",
   "metadata": {},
   "source": [
    "# III- Les Packages\n",
    "\n",
    "Quand on a un grand nombre de modules, il peut être intéressant de les organiser dans des dossiers. \n",
    "\n",
    "Un dossier qui rassemble des modules est appelé un package (paquetage en français).\n",
    "\n",
    "Le nom du package est le même que celui du dossier."
   ]
  },
  {
   "cell_type": "markdown",
   "metadata": {},
   "source": [
    "Par exemple, on crée un dossier <code style=\"background:lavenderblush;color:red\"> package1 </code> dans lequel on place le fichier <code style=\"background:lavenderblush;color:red\"> module1.py </code> suivant \n",
    "\n",
    "``\n",
    "def fonction1(a):\n",
    "    return a**2\n",
    "`` "
   ]
  },
  {
   "cell_type": "markdown",
   "metadata": {},
   "source": [
    "On peut ensuite utiliser la fonction **$\\color{crimson}{\\text{fonction1()}}$** définie dans <code style=\"background:lavenderblush;color:red\"> module1.py </code>, en important <code style=\"background:lavenderblush;color:red\"> package1.module1 </code> comme dans l’exemple qui suit :"
   ]
  },
  {
   "cell_type": "code",
   "execution_count": 14,
   "metadata": {},
   "outputs": [
    {
     "name": "stdout",
     "output_type": "stream",
     "text": [
      "u vaut 9\n"
     ]
    }
   ],
   "source": [
    "import Package1.module1\n",
    "\n",
    "u = Package1.module1.fonction1(3)\n",
    "print(\"u vaut\", u)"
   ]
  },
  {
   "cell_type": "markdown",
   "metadata": {},
   "source": [
    "<code style=\"background:paleturquoise;color:blue\">**Note :** Il est aussi possible d’avoir des dossiers imbriqués, c’est-à-dire des dossiers qui contiennent d’autres dossiers.</code>"
   ]
  },
  {
   "cell_type": "markdown",
   "metadata": {},
   "source": [
    "## Installation de Packages : \n",
    "#### Pour installer <code style=\"background:lavenderblush;color:red\">des Packages</code> sous Python il suffit d'utiliser la commande suivante:\n",
    "\n",
    "``    \n",
    " pip install <packagename>\n",
    "``  \n",
    "\n",
    "#### Mais verifiez avant que pip est déja installé \n"
   ]
  },
  {
   "cell_type": "markdown",
   "metadata": {},
   "source": [
    "## Principales packages :"
   ]
  },
  {
   "cell_type": "markdown",
   "metadata": {},
   "source": [
    "#### `NumPy`\n",
    "\n",
    "La bibliothèque NumPy (http://www.numpy.org/) permet d’effectuer des calculs numériques avec Python. Elle introduit une gestion facilitée des tableaux de nombres."
   ]
  },
  {
   "cell_type": "markdown",
   "metadata": {},
   "source": [
    "#### Installation de NumPy\n",
    "Il est très simple d'installer NumPy.\n",
    "\n",
    "<code style=\"background:lavenderblush;color:red\">pip install numpy </code> \n",
    "\n",
    "\n",
    "C'est tout ! "
   ]
  },
  {
   "cell_type": "markdown",
   "metadata": {},
   "source": [
    "Pour utiliser NumPy, Il faut au départ importer le package numpy:\n",
    "\n",
    "<code style=\"background:lavenderblush;color:red\">import numpy as np </code> \n",
    "\n",
    "\n"
   ]
  },
  {
   "cell_type": "markdown",
   "metadata": {},
   "source": [
    "#### `Matplotlib`\n",
    "Celle-ci propose des fonctions de visualisation / graphs avec des commandes proches de celles de Matlab. Aussi connue sous le nom de `pylab`. La [gallerie](http://matplotlib.org/1.3.1/gallery.html) de cette librairie propose tout un ensemble d'exemples de graphiques avec le code Python pour les générer. \n",
    "\n",
    "De même que `Numpy`, on peut installer et importer `Matplotlib` par les commandes suivantes:\n",
    "\n",
    "<code style=\"background:lavenderblush;color:red\">pip install Matplotlib </code> \n",
    "\n",
    "<code style=\"background:lavenderblush;color:red\">import Matplotlib as plt </code> \n",
    "\n"
   ]
  },
  {
   "cell_type": "markdown",
   "metadata": {},
   "source": [
    "#### `SciPy`\n",
    "Cette librairie est un ensemble très complet de modules d'algèbre linéaire, statistiques et autres algorithmes numériques. Le site  de la documentation qui fournit la [liste](http://docs.scipy.org/doc/scipy/reference). "
   ]
  },
  {
   "cell_type": "markdown",
   "metadata": {},
   "source": [
    "### Quelques manipulations:"
   ]
  },
  {
   "cell_type": "markdown",
   "metadata": {},
   "source": [
    "`numpy.linspace(début,fin,nombre d'élement)` permet d’obtenir un tableau 1D allant d’une valeur de départ à une valeur de fin avec un nombre donné d’éléments."
   ]
  },
  {
   "cell_type": "code",
   "execution_count": 16,
   "metadata": {},
   "outputs": [
    {
     "data": {
      "text/plain": [
       "Text(0.5, 1.0, 'Mon figure')"
      ]
     },
     "execution_count": 16,
     "metadata": {},
     "output_type": "execute_result"
    },
    {
     "data": {
      "image/png": "[encoded data removed]",
      "text/plain": [
       "<Figure size 432x288 with 1 Axes>"
      ]
     },
     "metadata": {
      "needs_background": "light"
     },
     "output_type": "display_data"
    }
   ],
   "source": [
    "import numpy as np\n",
    "from matplotlib.pylab import *\n",
    "x = np.linspace(0, 2 * np.pi, 100)\n",
    "y = 2 * np.sin(x)\n",
    "plot(x,y)\n",
    "xlabel(\"x values\")\n",
    "ylabel(\"y values\")\n",
    "title(\"Mon figure\")\n",
    "show()"
   ]
  },
  {
   "cell_type": "markdown",
   "metadata": {},
   "source": [
    "Le module `numpy.random` fournit toute une liste de fonctions pour la génération de matrices aléatoires."
   ]
  },
  {
   "cell_type": "code",
   "execution_count": 18,
   "metadata": {},
   "outputs": [
    {
     "data": {
      "text/plain": [
       "array([[0.66124527, 0.66395377],\n",
       "       [0.85082487, 0.87081915],\n",
       "       [0.81925021, 0.72881247],\n",
       "       [0.06383746, 0.17539818]])"
      ]
     },
     "execution_count": 18,
     "metadata": {},
     "output_type": "execute_result"
    }
   ],
   "source": [
    "from numpy import random\n",
    "random.rand(4,2) #tirage uniforme"
   ]
  },
  {
   "cell_type": "code",
   "execution_count": 19,
   "metadata": {},
   "outputs": [
    {
     "data": {
      "text/plain": [
       "array([[ 0.36910915, -0.84338369],\n",
       "       [-1.88461452, -1.44391955],\n",
       "       [ 0.46360755, -0.05543519],\n",
       "       [ 0.02918569,  2.14681279]])"
      ]
     },
     "execution_count": 19,
     "metadata": {},
     "output_type": "execute_result"
    }
   ],
   "source": [
    "random.randn(4,2) #tirage selon la loi N(0,1)"
   ]
  },
  {
   "cell_type": "code",
   "execution_count": 21,
   "metadata": {},
   "outputs": [
    {
     "data": {
      "image/png": "[encoded data removed]",
      "text/plain": [
       "<Figure size 432x288 with 1 Axes>"
      ]
     },
     "metadata": {
      "needs_background": "light"
     },
     "output_type": "display_data"
    }
   ],
   "source": [
    "v=random.randn(1000)\n",
    "#print(v)\n",
    "import matplotlib.pyplot as plt\n",
    "plt.hist(v,20) # histogramme à 20 pas\n",
    "show()"
   ]
  },
  {
   "cell_type": "markdown",
   "metadata": {},
   "source": [
    "### On peut même avec <code style=\"background:lavenderblush;color:red\">Numpy</code> Sauver, écrire dans un fichier, lire un fichier\n"
   ]
  },
  {
   "cell_type": "code",
   "execution_count": 23,
   "metadata": {},
   "outputs": [],
   "source": [
    "M=random.randn(10,10)\n",
    "np.savetxt('data.csv',M,fmt='%2.2f',delimiter=',')"
   ]
  },
  {
   "cell_type": "markdown",
   "metadata": {},
   "source": [
    "<code style=\"background:paleturquoise;color:blue\">**Note :** Il y'a aussi d'autres fonctions tels que genfromtxt et avetxt qui permettent de lire, écrire des fichiers textes par exemple au format .csv mais ces fonctionnalités sont plus largement abordées avec la librairie pandas. </code>"
   ]
  },
  {
   "cell_type": "markdown",
   "metadata": {},
   "source": [
    "## Amusez a regarder les modules `SciPy`, `tkinter`, `pandas`, `cmath`."
   ]
  },
  {
   "cell_type": "markdown",
   "metadata": {},
   "source": [
    "### Bibliothèques tierces\n",
    "Outre les modules intégrés à la distribution standard de Python, on trouve des biblio-\n",
    "thèques dans tous les domaines :\n",
    "- scientifique ;\n",
    "- bases de données ;\n",
    "- tests fonctionnels et contrôle de qualité ;\n",
    "- 3D ;\n",
    "- ...\n",
    "\n",
    "Le site [PYPI](pypi.python.org/pypi) (The Python Package Index) recense des milliers de modules\n",
    "et de packages !"
   ]
  },
  {
   "cell_type": "markdown",
   "metadata": {},
   "source": [
    "<!--NAVIGATION-->\n",
    "<  [Fonctions et Modules](Part_3.ipynb) | [Sommaire](Intro_Phyton_Master.ipynb) >"
   ]
  }
 ],
 "metadata": {
  "colab": {
   "authorship_tag": "ABX9TyPawUYgdRCpeAqvVGJvbTY4",
   "collapsed_sections": [],
   "name": "part-3",
   "provenance": []
  },
  "kernelspec": {
   "display_name": "Python 3",
   "language": "python",
   "name": "python3"
  },
  "language_info": {
   "codemirror_mode": {
    "name": "ipython",
    "version": 3
   },
   "file_extension": ".py",
   "mimetype": "text/x-python",
   "name": "python",
   "nbconvert_exporter": "python",
   "pygments_lexer": "ipython3",
   "version": "3.8.5"
  }
 },
 "nbformat": 4,
 "nbformat_minor": 1
}
