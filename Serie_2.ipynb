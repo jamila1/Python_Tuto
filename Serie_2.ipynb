{
 "cells": [
  {
   "cell_type": "markdown",
   "id": "9b7d3ed6",
   "metadata": {},
   "source": [
    "# $\\color{blue}{\\text{Exercice 1 (Deviner le résultat)}}$ \n",
    "\n",
    "\n",
    "Calculer f(0, 0, 0), f(−2, 0, 3), f(−2, 3, 0), f(2, 0, 2), f(1, 0, 2), f(3, −1, −2)"
   ]
  },
  {
   "cell_type": "code",
   "execution_count": null,
   "id": "aa6a4c94",
   "metadata": {},
   "outputs": [],
   "source": [
    "def f(x,a,b):\n",
    "    if a>b:\n",
    "        a,b=b,a\n",
    "    if x<=a:\n",
    "        return a\n",
    "    elif x>=b:\n",
    "        return b\n",
    "    else:\n",
    "        if (x-a)>(b-x):\n",
    "            return b\n",
    "        else:\n",
    "            return a\n",
    "print(f(0, 0, 0), f(-2, 0, 3), f(-2, 3, 0), f(2, 0, 2), f(1, 0, 2), f(3, -1, -2))       "
   ]
  },
  {
   "cell_type": "markdown",
   "id": "b3243435",
   "metadata": {},
   "source": [
    "# $\\color{blue}{\\text{Exercice 2}}$ \n",
    "\n",
    "\n",
    "Écrire un module $\\color{red}{\\text{(Som_Prem.py)}}$ définissant deux fonctions : somDiv et estPremier \n",
    "\n",
    "• la fonction $\\color{red}{\\text{somDiv}}$ retourne la somme des diviseurs propres de son argument;  \n",
    "\n",
    "• la fonction $\\color{red}{\\text{estPremier}}$ vérifie que son argument est premier, et retourne un booléen (elle retourne True , sinon elle retourne False).\n"
   ]
  },
  {
   "cell_type": "code",
   "execution_count": null,
   "id": "d8f02af9",
   "metadata": {},
   "outputs": [],
   "source": [
    "def somDiv(n):\n",
    "    \"\"\"Retourne la somme des diviseurs propres de <n>.\"\"\"\n",
    "    somme = 1\n",
    "    for i in range(2, n//2+1):\n",
    "        if n % i == 0:\n",
    "            somme += i\n",
    "    return somme\n",
    "\n",
    "def estPremier(n):\n",
    "    \"\"\"Teste si <n> est parfait.\"\"\"\n",
    "    return True if somDiv(n) == 1 else False"
   ]
  },
  {
   "cell_type": "code",
   "execution_count": null,
   "id": "54b6f1a2",
   "metadata": {},
   "outputs": [],
   "source": [
    "import Som_Prem as sp\n",
    "a = sp.somDiv(16)\n",
    "b = sp.estPremier(16)\n",
    "\n",
    "print(b)\n"
   ]
  },
  {
   "cell_type": "markdown",
   "id": "bd1f82c1",
   "metadata": {},
   "source": [
    "# $\\color{blue}{\\text{Exercice 3}}$ \n",
    "\n",
    "Écrire une fonction $\\color{red}{\\text{CompterMots}}$ ayant un argument (une chaîne de caractères) et qui\n",
    "renvoie un dictionnaire qui contient la fréquence de tous les mots de la chaîne entrée."
   ]
  },
  {
   "cell_type": "code",
   "execution_count": null,
   "id": "b56c01bb",
   "metadata": {},
   "outputs": [],
   "source": [
    "def cm(text)\n",
    "    dict={}\n",
    "    liste = text.split()\n",
    "    for i in liste:\n",
    "        if i not in dict:\n",
    "            dict[i] = 1\n",
    "        else:\n",
    "            dict[i] = dict[i] + 1\n",
    "        "
   ]
  },
  {
   "cell_type": "code",
   "execution_count": 5,
   "id": "fcb0f8a9",
   "metadata": {},
   "outputs": [
    {
     "name": "stdout",
     "output_type": "stream",
     "text": [
      "Ala --> 2\n",
      "Met --> 3\n",
      "Asn --> 4\n",
      "Glu --> 2\n",
      "Cys --> 1\n",
      "Hou --> 1\n",
      "Gli --> 1\n"
     ]
    }
   ],
   "source": [
    "def compterMots(texte):\n",
    "    dict = {}\n",
    "    listeMots = texte.split()\n",
    "    for mot in listeMots:\n",
    "        if mot in dict:\n",
    "            dict[mot] = dict[mot] + 1\n",
    "        else:\n",
    "            dict[mot] = 1\n",
    "        \n",
    "    return dict\n",
    "\n",
    "\n",
    "# programme principal -----------------------------------------------\n",
    "res = compterMots(\"Ala Met Asn Glu Met Cys Asn Glu Hou Ala Met Gli Asn Asn\")\n",
    "for c in res.keys():\n",
    "    print(c, \"-->\", res[c])"
   ]
  },
  {
   "cell_type": "markdown",
   "id": "0a76936d",
   "metadata": {},
   "source": [
    "# $\\color{blue}{\\text{Exercice 4}}$ \n",
    "\n",
    "Tracer dans le même repère les droites suivantes (sur [−2; 2]):  \n",
    "\n",
    "    • f(x) = x + 1 \n",
    "    • g(x) = 2.5  \n",
    "    • x = 3 \n",
    "Ajouter une grille, la légende, un titre"
   ]
  },
  {
   "cell_type": "markdown",
   "id": "8cfdfbe9",
   "metadata": {},
   "source": [
    "### $\\color{red}{\\text{Note : }}$\n",
    "\n",
    ">> Il est possible de fixer indépendamment les domaines des abscisses et des ordonnées en utilisant les fonctions <code style=\"background:lavenderblush;color:red\"> xlim(xmin, xmax)</code> et <code style=\"background:lavenderblush;color:red\"> ylim(ymin, ymax)</code>. \n",
    "\n",
    ">> On peut ajouter un titre grâce à l’instruction <code style=\"background:lavenderblush;color:red\">title()</code>.\n",
    "\n",
    ">> On peut ajouter une légende grâce à l’instruction <code style=\"background:lavenderblush;color:red\"> legend()</code>.\n",
    "\n",
    ">> Des labels sur les axes peuvent être ajoutés avec les fonctions <code style=\"background:lavenderblush;color:red\"> xlabel()</code> et <code style=\"background:lavenderblush;color:red\"> ylabel()</code>.\n"
   ]
  },
  {
   "cell_type": "code",
   "execution_count": 6,
   "id": "40c793a7",
   "metadata": {},
   "outputs": [
    {
     "data": {
      "image/png": "[encoded data removed]",
      "text/plain": [
       "<Figure size 432x288 with 1 Axes>"
      ]
     },
     "metadata": {
      "needs_background": "light"
     },
     "output_type": "display_data"
    }
   ],
   "source": [
    "import matplotlib.pyplot as plt \n",
    "\n",
    "import numpy as np\n",
    "x = np.arange(-2, 2, 0.1)\n",
    "f = x + 1\n",
    "\n",
    "\n",
    "plt.plot(x, f, label = 'f(x) = x+1')\n",
    "plt.axhline(y = 2.5, color = 'r', label = 'g(x)=2.5') \n",
    "plt.axvline(x = 3, color = 'g', label = 'x = 3') \n",
    "\n",
    "#plt.xlim(-2, 2)\n",
    "plt.title(\"Mon Figure\")\n",
    "plt.xlabel(\"abscisses\")\n",
    "plt.ylabel(\"ordonnees\")\n",
    "plt.legend()\n",
    "\n",
    "plt.show() # affiche la figure a l'ecran"
   ]
  },
  {
   "cell_type": "markdown",
   "id": "f5e8f2ca",
   "metadata": {},
   "source": [
    "# $\\color{blue}{\\text{Exercice 5}}$ \n",
    "\n",
    "Écrire un programme en Python qui permet de créer un fichier texte appelé `teste1.txt` et d’écrire la ligne “Bonjour tout le monde” dans ce fichier"
   ]
  },
  {
   "cell_type": "code",
   "execution_count": null,
   "id": "3d866691",
   "metadata": {},
   "outputs": [],
   "source": [
    "f=open(\"teste1.txt\",\"w\") #ouverture du fichier teste1 en mode ecriture,\n",
    "#Si le fichier existe son contenu sera ecrasé sinon il sera créé. \n",
    "ligne='Bonjour tout le monde'\n",
    "f.write(ligne) # la méthode write permet d'écrire un texte dans le fichier f\n",
    "\n",
    "f.close()"
   ]
  },
  {
   "cell_type": "markdown",
   "id": "7c543427",
   "metadata": {},
   "source": [
    "**$\\color{red}{\\text{Remarque : }}$** Python va générer une erreur (exception)Si le fichier en encours d'utilisation par une autre application ou s'il est ouvert\n",
    "teste1.txt est le nom physique du fichier\n"
   ]
  },
  {
   "cell_type": "markdown",
   "id": "e94da441",
   "metadata": {},
   "source": [
    "# $\\color{blue}{\\text{Exercice 6}}$ \n",
    "\n",
    "1- Une fonction qui calcule le nombre de mots d’un texte (on considère que les mots sont séparés par un et un seule symbole (autre que lettres))"
   ]
  },
  {
   "cell_type": "code",
   "execution_count": 10,
   "id": "496d519e",
   "metadata": {},
   "outputs": [],
   "source": [
    "def Calcule_nombre_mots(texte): \n",
    "    liste = texte.split()\n",
    "    nbr_mots = len(liste)\n",
    "    return nbr_mots      "
   ]
  },
  {
   "cell_type": "markdown",
   "id": "79898e60",
   "metadata": {},
   "source": [
    "2- Une fonction qui permet de créer un fichier dont son nom est passé en paramètre."
   ]
  },
  {
   "cell_type": "code",
   "execution_count": 4,
   "id": "d389b642",
   "metadata": {},
   "outputs": [],
   "source": [
    "def creer_fichier(nom_fichier):\n",
    "    f=open(nom_fichier,\"w\") \n",
    "    f.close()"
   ]
  },
  {
   "cell_type": "markdown",
   "id": "88336813",
   "metadata": {},
   "source": [
    "3- Une fonction qui permet d’ajouter des lignes dans un fichier dont son nom est passé en paramètre."
   ]
  },
  {
   "cell_type": "code",
   "execution_count": 3,
   "id": "43a626bb",
   "metadata": {},
   "outputs": [],
   "source": [
    " \n",
    "def Ajouter_lignes(nom_fichier):\n",
    "    f=open(nom_fichier,\"a\") \n",
    "    while True: # boucle ouverte\n",
    "        ligne=input(\"Entrer une ligne, ligne vide pour terminer: \")\n",
    "        if ligne==\"\":break # arrêt de la boucle si l'utilisateur n'a rien saisi (chaine vide)\n",
    "        f.write(ligne+\"\\n\") \n",
    "    f.close()"
   ]
  },
  {
   "cell_type": "markdown",
   "id": "b81a91d3",
   "metadata": {},
   "source": [
    "4- Une fonction qui permet d’afficher le contenu d’un fichier dont son nom est passé en paramètre."
   ]
  },
  {
   "cell_type": "code",
   "execution_count": 11,
   "id": "dc0bfdfd",
   "metadata": {},
   "outputs": [],
   "source": [
    "def Afficher(nom_fichier):\n",
    "    f=open(nom_fichier,\"r\") \n",
    "    texte=f.read()\n",
    "    print(texte)\n",
    "    f.close() "
   ]
  },
  {
   "cell_type": "markdown",
   "id": "aeab59a0",
   "metadata": {},
   "source": [
    "5- Une fonction qui permet d’afficher les propriétés (nombre de lignes, nombre de mots, nombre de caractères et la taille) d’un fichier dont son nom est passé en paramètre."
   ]
  },
  {
   "cell_type": "code",
   "execution_count": 8,
   "id": "093b830f",
   "metadata": {},
   "outputs": [],
   "source": [
    "def propriete(nom_fichier):\n",
    "    import os.path # importation de la bibliothèque os.path pour utiliser la fonction getsize()\n",
    "     \n",
    "    f=open(nom_fichier,\"r\") \n",
    "    liste_lignes=f.readlines() \n",
    "    nombre_lignes=len(liste_lignes)\n",
    "    nombre_caracteres=0 # compteur de calcule de nombre des caractères\n",
    "    nombre_mots=0 # compteur de calcule de nombre des mots\n",
    "    for ligne in liste_lignes: \n",
    "        nombre_caracteres+=len(ligne)\n",
    "        nombre_mots+=Calcule_nombre_mots(ligne) #Calcule_nombre_mots(ligne) retourne le nombre de mot du texte ligne\n",
    "    taille=os.path.getsize(nom_fichier);#getsize retourne la taille du fichier\n",
    "    print(\"Nombre de lignes=\",nombre_lignes)\n",
    "    print(\"Nombre de mots=\",nombre_mots)\n",
    "    print(\"Nombre de caracteres=\",nombre_caracteres)\n",
    "    print(\"Taille=\",taille,\"octets\")\n",
    "    f.close()"
   ]
  },
  {
   "cell_type": "markdown",
   "id": "874a7706",
   "metadata": {},
   "source": [
    "6- Un programme principale avec un menu  pour exécuter ces fonctions. "
   ]
  },
  {
   "cell_type": "code",
   "execution_count": 14,
   "id": "3409f2e8",
   "metadata": {},
   "outputs": [
    {
     "name": "stdout",
     "output_type": "stream",
     "text": [
      "\n",
      "\n",
      "**************************************************\n",
      "1--> Pour créer un fichier\n",
      "2--> Pour ajouter des lignes au fichier\n",
      "3--> Pour afficher le fichier\n",
      "4--> Pour afficher les propriètés d'un fichier\n",
      "5--> Pour quitter\n",
      "\n",
      "Entrer votre choix: 4\n",
      "**************************************************\n",
      "Nombre de lignes= 1\n",
      "Nombre de mots= 3\n",
      "Nombre de caracteres= 15\n",
      "Taille= 15 octets\n",
      "\n",
      "\n",
      "**************************************************\n",
      "1--> Pour créer un fichier\n",
      "2--> Pour ajouter des lignes au fichier\n",
      "3--> Pour afficher le fichier\n",
      "4--> Pour afficher les propriètés d'un fichier\n",
      "5--> Pour quitter\n",
      "\n",
      "Entrer votre choix: 5\n",
      "**************************************************\n"
     ]
    }
   ],
   "source": [
    "while True:\n",
    "    print(\"\\n\\n**************************************************\")\n",
    "    print(\"1--> Pour créer un fichier\")\n",
    "    print(\"2--> Pour ajouter des lignes au fichier\")\n",
    "    print(\"3--> Pour afficher le fichier\")\n",
    "    print(\"4--> Pour afficher les propriètés d'un fichier\")\n",
    "    print(\"5--> Pour quitter\")\n",
    "    choix=int(input(\"\\nEntrer votre choix: \"))\n",
    "    print(\"**************************************************\")\n",
    "    if choix==1:\n",
    "        nom_fichier=input(\"Entrer le nom de votre fichier à créer: \")\n",
    "        creer_fichier(nom_fichier)\n",
    "    elif choix==2:Ajouter_lignes(nom_fichier)        \n",
    "    elif choix==3:Afficher(nom_fichier)\n",
    "    elif choix==4:propriete(nom_fichier)\n",
    "    elif choix==5:break;\n",
    "    else:print(\"Erreur choix: \")"
   ]
  },
  {
   "cell_type": "markdown",
   "id": "5b8060a6",
   "metadata": {},
   "source": [
    "<!--NAVIGATION-->\n",
    "<  [Exercices de Série_2](Serie_2.ipynb) | [Sommaire](Intro_Phyton_Master.ipynb) >"
   ]
  }
 ],
 "metadata": {
  "kernelspec": {
   "display_name": "Python 3",
   "language": "python",
   "name": "python3"
  },
  "language_info": {
   "codemirror_mode": {
    "name": "ipython",
    "version": 3
   },
   "file_extension": ".py",
   "mimetype": "text/x-python",
   "name": "python",
   "nbconvert_exporter": "python",
   "pygments_lexer": "ipython3",
   "version": "3.8.5"
  }
 },
 "nbformat": 4,
 "nbformat_minor": 5
}
