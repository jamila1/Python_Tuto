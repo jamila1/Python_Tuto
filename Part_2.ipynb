{
 "cells": [
  {
   "cell_type": "markdown",
   "metadata": {
    "id": "8miW-vySB0gE"
   },
   "source": [
    "# **8.Les conditions**\n",
    "\n",
    "## **8.1 L'instruction if**\n",
    " \n",
    "Syntaxe\n",
    "\n",
    "if expression: #ne pas oublier le signe de ponctuation ':'\n",
    "bloc d'instructions\n",
    "\n",
    "l'indentation # suite du programme\n",
    " \n",
    "\n",
    "Si l'expression est vraie (True) alors le bloc d'instructions est exécuté. Si l'expression est fausse (False) on passe directement à la suite du programme.\n",
    "Premier script\n",
    "\n",
    "Nous allons commencer par créer le script :"
   ]
  },
  {
   "cell_type": "code",
   "execution_count": 1,
   "metadata": {
    "colab": {
     "base_uri": "https://localhost:8080/"
    },
    "executionInfo": {
     "elapsed": 17502,
     "status": "ok",
     "timestamp": 1649367614992,
     "user": {
      "displayName": "PHE APC",
      "userId": "02415328306550162043"
     },
     "user_tz": -120
    },
    "id": "CD3N1ZdPjR65",
    "outputId": "5f18b093-373c-411e-9912-85c9bb633a68"
   },
   "outputs": [
    {
     "name": "stdout",
     "output_type": "stream",
     "text": [
      "Note sur 20 : 15\n",
      "J'ai la moyenne\n",
      "Fin du programme\n"
     ]
    }
   ],
   "source": [
    "#Copier puis coller le code source ci-dessous :\n",
    "\n",
    "# script\n",
    "\n",
    "chaine = input(\"Note sur 20 : \")\n",
    "note = float(chaine) \n",
    "if note >= 10.0:\n",
    "    print(\"J'ai la moyenne\")\n",
    "print(\"Fin du programme\")\n",
    "\n",
    "# ce bloc est exécuté si l'expression (note >=10.0) est vraie     print(\"J'ai la moyenne\") print(\"Fin du programme\")"
   ]
  },
  {
   "cell_type": "markdown",
   "metadata": {
    "id": "lMxwX5l1jda_"
   },
   "source": [
    "Exécutez le script :\n",
    "\n",
    "L'instruction else\n",
    "\n",
    "Une instruction else est toujours associée à une instruction if\n",
    "Syntaxe\n",
    "\n",
    "if expression:\n",
    "\t\n",
    "\n",
    "### attention à\n",
    "\n",
    "bloc d'instructions 1\n",
    "\n",
    "l'indentation\n",
    " \n",
    "\n",
    "else:\n",
    "\t\n",
    "\n",
    "### else est au même niveau\n",
    "\n",
    "que if\n",
    "\n",
    "### attention à\n",
    "\n",
    "bloc d'instructions 2\n",
    "\n",
    "l'indentation # suite du programme\n",
    " \n",
    "Si l'expression est vraie (True) alors le bloc d'instructions 1 est exécuté. Si l'expression est fausse (False) alors c'est le bloc d'instructions 2 qui est exécuté.\n"
   ]
  },
  {
   "cell_type": "code",
   "execution_count": 2,
   "metadata": {
    "colab": {
     "base_uri": "https://localhost:8080/"
    },
    "executionInfo": {
     "elapsed": 7918,
     "status": "ok",
     "timestamp": 1649260264844,
     "user": {
      "displayName": "jamila chouqar",
      "userId": "03442807739942265681"
     },
     "user_tz": 0
    },
    "id": "S0IC0J4ukT7x",
    "outputId": "df42b851-bb4c-466d-985e-b5378b4b1d9f"
   },
   "outputs": [
    {
     "name": "stdout",
     "output_type": "stream",
     "text": [
      "Note sur 20 : 5\n",
      "C'est en dessous de la moyenne\n",
      "Fin du programme\n"
     ]
    }
   ],
   "source": [
    "# script\n",
    "\n",
    "chaine = input(\"Note sur 20 : \") \n",
    "note = float(chaine) \n",
    "if note >= 10.0:\n",
    "  print(\"J'ai la moyenne\")\n",
    "else:\n",
    "  print(\"C'est en dessous de la moyenne\")\n",
    "  print(\"Fin du programme\")    \n",
    "\n",
    "\n",
    "# ce bloc est exécuté si l'expression (note >=10.0) est vraie     print(\"J'ai la moyenne\") else:\n",
    "\n",
    "# ce bloc est exécuté si l'expression (note >=10.0) est fausse     print(\"C'est en dessous de la moyenne\") print(\"Fin du programme\")"
   ]
  },
  {
   "cell_type": "markdown",
   "metadata": {
    "id": "Gfe1lACXkWv7"
   },
   "source": [
    "Pour traiter le cas des notes invalides (<0 ou >20), on peut imbriquer des instructions conditionnelles :\n"
   ]
  },
  {
   "cell_type": "code",
   "execution_count": 3,
   "metadata": {
    "id": "DLkT-n2il-C6"
   },
   "outputs": [
    {
     "name": "stdout",
     "output_type": "stream",
     "text": [
      "Note sur 20 : 10\n",
      "J'ai la moyenne\n",
      "Fin du programme\n"
     ]
    }
   ],
   "source": [
    "# script\n",
    "chaine = input(\"Note sur 20 : \") \n",
    "note = float(chaine) \n",
    "if note > 20.0 or note < 0.0:\n",
    "  print(\"Note invalide !\") \n",
    "else:\n",
    "  if note >= 10.0:\n",
    "    print(\"J'ai la moyenne\")\n",
    "  else:\n",
    "    print(\"C'est en dessous de la moyenne\")\n",
    "print(\"Fin du programme\")\n",
    "# ce bloc est exécuté si l'expression (note >20.0 or note < 0.0) est vraie     print(\"Note invalide !\") else:\n",
    "# ce bloc est exécuté si l'expression (note >20.0 or note < 0.0) est fausse     if note >= 10.0:\n",
    "# ce bloc est exécuté si l'expression (note>= 10.0) est vraie         print(\"J'ai la moyenne\")     else:\n",
    "# ce bloc est exécuté si l'expression (note>= 10.0) est fausse         print(\"C'est en dessous de la moyenne\") print(\"Fin du programme\")\n"
   ]
  },
  {
   "cell_type": "markdown",
   "metadata": {
    "id": "JWSiqMdZmBAi"
   },
   "source": [
    "On ajoute encore un niveau d'imbrication pour traiter les cas particuliers 0 et 20 :\n"
   ]
  },
  {
   "cell_type": "markdown",
   "metadata": {
    "id": "D_AmJqfouYEO"
   },
   "source": [
    "## **8.2 L'instruction elif**\n",
    "\n",
    "Une instruction elif (contraction de else if) est toujours associée à une instruction if\n",
    "Syntaxe\n",
    "\n",
    "if expression 1:\n",
    "\n",
    "bloc d'instructions 1  expression 2:\n",
    "\n",
    "bloc d'instructions 2  expression 3:\n",
    "\n",
    "bloc d'instructions 3 # ici deux instructions, mais il n'y a pas de limitation\n",
    "\n",
    "de bloc d'instructions 4\n",
    "\n",
    "### suite du programme\n",
    "\n",
    "elif\n",
    "\n",
    "elif\n",
    "\n",
    "elif\n",
    "\n",
    "else\n",
    " \n",
    "\n",
    "Si l'expression 1 est vraie alors le bloc d'instructions 1 est exécuté, et on passe à la suite du programme.\n",
    "\n",
    "Si l'expression 1 est fausse alors on teste l'expression 2 :\n",
    "\n",
    "si l'expression 2 est vraie on exécute le bloc d'instructions 2, et on passe à la suite du programme.\n",
    "\n",
    "si l'expression 2 est fausse alors on teste l'expression 3, etc.\n",
    "\n",
    "Le bloc d'instructions 4 est donc exécuté si toutes les expressions sont fausses (c'est le bloc \"par défaut\").\n",
    "\n",
    "Parfois il n'y a rien à faire.\n",
    "\n",
    "Dans ce cas, on peut omettre l'instruction else \n",
    " \n",
    "\n",
    "L'instruction elif évite souvent l'utilisation de conditions imbriquées (et souvent compliquées).\n",
    "Exemple"
   ]
  },
  {
   "cell_type": "code",
   "execution_count": 5,
   "metadata": {
    "id": "d5x1pirktijs"
   },
   "outputs": [
    {
     "name": "stdout",
     "output_type": "stream",
     "text": [
      "Note sur 20 : 11\n",
      "J'ai la moyenne\n",
      "Fin du programme\n"
     ]
    }
   ],
   "source": [
    "# script\n",
    "\n",
    "# ce script fait la même chose que\n",
    "\n",
    "note = float(input(\"Note sur 20 : \")) \n",
    "if note == 0.0:\n",
    "  print(\"C'est en dessous de la moyenne\")     \n",
    "  print(\" lamentable !\") \n",
    "elif note == 20.0:\n",
    "  print(\"J'ai la moyenne\")     \n",
    "  print(\"C'est même excellent !\") \n",
    "elif note < 10.0 and note > 0.0: # ou bien : elif 0.0 < note < 10.0:\n",
    "  print(\"C'est en dessous de la moyenne\") \n",
    "elif note >= 10.0 and note < 20.0: # ou bien : elif 10.0 <= note < 20.0:     \n",
    "  print(\"J'ai la moyenne\") \n",
    "else:\n",
    "  print(\"Note invalide !\") \n",
    "print(\"Fin du programme\") "
   ]
  },
  {
   "cell_type": "markdown",
   "metadata": {
    "id": "a4IXE24xu91S"
   },
   "source": [
    "# **9.Les boucles**\n",
    " Une boucle permet d'exécuter une portion de code plusieurs fois de suite.\n",
    "## **9.1 L'instruction while**\n",
    " \n",
    "Syntaxe\n",
    "\n",
    "while expression:   # ne pas oublier le signe de ponctuation ':'\n",
    "\n",
    "bloc d'instructions\n",
    "\n",
    "\n",
    "Si l'expression est vraie (True) le bloc d'instructions est exécuté, puis l'expression est à nouveau évaluée.\n",
    "\n",
    "Le cycle continue jusqu'à ce que l'expression soit fausse (False) : on passe alors à la suite du programme. "
   ]
  },
  {
   "cell_type": "markdown",
   "metadata": {
    "id": "9aqvUQHewTHo"
   },
   "source": [
    " Exemple : Table de multiplication par 8\n",
    "\n",
    "\n"
   ]
  },
  {
   "cell_type": "code",
   "execution_count": 6,
   "metadata": {
    "colab": {
     "base_uri": "https://localhost:8080/"
    },
    "executionInfo": {
     "elapsed": 461,
     "status": "ok",
     "timestamp": 1649260717762,
     "user": {
      "displayName": "jamila chouqar",
      "userId": "03442807739942265681"
     },
     "user_tz": 0
    },
    "id": "EFm-0sM3yUVE",
    "outputId": "d65223cc-0162-4ccf-b7d2-d0833ae3900e"
   },
   "outputs": [
    {
     "name": "stdout",
     "output_type": "stream",
     "text": [
      "1 * 8 = 8\n",
      "2 * 8 = 16\n",
      "3 * 8 = 24\n",
      "4 * 8 = 32\n",
      "5 * 8 = 40\n",
      "6 * 8 = 48\n",
      "7 * 8 = 56\n",
      "8 * 8 = 64\n",
      "9 * 8 = 72\n",
      "10 * 8 = 80\n"
     ]
    }
   ],
   "source": [
    "# script\n",
    "compteur = 1 # initialisation de la variable de comptage \n",
    "while compteur <= 10:# ce bloc est exécuté tant que la condition (compteur <= 10) est vraie     \n",
    "  print(compteur, '* 8 =', compteur*8)     \n",
    "  compteur += 1    # incrémentation du compteur, compteur = compteur + 1 print(\"Et voilà !\") "
   ]
  },
  {
   "cell_type": "markdown",
   "metadata": {
    "id": "3nA3xjsT4aow"
   },
   "source": [
    "## 9.2 L'instruction for \n",
    "\n",
    "for élément in séquence :\n",
    "  bloc d'instructions\n",
    "  suite du programme\n",
    "\n",
    "Les éléments de la séquence sont issus d'une chaîne de caractères ou bien d'une liste. Exemple avec une séquence de caractères\n",
    "script"
   ]
  },
  {
   "cell_type": "code",
   "execution_count": 7,
   "metadata": {
    "colab": {
     "base_uri": "https://localhost:8080/"
    },
    "executionInfo": {
     "elapsed": 535,
     "status": "ok",
     "timestamp": 1649260803944,
     "user": {
      "displayName": "jamila chouqar",
      "userId": "03442807739942265681"
     },
     "user_tz": 0
    },
    "id": "xNHh40dq7b9I",
    "outputId": "aeb8b4dd-659e-4552-eb1d-c8fcbecdec36"
   },
   "outputs": [
    {
     "name": "stdout",
     "output_type": "stream",
     "text": [
      "Pierre\n",
      "Fin de la boucle\n",
      "67.5\n",
      "Fin de la boucle\n",
      "18\n",
      "Fin de la boucle\n"
     ]
    }
   ],
   "source": [
    "# script\n",
    "\n",
    "maliste = ['Pierre', 67.5, 18] \n",
    "for element in maliste:     \n",
    "  print(element) \n",
    "  print(\"Fin de la boucle\")"
   ]
  },
  {
   "cell_type": "markdown",
   "metadata": {
    "id": "udTO5ksj7pv8"
   },
   "source": [
    "Là, on affiche dans l'ordre les éléments de la liste :"
   ]
  },
  {
   "cell_type": "markdown",
   "metadata": {
    "id": "P-hEGSmh7rGq"
   },
   "source": [
    "Fonction range()\n",
    "\n",
    "L'association avec la fonction range() est très utile pour créer des séquences automatiques de nombres entiers :"
   ]
  },
  {
   "cell_type": "code",
   "execution_count": 8,
   "metadata": {
    "colab": {
     "base_uri": "https://localhost:8080/"
    },
    "executionInfo": {
     "elapsed": 401,
     "status": "ok",
     "timestamp": 1649260876971,
     "user": {
      "displayName": "jamila chouqar",
      "userId": "03442807739942265681"
     },
     "user_tz": 0
    },
    "id": "B3UEIKuI7rn6",
    "outputId": "b39ea2fe-c382-4586-e3aa-6eedcd665671"
   },
   "outputs": [
    {
     "name": "stdout",
     "output_type": "stream",
     "text": [
      "1\n",
      "Fin de la boucle\n",
      "2\n",
      "Fin de la boucle\n",
      "3\n",
      "Fin de la boucle\n",
      "4\n",
      "Fin de la boucle\n"
     ]
    }
   ],
   "source": [
    "# script print(list(range(1,5)))\n",
    "for i in range(1,5):\n",
    "  print(i)\n",
    "  print(\"Fin de la boucle\")"
   ]
  },
  {
   "cell_type": "markdown",
   "metadata": {
    "id": "FxVqPTRP8HVG"
   },
   "source": [
    "Table de multiplication\n",
    "\n",
    "La création d'une table de multiplication paraît plus simple avec une boucle for qu'avec une boucle while :"
   ]
  },
  {
   "cell_type": "code",
   "execution_count": 9,
   "metadata": {
    "id": "2Z9vQKJ38ONw"
   },
   "outputs": [
    {
     "name": "stdout",
     "output_type": "stream",
     "text": [
      "1 * 9 = 9\n",
      "Et voilà !\n",
      "2 * 9 = 18\n",
      "Et voilà !\n",
      "3 * 9 = 27\n",
      "Et voilà !\n",
      "4 * 9 = 36\n",
      "Et voilà !\n",
      "5 * 9 = 45\n",
      "Et voilà !\n",
      "6 * 9 = 54\n",
      "Et voilà !\n",
      "7 * 9 = 63\n",
      "Et voilà !\n",
      "8 * 9 = 72\n",
      "Et voilà !\n",
      "9 * 9 = 81\n",
      "Et voilà !\n",
      "10 * 9 = 90\n",
      "Et voilà !\n"
     ]
    }
   ],
   "source": [
    "# script\n",
    "for compteur in range(1,11):\n",
    "    print(compteur, '* 9 =', compteur*9) \n",
    "    print(\"Et voilà !\")\n"
   ]
  },
  {
   "cell_type": "markdown",
   "metadata": {
    "id": "8LMFY3wc9DWK"
   },
   "source": [
    "Exercice 1: Afficher les entiers de 1 à 10\n",
    "\n",
    "Programme Python qui affiche les nombres de 1 à 10."
   ]
  },
  {
   "cell_type": "code",
   "execution_count": 10,
   "metadata": {
    "id": "VRcpsPpaGbXm"
   },
   "outputs": [
    {
     "name": "stdout",
     "output_type": "stream",
     "text": [
      "Programme qui affiche les nombres de 1 à 10.\n",
      "1\n",
      "2\n",
      "3\n",
      "4\n",
      "5\n",
      "6\n",
      "7\n",
      "8\n",
      "9\n",
      "10\n"
     ]
    }
   ],
   "source": [
    "######### Programme qui affiche les nombres de 1 à 10.\n",
    " \n",
    "print(\"Programme qui affiche les nombres de 1 à 10.\")\n",
    " \n",
    "for i in range(1,11):#créeation d'une boucle de 10 itérations\n",
    "    print(i)"
   ]
  },
  {
   "cell_type": "markdown",
   "metadata": {
    "id": "A0EJhxaNG6O8"
   },
   "source": [
    "Exercice 2: Tous les nombres paires inférieures à 100\n",
    "\n",
    "Programme Python qui affiche tous les nombres paires inférieurs à 100."
   ]
  },
  {
   "cell_type": "code",
   "execution_count": 11,
   "metadata": {
    "id": "6wLBz0xWG761"
   },
   "outputs": [
    {
     "name": "stdout",
     "output_type": "stream",
     "text": [
      "\n",
      "***** Tous les nombres paires inférieurs à 100  ***** \n",
      "\n",
      "0\t2\t4\t6\t8\t10\t12\t14\t16\t18\t20\t22\t24\t26\t28\t30\t32\t34\t36\t38\t40\t42\t44\t46\t48\t50\t52\t54\t56\t58\t60\t62\t64\t66\t68\t70\t72\t74\t76\t78\t80\t82\t84\t86\t88\t90\t92\t94\t96\t98\t100\t"
     ]
    }
   ],
   "source": [
    "####### Programme qui affiche tous les nombres paires inférieurs à 100\n",
    " \n",
    "print(\"\\n***** Tous les nombres paires inférieurs à 100  ***** \\n\")\n",
    " \n",
    "for i in range(0,101,2) : #boucle de 0 à 100 avec un pas égale à 2\n",
    "    print(i,end=\"\\t\") # pour afficher tous les nombres dans une ligne (séparer par une tabulation \\t) au lieu des les affichés chaqun dans une ligne"
   ]
  },
  {
   "cell_type": "code",
   "execution_count": 12,
   "metadata": {
    "id": "nsdbdTl4HM3Y"
   },
   "outputs": [
    {
     "name": "stdout",
     "output_type": "stream",
     "text": [
      "\n",
      "***** Tous les nombres paires inférieurs à 100  ***** \n",
      "\n",
      "0\t2\t4\t6\t8\t10\t12\t14\t16\t18\t20\t22\t24\t26\t28\t30\t32\t34\t36\t38\t40\t42\t44\t46\t48\t50\t52\t54\t56\t58\t60\t62\t64\t66\t68\t70\t72\t74\t76\t78\t80\t82\t84\t86\t88\t90\t92\t94\t96\t98\t100\t"
     ]
    }
   ],
   "source": [
    "####### Programme qui affiche tous les nombres paires inférieurs à 100\n",
    " \n",
    "print(\"\\n***** Tous les nombres paires inférieurs à 100  ***** \\n\")\n",
    " \n",
    "for i in range(0,101) : \n",
    "    if i%2==0:\n",
    "        print(i,end=\"\\t\") # pour afficher tous les nombres dans une ligne (séparer par une tabulation \\t) au lieu des les affichés chaqun dans une ligne"
   ]
  },
  {
   "cell_type": "markdown",
   "metadata": {
    "id": "nQKdvssSNePn"
   },
   "source": [
    "Exercice 3: Résoudre une équation du second degré en Python"
   ]
  },
  {
   "cell_type": "markdown",
   "metadata": {
    "id": "AzWmJxymLv9g"
   },
   "source": [
    "Pour calculer une racine carrée, il faut utiliser le module math de Python. Pour cela, on peut taper le code suivant au début de notre fichier :"
   ]
  },
  {
   "cell_type": "code",
   "execution_count": null,
   "metadata": {
    "id": "loWSvcm9LxC0"
   },
   "outputs": [],
   "source": [
    "import math"
   ]
  },
  {
   "cell_type": "markdown",
   "metadata": {
    "id": "q0CANsyYL4HF"
   },
   "source": [
    "Ensuite, on calcule la racine carrée d’un nombre x en utilisant math.sqrt(x). Le mot sqrt est une abréviation de l’anglais « square root » qui veut dire « racine carrée »."
   ]
  },
  {
   "cell_type": "code",
   "execution_count": 13,
   "metadata": {
    "id": "Vo3jbpDEQypV"
   },
   "outputs": [
    {
     "name": "stdout",
     "output_type": "stream",
     "text": [
      "a = 2\n",
      "b = 1\n",
      "c = 2\n",
      "il n accepte pas une solution en R\n"
     ]
    }
   ],
   "source": [
    "import math\n",
    "\n",
    "a = float(input(\"a = \"))\n",
    "b = float(input(\"b = \"))\n",
    "c = float(input(\"c = \"))\n",
    "delta = b*b-(4.2*a*c)\n",
    "if delta > 0:\n",
    "  racineDeDelta=math.sqrt(delta)\n",
    "  x1=(-b-racineDeDelta)/(2*a)\n",
    "  x2=(-b+racineDeDelta)/(2*a)\n",
    "  print(\"Cette equation est acceptée deux solutions qui sont:\",x1,\"et\",x2)\n",
    "elif delta < 0:\n",
    "  print(\"il n accepte pas une solution en R\")  #liste vide\n",
    "else:\n",
    "  x1= [-b/(2*a)] #liste d'un seul élément\n",
    "  print(\"Cette equation est acceptée une seule solution qui est:\",x1)"
   ]
  },
  {
   "cell_type": "markdown",
   "metadata": {},
   "source": [
    "<!--NAVIGATION-->\n",
    "<  [Conditions et Boucles](Part_2.ipynb) | [Sommaire](Intro_Phyton_Master.ipynb) >\n"
   ]
  }
 ],
 "metadata": {
  "colab": {
   "collapsed_sections": [],
   "name": "Part-2",
   "provenance": []
  },
  "kernelspec": {
   "display_name": "Python 3",
   "language": "python",
   "name": "python3"
  },
  "language_info": {
   "codemirror_mode": {
    "name": "ipython",
    "version": 3
   },
   "file_extension": ".py",
   "mimetype": "text/x-python",
   "name": "python",
   "nbconvert_exporter": "python",
   "pygments_lexer": "ipython3",
   "version": "3.8.5"
  }
 },
 "nbformat": 4,
 "nbformat_minor": 1
}
